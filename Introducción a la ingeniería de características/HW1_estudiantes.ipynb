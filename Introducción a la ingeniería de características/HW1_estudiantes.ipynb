{
 "cells": [
  {
   "cell_type": "markdown",
   "metadata": {},
   "source": [
    "# Mini Proyecto 1\n",
    "\n",
    "## Aprendizaje Automático Intermedio e Ingeniería de Características\n",
    "\n",
    "### Febrero 2021\n",
    "\n",
    "**Emilio Parrado Hernández, Vanessa Gómez Verdejo, Pablo Martínez Olmos**\n",
    "\n",
    "Departamento de Teoría de la Señal y Comunicaciones\n",
    "\n",
    "**Universidad Carlos III de Madrid**\n",
    "\n",
    "<img src='http://www.tsc.uc3m.es/~emipar/BBVA/INTRO/img/logo_uc3m_foot.jpg' width=400 />"
   ]
  },
  {
   "cell_type": "markdown",
   "metadata": {},
   "source": [
    "# Carga de datos y comprensión de las variables"
   ]
  },
  {
   "cell_type": "code",
   "execution_count": 1,
   "metadata": {},
   "outputs": [
    {
     "ename": "ImportError",
     "evalue": "Missing optional dependency 'xlrd'. Install xlrd >= 1.0.0 for Excel support Use pip or conda to install xlrd.",
     "output_type": "error",
     "traceback": [
      "\u001b[1;31m---------------------------------------------------------------------------\u001b[0m",
      "\u001b[1;31mImportError\u001b[0m                               Traceback (most recent call last)",
      "\u001b[1;32m<ipython-input-1-5e6bc91f0644>\u001b[0m in \u001b[0;36m<module>\u001b[1;34m\u001b[0m\n\u001b[0;32m      6\u001b[0m                   \u001b[0mheader\u001b[0m\u001b[1;33m=\u001b[0m\u001b[1;36m1\u001b[0m\u001b[1;33m,\u001b[0m\u001b[1;33m\u001b[0m\u001b[1;33m\u001b[0m\u001b[0m\n\u001b[0;32m      7\u001b[0m                 \u001b[0mskiprows\u001b[0m\u001b[1;33m=\u001b[0m\u001b[1;36m0\u001b[0m\u001b[1;33m,\u001b[0m\u001b[1;33m\u001b[0m\u001b[1;33m\u001b[0m\u001b[0m\n\u001b[1;32m----> 8\u001b[1;33m                   index_col=0)\n\u001b[0m",
      "\u001b[1;32mc:\\program files\\anaconda3\\envs\\news\\lib\\site-packages\\pandas\\util\\_decorators.py\u001b[0m in \u001b[0;36mwrapper\u001b[1;34m(*args, **kwargs)\u001b[0m\n\u001b[0;32m    294\u001b[0m                 )\n\u001b[0;32m    295\u001b[0m                 \u001b[0mwarnings\u001b[0m\u001b[1;33m.\u001b[0m\u001b[0mwarn\u001b[0m\u001b[1;33m(\u001b[0m\u001b[0mmsg\u001b[0m\u001b[1;33m,\u001b[0m \u001b[0mFutureWarning\u001b[0m\u001b[1;33m,\u001b[0m \u001b[0mstacklevel\u001b[0m\u001b[1;33m=\u001b[0m\u001b[0mstacklevel\u001b[0m\u001b[1;33m)\u001b[0m\u001b[1;33m\u001b[0m\u001b[1;33m\u001b[0m\u001b[0m\n\u001b[1;32m--> 296\u001b[1;33m             \u001b[1;32mreturn\u001b[0m \u001b[0mfunc\u001b[0m\u001b[1;33m(\u001b[0m\u001b[1;33m*\u001b[0m\u001b[0margs\u001b[0m\u001b[1;33m,\u001b[0m \u001b[1;33m**\u001b[0m\u001b[0mkwargs\u001b[0m\u001b[1;33m)\u001b[0m\u001b[1;33m\u001b[0m\u001b[1;33m\u001b[0m\u001b[0m\n\u001b[0m\u001b[0;32m    297\u001b[0m \u001b[1;33m\u001b[0m\u001b[0m\n\u001b[0;32m    298\u001b[0m         \u001b[1;32mreturn\u001b[0m \u001b[0mwrapper\u001b[0m\u001b[1;33m\u001b[0m\u001b[1;33m\u001b[0m\u001b[0m\n",
      "\u001b[1;32mc:\\program files\\anaconda3\\envs\\news\\lib\\site-packages\\pandas\\io\\excel\\_base.py\u001b[0m in \u001b[0;36mread_excel\u001b[1;34m(io, sheet_name, header, names, index_col, usecols, squeeze, dtype, engine, converters, true_values, false_values, skiprows, nrows, na_values, keep_default_na, na_filter, verbose, parse_dates, date_parser, thousands, comment, skipfooter, convert_float, mangle_dupe_cols)\u001b[0m\n\u001b[0;32m    302\u001b[0m \u001b[1;33m\u001b[0m\u001b[0m\n\u001b[0;32m    303\u001b[0m     \u001b[1;32mif\u001b[0m \u001b[1;32mnot\u001b[0m \u001b[0misinstance\u001b[0m\u001b[1;33m(\u001b[0m\u001b[0mio\u001b[0m\u001b[1;33m,\u001b[0m \u001b[0mExcelFile\u001b[0m\u001b[1;33m)\u001b[0m\u001b[1;33m:\u001b[0m\u001b[1;33m\u001b[0m\u001b[1;33m\u001b[0m\u001b[0m\n\u001b[1;32m--> 304\u001b[1;33m         \u001b[0mio\u001b[0m \u001b[1;33m=\u001b[0m \u001b[0mExcelFile\u001b[0m\u001b[1;33m(\u001b[0m\u001b[0mio\u001b[0m\u001b[1;33m,\u001b[0m \u001b[0mengine\u001b[0m\u001b[1;33m=\u001b[0m\u001b[0mengine\u001b[0m\u001b[1;33m)\u001b[0m\u001b[1;33m\u001b[0m\u001b[1;33m\u001b[0m\u001b[0m\n\u001b[0m\u001b[0;32m    305\u001b[0m     \u001b[1;32melif\u001b[0m \u001b[0mengine\u001b[0m \u001b[1;32mand\u001b[0m \u001b[0mengine\u001b[0m \u001b[1;33m!=\u001b[0m \u001b[0mio\u001b[0m\u001b[1;33m.\u001b[0m\u001b[0mengine\u001b[0m\u001b[1;33m:\u001b[0m\u001b[1;33m\u001b[0m\u001b[1;33m\u001b[0m\u001b[0m\n\u001b[0;32m    306\u001b[0m         raise ValueError(\n",
      "\u001b[1;32mc:\\program files\\anaconda3\\envs\\news\\lib\\site-packages\\pandas\\io\\excel\\_base.py\u001b[0m in \u001b[0;36m__init__\u001b[1;34m(self, path_or_buffer, engine)\u001b[0m\n\u001b[0;32m    865\u001b[0m         \u001b[0mself\u001b[0m\u001b[1;33m.\u001b[0m\u001b[0m_io\u001b[0m \u001b[1;33m=\u001b[0m \u001b[0mstringify_path\u001b[0m\u001b[1;33m(\u001b[0m\u001b[0mpath_or_buffer\u001b[0m\u001b[1;33m)\u001b[0m\u001b[1;33m\u001b[0m\u001b[1;33m\u001b[0m\u001b[0m\n\u001b[0;32m    866\u001b[0m \u001b[1;33m\u001b[0m\u001b[0m\n\u001b[1;32m--> 867\u001b[1;33m         \u001b[0mself\u001b[0m\u001b[1;33m.\u001b[0m\u001b[0m_reader\u001b[0m \u001b[1;33m=\u001b[0m \u001b[0mself\u001b[0m\u001b[1;33m.\u001b[0m\u001b[0m_engines\u001b[0m\u001b[1;33m[\u001b[0m\u001b[0mengine\u001b[0m\u001b[1;33m]\u001b[0m\u001b[1;33m(\u001b[0m\u001b[0mself\u001b[0m\u001b[1;33m.\u001b[0m\u001b[0m_io\u001b[0m\u001b[1;33m)\u001b[0m\u001b[1;33m\u001b[0m\u001b[1;33m\u001b[0m\u001b[0m\n\u001b[0m\u001b[0;32m    868\u001b[0m \u001b[1;33m\u001b[0m\u001b[0m\n\u001b[0;32m    869\u001b[0m     \u001b[1;32mdef\u001b[0m \u001b[0m__fspath__\u001b[0m\u001b[1;33m(\u001b[0m\u001b[0mself\u001b[0m\u001b[1;33m)\u001b[0m\u001b[1;33m:\u001b[0m\u001b[1;33m\u001b[0m\u001b[1;33m\u001b[0m\u001b[0m\n",
      "\u001b[1;32mc:\\program files\\anaconda3\\envs\\news\\lib\\site-packages\\pandas\\io\\excel\\_xlrd.py\u001b[0m in \u001b[0;36m__init__\u001b[1;34m(self, filepath_or_buffer)\u001b[0m\n\u001b[0;32m     19\u001b[0m         \"\"\"\n\u001b[0;32m     20\u001b[0m         \u001b[0merr_msg\u001b[0m \u001b[1;33m=\u001b[0m \u001b[1;34m\"Install xlrd >= 1.0.0 for Excel support\"\u001b[0m\u001b[1;33m\u001b[0m\u001b[1;33m\u001b[0m\u001b[0m\n\u001b[1;32m---> 21\u001b[1;33m         \u001b[0mimport_optional_dependency\u001b[0m\u001b[1;33m(\u001b[0m\u001b[1;34m\"xlrd\"\u001b[0m\u001b[1;33m,\u001b[0m \u001b[0mextra\u001b[0m\u001b[1;33m=\u001b[0m\u001b[0merr_msg\u001b[0m\u001b[1;33m)\u001b[0m\u001b[1;33m\u001b[0m\u001b[1;33m\u001b[0m\u001b[0m\n\u001b[0m\u001b[0;32m     22\u001b[0m         \u001b[0msuper\u001b[0m\u001b[1;33m(\u001b[0m\u001b[1;33m)\u001b[0m\u001b[1;33m.\u001b[0m\u001b[0m__init__\u001b[0m\u001b[1;33m(\u001b[0m\u001b[0mfilepath_or_buffer\u001b[0m\u001b[1;33m)\u001b[0m\u001b[1;33m\u001b[0m\u001b[1;33m\u001b[0m\u001b[0m\n\u001b[0;32m     23\u001b[0m \u001b[1;33m\u001b[0m\u001b[0m\n",
      "\u001b[1;32mc:\\program files\\anaconda3\\envs\\news\\lib\\site-packages\\pandas\\compat\\_optional.py\u001b[0m in \u001b[0;36mimport_optional_dependency\u001b[1;34m(name, extra, raise_on_missing, on_version)\u001b[0m\n\u001b[0;32m    108\u001b[0m     \u001b[1;32mexcept\u001b[0m \u001b[0mImportError\u001b[0m\u001b[1;33m:\u001b[0m\u001b[1;33m\u001b[0m\u001b[1;33m\u001b[0m\u001b[0m\n\u001b[0;32m    109\u001b[0m         \u001b[1;32mif\u001b[0m \u001b[0mraise_on_missing\u001b[0m\u001b[1;33m:\u001b[0m\u001b[1;33m\u001b[0m\u001b[1;33m\u001b[0m\u001b[0m\n\u001b[1;32m--> 110\u001b[1;33m             \u001b[1;32mraise\u001b[0m \u001b[0mImportError\u001b[0m\u001b[1;33m(\u001b[0m\u001b[0mmsg\u001b[0m\u001b[1;33m)\u001b[0m \u001b[1;32mfrom\u001b[0m \u001b[1;32mNone\u001b[0m\u001b[1;33m\u001b[0m\u001b[1;33m\u001b[0m\u001b[0m\n\u001b[0m\u001b[0;32m    111\u001b[0m         \u001b[1;32melse\u001b[0m\u001b[1;33m:\u001b[0m\u001b[1;33m\u001b[0m\u001b[1;33m\u001b[0m\u001b[0m\n\u001b[0;32m    112\u001b[0m             \u001b[1;32mreturn\u001b[0m \u001b[1;32mNone\u001b[0m\u001b[1;33m\u001b[0m\u001b[1;33m\u001b[0m\u001b[0m\n",
      "\u001b[1;31mImportError\u001b[0m: Missing optional dependency 'xlrd'. Install xlrd >= 1.0.0 for Excel support Use pip or conda to install xlrd."
     ]
    }
   ],
   "source": [
    "data_sheet = 'https://archive.ics.uci.edu/ml/machine-learning-databases/00350/default%20of%20credit%20card%20clients.xls'\n",
    "import pandas as pd\n",
    "pd.set_option('display.max_columns', None)\n",
    "\n",
    "df = pd.read_excel(data_sheet,\n",
    "                  header=1,\n",
    "                skiprows=0,\n",
    "                  index_col=0)"
   ]
  },
  {
   "cell_type": "code",
   "execution_count": null,
   "metadata": {},
   "outputs": [],
   "source": [
    "df.head()"
   ]
  },
  {
   "cell_type": "markdown",
   "metadata": {},
   "source": [
    "## Descripción de las variables de entrada\n",
    "\n",
    "Esta es la descripción extraída de la web de la que se descargan los datos\n",
    "\n",
    "- This research employed a binary variable, default payment (Yes = 1, No = 0), as the response variable. \n",
    "- This study reviewed the literature and used the following 23 variables as explanatory variables:\n",
    "    - X1: Amount of the given credit (NT dollar): it includes both the individual consumer credit and his/her family (supplementary) credit.\n",
    "    - X2: Gender (1 = male; 2 = female).\n",
    "    - X3: Education (1 = graduate school; 2 = university; 3 = high school; 4 = others).\n",
    "    - X4: Marital status (1 = married; 2 = single; 3 = others).\n",
    "    - X5: Age (year).\n",
    "    - X6 - X11: History of past payment. We tracked the past monthly payment records (from April to September, 2005) as follows: X6 = the repayment status in September, 2005; X7 = the repayment status in August, 2005; . . .;X11 = the repayment status in April, 2005. The measurement scale for the repayment status is: -2=no consumption, -1=pay duly, 0=the use of revolving credit, 1=payment delay for one month, 2=payment delay for two months, … 8=payment delay for eight months, 9=payment delay for nine months and above\n",
    "    - X12-X17: Amount of bill statement (NT dollar). X12 = amount of bill statement in September, 2005; X13 = amount of bill statement in August, 2005; . . .; X17 = amount of bill statement in April, 2005.\n",
    "    - X18-X23: Amount of previous payment (NT dollar). X18 = amount paid in September, 2005; X19 = amount paid in August, 2005; . . .;X23 = amount paid in April, 2005.\n",
    "\n"
   ]
  },
  {
   "cell_type": "code",
   "execution_count": null,
   "metadata": {},
   "outputs": [],
   "source": [
    "# imprimir un registro para ver en detalle cada campo\n",
    "df.loc[1568]"
   ]
  },
  {
   "cell_type": "markdown",
   "metadata": {},
   "source": [
    "## Limpieza de variables\n",
    "\n",
    "Algunas de las variables categóricas presentan valores que no aparecen en la descripción\n",
    "\n",
    "### Education y Marriage"
   ]
  },
  {
   "cell_type": "code",
   "execution_count": null,
   "metadata": {},
   "outputs": [],
   "source": [
    "columns_cat = ['EDUCATION','MARRIAGE']\n",
    "for cc in columns_cat:\n",
    "    print(cc)\n",
    "    print(df[cc].value_counts())\n",
    "    print(\"\")"
   ]
  },
  {
   "cell_type": "markdown",
   "metadata": {},
   "source": [
    "Vemos que aparecen valores que no están en la descripción, vamos a *limpiar* estas variables agrupando del siguiente modo:\n",
    "- `EDUCATION`: pasar los valores $\\{0, 5, 6\\}$ a $4$ (`others`)\n",
    "- `MARRIAGE`: pasar el valor $0$ a $3$ (`others`)"
   ]
  },
  {
   "cell_type": "code",
   "execution_count": null,
   "metadata": {},
   "outputs": [],
   "source": [
    "df.loc[:,'EDUCATION'] = df.loc[:,'EDUCATION'].apply(lambda x: 4 if x==0 else x)\n",
    "df.loc[:,'EDUCATION'] = df.loc[:,'EDUCATION'].apply(lambda x: 4 if x>=4 else x)\n",
    "df.loc[:,'MARRIAGE'] = df.loc[:,'MARRIAGE'].apply(lambda x: 3 if x==0 else x)\n",
    "for cc in columns_cat:\n",
    "    print(cc)\n",
    "    print(df[cc].value_counts())\n",
    "    print(\"\")"
   ]
  },
  {
   "cell_type": "markdown",
   "metadata": {},
   "source": [
    "### Sacar discretas de PAY_0 a PAY_6 (3%)\n",
    "\n",
    "Las variables `PAY_0` a `PAY_6` tienen una interpretación mixta entre categórica y numérica. Los valores $\\{-2, -1 ,0\\}$ pueden considerarse categóricos, mientras que los valores positivos pueden considerarse numéricos.\n",
    "\n",
    "Vamos a codificarlas de modo categórico con las siguientes categorías:\n",
    "- `PAY_X` $=-2$: no consumption\n",
    "- `PAY_X` $=-1$: pay duly  \n",
    "- `PAY_X` $=0$:  use of revolving credit\n",
    "- `PAY_X` $ >0$: payment delay\n",
    "\n",
    "Básicamente tenéis que escribir código que:\n",
    " - transforme todos los valores positivos en un solo valor, por ejemplo $1$\n",
    " - añanda columnas `PAY_X_dis` al dataframe con esos valores discretos"
   ]
  },
  {
   "cell_type": "code",
   "execution_count": null,
   "metadata": {},
   "outputs": [],
   "source": [
    "#############\n",
    "# YOUR CODE #\n",
    "#############\n",
    "for i in df.columns[5:11]:\n",
    "    df[i+'_dis'] = df[i].apply(lambda x: 0 if x in [-2,-1,0] else x)\n",
    "    df[i] = df[i].apply(lambda x: 1 if x>0 else x)\n",
    "#######\n",
    "# END #\n",
    "#######    "
   ]
  },
  {
   "cell_type": "code",
   "execution_count": null,
   "metadata": {},
   "outputs": [],
   "source": [
    "df.head()"
   ]
  },
  {
   "cell_type": "markdown",
   "metadata": {},
   "source": [
    "## Partición en entrenamiento y test (2%)\n",
    "\n",
    "Divida los datos aleatoriamente en dos dataframes con la siguiente distribución de tamaños:\n",
    "- `train_df`: Entrenamiento 20K\n",
    "- `test_df`: Test 10K"
   ]
  },
  {
   "cell_type": "code",
   "execution_count": null,
   "metadata": {},
   "outputs": [],
   "source": [
    "df.shape"
   ]
  },
  {
   "cell_type": "code",
   "execution_count": null,
   "metadata": {},
   "outputs": [],
   "source": [
    "#############\n",
    "# YOUR CODE #\n",
    "#############\n",
    "from sklearn.model_selection import train_test_split\n",
    "\n",
    "train_df, test_df = train_test_split(df, test_size=10000, random_state=42)\n",
    "#######\n",
    "# END #\n",
    "####### "
   ]
  },
  {
   "cell_type": "code",
   "execution_count": null,
   "metadata": {},
   "outputs": [],
   "source": [
    "print(\"Train {0:d} ejemplos\".format(len(train_df)))\n",
    "print(\"Test {0:d} ejemplos\".format(len(test_df)))"
   ]
  },
  {
   "cell_type": "markdown",
   "metadata": {},
   "source": [
    "## Clasificación trivial (5%)\n",
    "\n",
    "El primer paso es establecer el clasificador *baseline* contra el que vamos a comparar los resultados de los modelos que vayamos entrenando a lo largo del *notebook*.\n",
    "\n",
    "Este resultado depende de si las clases están o no desbalanceadas. **Analizad el desbalanceo en el dataframe** `train_df` y elegid el resultado del clasificador *baseline*."
   ]
  },
  {
   "cell_type": "code",
   "execution_count": null,
   "metadata": {},
   "outputs": [],
   "source": [
    "#############\n",
    "# YOUR CODE #\n",
    "#############\n",
    "max_prob_category = train_df['default payment next month'].value_counts(normalize=True, ascending=False)\n",
    "print('Si Clasificador Baseline consiste en predecir que nunca habrá impago (0), Acertaré el %s de las veces'%(train_df['default payment next month'].value_counts(normalize=True)[0]*100))\n",
    "global_results ={} # to store the results of the different models for comparison purposes\n",
    "global_results['Baseline'] = train_df['default payment next month'].value_counts(normalize=True)[0]\n",
    "#######\n",
    "# END #\n",
    "####### "
   ]
  },
  {
   "cell_type": "markdown",
   "metadata": {},
   "source": [
    "# 1. Regresión Logística con variables numéricas\n",
    "\n",
    "El primer modelo que vamos a construir es un clasificador basado en [**regresión logística**](https://scikit-learn.org/stable/modules/generated/sklearn.linear_model.LogisticRegression.html) sólo empleando como entradas las variables numéricas. \n",
    "\n",
    "## 1.1 Identificar variables numéricas (5%)\n",
    "Construid una lista de python llamada `num_var` con las variables numéricas (las que no son categóricas)"
   ]
  },
  {
   "cell_type": "code",
   "execution_count": null,
   "metadata": {},
   "outputs": [],
   "source": [
    "df.head()"
   ]
  },
  {
   "cell_type": "code",
   "execution_count": null,
   "metadata": {},
   "outputs": [],
   "source": [
    "#############\n",
    "# YOUR CODE #\n",
    "#############\n",
    "import re\n",
    "r = re.compile(\"^PAY_[0-9]*$|^SEX$|^EDUCATION$|^MARRIAGE$|^defa*\") # REGEX EXPRESSION\n",
    "num_var = [col for col in df.columns if  col not in list(filter(r.match, df.columns))]\n",
    "#######\n",
    "# END #\n",
    "####### \n",
    "print(\"Variables numéricas\")\n",
    "print(num_var)"
   ]
  },
  {
   "cell_type": "markdown",
   "metadata": {},
   "source": [
    "## 1.2 Construir el modelo de regresión logística solo con las variables numéricas (10%)\n",
    "\n",
    "- Usad `Pipeline` y `GridSearchCV` para introducir un escalado como preprocesado, si lo veis oportuno.\n",
    "- Usad los siguientes nombres para los numpy arrays con los que llaméis los métodos (`fit`, `sore`, `predict`,etc) del regresor logístico:\n",
    "    - `X_train`\n",
    "    - `Y_train`\n",
    "    - `X_test`\n",
    "    - `Y_test`\n",
    "- Comparad el resultado del modelo en el conjunto de test con la solución trivial\n"
   ]
  },
  {
   "cell_type": "code",
   "execution_count": null,
   "metadata": {},
   "outputs": [],
   "source": [
    "#############\n",
    "# YOUR CODE #\n",
    "#############\n",
    "from sklearn.linear_model import LogisticRegression\n",
    "from sklearn.pipeline import Pipeline\n",
    "from sklearn.model_selection import GridSearchCV\n",
    "from sklearn.preprocessing import StandardScaler, MinMaxScaler\n",
    "\n",
    "# Training set observations\n",
    "X_train = train_df[num_var]\n",
    "# Training set targets\n",
    "Y_train = train_df['default payment next month'].values\n",
    "# Test set observations\n",
    "X_test = test_df[num_var]\n",
    "# Test set targets\n",
    "Y_test = test_df['default payment next month'].values\n",
    "\n",
    "# Set the Pipeline\n",
    "pipe = Pipeline(steps=[('scaler', MinMaxScaler()), ('logistic',LogisticRegression())])\n",
    "# Params\n",
    "params_pipe = {'logistic__solver':['lbfgs'],\n",
    "               'logistic__max_iter':[10000],\n",
    "               'logistic__penalty' : ['l2'],\n",
    "               'scaler':[MinMaxScaler(), StandardScaler(),'passthrough']}\n",
    "# GridSearch\n",
    "grid_pipe = GridSearchCV(pipe, param_grid= params_pipe, cv=5)\n",
    "grid_pipe.fit(X_train, Y_train)\n",
    "print(grid_pipe.best_params_,'\\n','_'*100)\n",
    "print(\"Score with the training data {0:.4f}\".format(grid_pipe.score(X_train, Y_train)))\n",
    "print(\"Score with the test data {0:.4f}\".format(grid_pipe.score(X_test,Y_test)))\n",
    "# Storing the result\n",
    "global_results['LogisticRegression'] = grid_pipe.score(X_test,Y_test)\n",
    "#######\n",
    "# END #\n",
    "#######"
   ]
  },
  {
   "cell_type": "markdown",
   "metadata": {},
   "source": [
    "## 1.3 Pintar pesos y dar interpretación (5%)\n",
    "\n",
    "Imprimid los pesos del regresor logístico con el nombre de la variable correspondiente\n",
    "\n",
    "- Peso w0: XXX.XX\n",
    "- peso Variable1: YYY.YY\n",
    "- ...\n",
    "- peso VariableM: ZZZZ.ZZZZ\n",
    "\n",
    "y comentad la relevancia de cada variable en la clasificación. Puede ser de ayuda imprimir los pesos ordenados por valor absoluto."
   ]
  },
  {
   "cell_type": "code",
   "execution_count": null,
   "metadata": {},
   "outputs": [],
   "source": [
    "#############\n",
    "# YOUR CODE #\n",
    "#############\n",
    "scaler = grid_pipe.best_estimator_.named_steps['scaler']\n",
    "logreg = grid_pipe.best_estimator_.named_steps['logistic']\n",
    "weights = []\n",
    "weights_abs = []\n",
    "for var,coef in zip(num_var,logreg.coef_[0]):\n",
    "    weights_abs.append((var,abs(coef)))\n",
    "    weights.append((var,coef))\n",
    "    weights_abs.sort(key=lambda tup: tup[1],reverse=True)\n",
    "\n",
    "print('La variable que más peso tiene es la que describe cuantos meses se han impagado en el mes más reciente',weights_abs[0])\n",
    "weights_abs\n",
    "\n",
    "#######\n",
    "# END #\n",
    "#######"
   ]
  },
  {
   "cell_type": "markdown",
   "metadata": {},
   "source": [
    "## 1.4 Curva ROC (10%)\n",
    "\n",
    "Dibujar la [curva ROC](https://scikit-learn.org/stable/modules/generated/sklearn.metrics.roc_curve.html) del clasificador anterior y calcular el [área bajo la curva](https://scikit-learn.org/stable/modules/generated/sklearn.metrics.roc_auc_score.html). Usad el conjunto de test para este apartado."
   ]
  },
  {
   "cell_type": "code",
   "execution_count": 2,
   "metadata": {},
   "outputs": [
    {
     "ename": "ModuleNotFoundError",
     "evalue": "No module named 'sklearn'",
     "output_type": "error",
     "traceback": [
      "\u001b[1;31m---------------------------------------------------------------------------\u001b[0m",
      "\u001b[1;31mModuleNotFoundError\u001b[0m                       Traceback (most recent call last)",
      "\u001b[1;32m<ipython-input-2-8704d6b71fb3>\u001b[0m in \u001b[0;36m<module>\u001b[1;34m\u001b[0m\n\u001b[0;32m      2\u001b[0m \u001b[1;31m# YOUR CODE #\u001b[0m\u001b[1;33m\u001b[0m\u001b[1;33m\u001b[0m\u001b[1;33m\u001b[0m\u001b[0m\n\u001b[0;32m      3\u001b[0m \u001b[1;31m#############\u001b[0m\u001b[1;33m\u001b[0m\u001b[1;33m\u001b[0m\u001b[1;33m\u001b[0m\u001b[0m\n\u001b[1;32m----> 4\u001b[1;33m \u001b[1;32mfrom\u001b[0m \u001b[0msklearn\u001b[0m \u001b[1;32mimport\u001b[0m \u001b[0mmetrics\u001b[0m\u001b[1;33m\u001b[0m\u001b[1;33m\u001b[0m\u001b[0m\n\u001b[0m\u001b[0;32m      5\u001b[0m \u001b[1;32mimport\u001b[0m \u001b[0mmatplotlib\u001b[0m\u001b[1;33m.\u001b[0m\u001b[0mpyplot\u001b[0m \u001b[1;32mas\u001b[0m \u001b[0mplt\u001b[0m\u001b[1;33m\u001b[0m\u001b[1;33m\u001b[0m\u001b[0m\n\u001b[0;32m      6\u001b[0m \u001b[1;33m\u001b[0m\u001b[0m\n",
      "\u001b[1;31mModuleNotFoundError\u001b[0m: No module named 'sklearn'"
     ]
    }
   ],
   "source": [
    "#############\n",
    "# YOUR CODE #\n",
    "#############\n",
    "from sklearn import metrics\n",
    "import matplotlib.pyplot as plt\n",
    "\n",
    "def roc(x_test, y_test, classifier):\n",
    "    # IMPORTANT: first argument is true values, second argument is predicted probabilities\n",
    "    y_pred_prob = classifier.predict_proba(x_test)[:, 1]\n",
    "    fpr, tpr, thresholds = metrics.roc_curve(y_test, y_pred_prob)\n",
    "    plt.plot(fpr, tpr)\n",
    "    plt.xlim([0.0, 1.0])\n",
    "    plt.ylim([0.0, 1.0])\n",
    "    plt.title('ROC curve for Default Credit Card Clients')\n",
    "    plt.xlabel('False Positive Rate (1 - Specificity)\\n+++Specificity---')\n",
    "    plt.ylabel('True Positive Rate (Sensitivity)\\n---Sensitivity+++')\n",
    "    plt.grid(True)\n",
    "    print('AUC is the percentage of the ROC plot that is underneath the curve:',metrics.roc_auc_score(y_test, y_pred_prob))\n",
    "roc(X_test, Y_test, grid_pipe)\n",
    "#######\n",
    "# END #\n",
    "#######"
   ]
  },
  {
   "cell_type": "markdown",
   "metadata": {},
   "source": [
    "## 1.5 Transformación logarítmica de las variables numéricas y comparar (5%)\n",
    "\n",
    "Para controlar el impacto de los rangos de las variables numéricas vamos a emplear una transformación logarítmica. Como hay valores que pueden ser negativos, y el logaritmo sólo está definido para valores positivos, vamos a extender la transformación de modo que:\n",
    "$$\n",
    "y(x) = \\mbox{signo}(x) \\log_{10}(x)\n",
    "$$\n",
    "\n",
    "Escriba código que:\n",
    "- Aplique la siguiente función para hacer la transformación de los numpy arrays `X_train` y `X_test` en `LXtrain` y `LXtest`.\n",
    "- Entrene un modelo de regresión logística con las variables transformadas\n",
    "- Compare el acierto de este modelo con el baseline y con el modelo anterior\n",
    "- Pinte la curva ROC de este modelo y calcule el área bajo la curva\n",
    "- Imprima los valores de los pesos del modelo correspondiente a cada variable \n",
    "\n",
    "Discuta las diferencias entre este modelo y el anterior"
   ]
  },
  {
   "cell_type": "code",
   "execution_count": 39,
   "metadata": {},
   "outputs": [],
   "source": [
    "import numpy as np\n",
    "def log_transform(x):\n",
    "    negativos = x <0\n",
    "    ceros = x == 0\n",
    "    ax = np.absolute(x)\n",
    "    ax[ceros] = 1\n",
    "    Lx = np.log10(ax)\n",
    "    Lx[negativos] = -Lx[negativos]\n",
    "    Lx[ceros] = 0\n",
    "    return Lx"
   ]
  },
  {
   "cell_type": "code",
   "execution_count": 40,
   "metadata": {},
   "outputs": [
    {
     "name": "stdout",
     "output_type": "stream",
     "text": [
      "{'logistic__max_iter': 10000, 'logistic__penalty': 'l2', 'logistic__solver': 'lbfgs', 'scaler': StandardScaler()} \n",
      " ____________________________________________________________________________________________________\n",
      "Score with the training data 0.8153\n",
      "Score with the test data 0.8147 \n",
      " ____________________________________________________________________________________________________\n",
      "{'Baseline': 0.7773, 'LogisticRegression': 0.8164, 'LOG_LogisticRegression': 0.8147} \n",
      " ____________________________________________________________________________________________________\n",
      "AUC is the percentage of the ROC plot that is underneath the curve: 0.7673280173910637\n",
      "_____________________________________________________________________________________________________ \n",
      "La variable que más peso tiene es la que describe cuantos meses se han impagado en el mes más reciente ('PAY_0_dis', 0.5673520009016434)\n",
      "La cantidad de crédito solicitado se vuelve más relevante con la transformación logarítmica  ('LIMIT_BAL', 0.2142643005468656)\n"
     ]
    },
    {
     "data": {
      "image/png": "[encoded data removed]",
      "text/plain": [
       "<Figure size 432x288 with 1 Axes>"
      ]
     },
     "metadata": {
      "needs_background": "light"
     },
     "output_type": "display_data"
    }
   ],
   "source": [
    "#############\n",
    "# YOUR CODE #\n",
    "#############\n",
    "\n",
    "# Log Transformation\n",
    "LXtrain = X_train.apply(log_transform)\n",
    "LXtest = X_test.apply(log_transform)\n",
    "\n",
    "# GridSearch\n",
    "grid_pipe = GridSearchCV(pipe, param_grid= params_pipe, cv=5)\n",
    "grid_pipe.fit(LXtrain, Y_train)\n",
    "print(grid_pipe.best_params_,'\\n','_'*100)\n",
    "print(\"Score with the training data {0:.4f}\".format(grid_pipe.score(LXtrain, Y_train)))\n",
    "print(\"Score with the test data {0:.4f}\".format(grid_pipe.score(LXtest,Y_test)),'\\n','_'*100)\n",
    "\n",
    "# Storing the result\n",
    "global_results['LOG_LogisticRegression'] = grid_pipe.score(LXtest,Y_test)\n",
    "print(global_results,'\\n','_'*100)\n",
    "\n",
    "# ROC AUC\n",
    "roc(LXtest, Y_test, grid_pipe)\n",
    "\n",
    "# Weights\n",
    "scaler = grid_pipe.best_estimator_.named_steps['scaler']\n",
    "logreg = grid_pipe.best_estimator_.named_steps['logistic']\n",
    "weights = []\n",
    "weights_abs = []\n",
    "for var,coef in zip(num_var,logreg.coef_[0]):\n",
    "    weights_abs.append((var,abs(coef)))\n",
    "    weights.append((var,coef))\n",
    "    weights_abs.sort(key=lambda tup: tup[1],reverse=True)\n",
    "\n",
    "weights_abs\n",
    "\n",
    "print('_'*101,'\\n''La variable que más peso tiene es la que describe cuantos meses se han impagado en el mes más reciente',weights_abs[0])\n",
    "print('La cantidad de crédito solicitado se vuelve más relevante con la transformación logarítmica ',weights_abs[1])\n",
    "#######\n",
    "# END #\n",
    "#######"
   ]
  },
  {
   "cell_type": "markdown",
   "metadata": {},
   "source": [
    "\n",
    "\n",
    "\n",
    "## 1.6 Combinaciones de variables numéricas, extensión polinómica y de ratios (5%)\n",
    "\n",
    "Para completar el análisis de las variables numéricas vamos a extender las mismas con combinaciones de variables. \n",
    "\n",
    "Escriba código que:\n",
    "- Extienda las variables en los arrays `LXtrain` y `LXtest` a combinaciones de grado 2, y con variables sin repetir (es decir, con el argumento `interaction_only=True`).\n",
    "- Entrena un modelo de clasificación con regresión logística con las características resultantes\n",
    "- Compare el acierto de este modelo con el baseline y con los modelos anteriores\n",
    "- Pinte la curva ROC de este modelo y calcule el área bajo la curva\n",
    "- Imprima los valores de los pesos del modelo correspondiente a cada variable \n",
    "\n",
    "Discuta las diferencias entre este modelo y los anteriores"
   ]
  },
  {
   "cell_type": "code",
   "execution_count": 41,
   "metadata": {},
   "outputs": [
    {
     "name": "stdout",
     "output_type": "stream",
     "text": [
      "{'logistic__max_iter': 10000, 'logistic__penalty': 'l2', 'logistic__solver': 'lbfgs', 'scaler': MinMaxScaler()} \n",
      " ____________________________________________________________________________________________________\n",
      "Score with the training data 0.8213\n",
      "Score with the test data 0.8195 \n",
      " ____________________________________________________________________________________________________\n",
      "{'Baseline': 0.7773, 'LogisticRegression': 0.8164, 'LOG_LogisticRegression': 0.8147, 'POL_2_LOG_LogisticRegression': 0.8195} \n",
      " ____________________________________________________________________________________________________\n",
      "AUC is the percentage of the ROC plot that is underneath the curve: 0.7679377879292868\n",
      "_____________________________________________________________________________________________________ \n",
      "La 1º variable que más peso tiene es: ('PAY_0_dis PAY_2_dis', 3.403611443457014)\n",
      "La 2º variable que más peso tiene es: ('BILL_AMT1 PAY_0_dis', 1.9043842149276753)\n"
     ]
    },
    {
     "data": {
      "image/png": "[encoded data removed]",
      "text/plain": [
       "<Figure size 432x288 with 1 Axes>"
      ]
     },
     "metadata": {
      "needs_background": "light"
     },
     "output_type": "display_data"
    }
   ],
   "source": [
    "#############\n",
    "# YOUR CODE #\n",
    "#############\n",
    "from sklearn.preprocessing import PolynomialFeatures\n",
    "poly = PolynomialFeatures(interaction_only=True, \n",
    "                          degree=2,\n",
    "                         include_bias=False)\n",
    "LXtrain_e = poly.fit_transform(LXtrain)\n",
    "LXtest_e = poly.transform(LXtest)\n",
    "\n",
    "# GridSearch\n",
    "grid_pipe = GridSearchCV(pipe, param_grid= params_pipe, cv=5)\n",
    "grid_pipe.fit(LXtrain_e, Y_train)\n",
    "print(grid_pipe.best_params_,'\\n','_'*100)\n",
    "print(\"Score with the training data {0:.4f}\".format(grid_pipe.score(LXtrain_e, Y_train)))\n",
    "print(\"Score with the test data {0:.4f}\".format(grid_pipe.score(LXtest_e,Y_test)),'\\n','_'*100)\n",
    "\n",
    "# Storing the result\n",
    "global_results['POL_2_LOG_LogisticRegression'] = grid_pipe.score(LXtest_e,Y_test)\n",
    "print(global_results,'\\n','_'*100)\n",
    "\n",
    "# ROC AUC\n",
    "roc(LXtest_e, Y_test, grid_pipe)\n",
    "\n",
    "# Weights\n",
    "scaler = grid_pipe.best_estimator_.named_steps['scaler']\n",
    "logreg = grid_pipe.best_estimator_.named_steps['logistic']\n",
    "weights = []\n",
    "weights_abs = []\n",
    "for var,coef in zip(poly.get_feature_names(num_var),logreg.coef_[0]):\n",
    "    weights_abs.append((var,abs(coef)))\n",
    "    weights.append((var,coef))\n",
    "    weights_abs.sort(key=lambda tup: tup[1],reverse=True)\n",
    "\n",
    "weights_abs\n",
    "\n",
    "print('_'*101,'\\n''La 1º variable que más peso tiene es:',weights_abs[0])\n",
    "print('La 2º variable que más peso tiene es:',weights_abs[1])\n",
    "#######\n",
    "# END #\n",
    "#######"
   ]
  },
  {
   "cell_type": "markdown",
   "metadata": {},
   "source": [
    "# 2. Añadir variables categóricas con dummy encodings \n",
    "\n",
    "En la siguiente sección vamos a enriquecer los modelos añadiendo variables categóricas\n",
    "\n"
   ]
  },
  {
   "cell_type": "markdown",
   "metadata": {},
   "source": [
    "## 2.1 Discretizar edad en 5 bins (10%)\n",
    "\n",
    "Vamos a comenzar discretizando la edad en 5 *bins*. Escriba código que\n",
    "- Discretice la variable `AGE` en 5 *bins* con aproximadamente el mismo número de clientes en cada bin, incluyendo una columna llamada 'AGE_bins' en los dataframes `train_df` y `test_df` con los números de *bin* correspondiente\n",
    "- Obtenga numpy arrays `X_train_cat_dummy` y `X_test_cat_dummy` con la codificación *dummy* de las variable `AGE_bins`\n",
    "- Extienda las observaciones añadiendo estos arrays a `LXtrain` y `LXtest` (no incluyáis las extensiones polinómicas). Eliminando la columna correspondiente a la variable `AGE`original.\n",
    "- Entrene un modelo de clasificación con regresión logística con las características resultantes\n",
    "- Compare el acierto de este modelo con el baseline y con los modelos anteriores\n",
    "- Pinte la curva ROC de este modelo y calcule el área bajo la curva\n",
    "- Imprima los valores de los pesos del modelo correspondiente a cada variable \n"
   ]
  },
  {
   "cell_type": "code",
   "execution_count": 42,
   "metadata": {},
   "outputs": [
    {
     "name": "stderr",
     "output_type": "stream",
     "text": [
      "C:\\Program Files\\Anaconda3\\lib\\site-packages\\ipykernel_launcher.py:8: SettingWithCopyWarning: \n",
      "A value is trying to be set on a copy of a slice from a DataFrame.\n",
      "Try using .loc[row_indexer,col_indexer] = value instead\n",
      "\n",
      "See the caveats in the documentation: https://pandas.pydata.org/pandas-docs/stable/user_guide/indexing.html#returning-a-view-versus-a-copy\n",
      "  \n",
      "C:\\Program Files\\Anaconda3\\lib\\site-packages\\ipykernel_launcher.py:9: SettingWithCopyWarning: \n",
      "A value is trying to be set on a copy of a slice from a DataFrame.\n",
      "Try using .loc[row_indexer,col_indexer] = value instead\n",
      "\n",
      "See the caveats in the documentation: https://pandas.pydata.org/pandas-docs/stable/user_guide/indexing.html#returning-a-view-versus-a-copy\n",
      "  if __name__ == '__main__':\n"
     ]
    },
    {
     "name": "stdout",
     "output_type": "stream",
     "text": [
      "{'logistic__max_iter': 10000, 'logistic__penalty': 'l2', 'logistic__solver': 'lbfgs', 'scaler': 'passthrough'} \n",
      " ____________________________________________________________________________________________________\n",
      "Score with the training data 0.8153\n",
      "Score with the test data 0.8140 \n",
      " ____________________________________________________________________________________________________\n",
      "{'Baseline': 0.7773, 'LogisticRegression': 0.8164, 'LOG_LogisticRegression': 0.8147, 'POL_2_LOG_LogisticRegression': 0.8195, 'AGE_dummies_LOG_LogisticRegression': 0.814} \n",
      " ____________________________________________________________________________________________________\n",
      "AUC is the percentage of the ROC plot that is underneath the curve: 0.7666141075179865\n",
      "_____________________________________________________________________________________________________ \n",
      "La 1º variable que más peso tiene es: ('PAY_0_dis', 5.069237680775955)\n",
      "La 2º variable que más peso tiene es:  ('PAY_6_dis', 1.151182254751394)\n"
     ]
    },
    {
     "data": {
      "image/png": "[encoded data removed]",
      "text/plain": [
       "<Figure size 432x288 with 1 Axes>"
      ]
     },
     "metadata": {
      "needs_background": "light"
     },
     "output_type": "display_data"
    }
   ],
   "source": [
    "#############\n",
    "# YOUR CODE #\n",
    "#############\n",
    "from sklearn.preprocessing import OneHotEncoder\n",
    "\n",
    "# BINS\n",
    "bins = train_df['AGE'].quantile([.2,.4,.6,.8])\n",
    "train_df['AGE_bins'] = np.digitize(train_df['AGE'].values, bins)\n",
    "test_df['AGE_bins'] = np.digitize(test_df['AGE'].values, bins)\n",
    "\n",
    "# Dummy Coding\n",
    "dummy = OneHotEncoder(sparse = False,drop='first')\n",
    "X_train_cat_dummy = dummy.fit_transform(train_df[['AGE_bins']])\n",
    "X_test_cat_dummy = dummy.transform(test_df[['AGE_bins']])\n",
    "for i in dummy.categories_[0][1:]:\n",
    "    LXtrain['AGE_bin_'+str(i)] = X_train_cat_dummy[:,i-1]\n",
    "    LXtest['AGE_bin_'+str(i)] = X_test_cat_dummy[:,i-1]\n",
    "\n",
    "# FINAL X_Train X_test\n",
    "LXtrain.drop(columns=['AGE'],inplace=True)\n",
    "LXtest.drop(columns=['AGE'],inplace=True)\n",
    "\n",
    "# GridSearch\n",
    "grid_pipe = GridSearchCV(pipe, param_grid= params_pipe, cv=5)\n",
    "grid_pipe.fit(LXtrain, Y_train)\n",
    "print(grid_pipe.best_params_,'\\n','_'*100)\n",
    "print(\"Score with the training data {0:.4f}\".format(grid_pipe.score(LXtrain, Y_train)))\n",
    "print(\"Score with the test data {0:.4f}\".format(grid_pipe.score(LXtest,Y_test)),'\\n','_'*100)\n",
    "\n",
    "# Storing the result\n",
    "global_results['AGE_dummies_LOG_LogisticRegression'] = grid_pipe.score(LXtest,Y_test)\n",
    "print(global_results,'\\n','_'*100)\n",
    "\n",
    "# ROC AUC\n",
    "roc(LXtest, Y_test, grid_pipe)\n",
    "\n",
    "# Weights\n",
    "scaler = grid_pipe.best_estimator_.named_steps['scaler']\n",
    "logreg = grid_pipe.best_estimator_.named_steps['logistic']\n",
    "weights = []\n",
    "weights_abs = []\n",
    "for var,coef in zip(LXtrain.columns,logreg.coef_[0]):\n",
    "    weights_abs.append((var,abs(coef)))\n",
    "    weights.append((var,coef))\n",
    "    weights_abs.sort(key=lambda tup: tup[1],reverse=True)\n",
    "\n",
    "weights_abs\n",
    "\n",
    "print('_'*101,'\\n''La 1º variable que más peso tiene es:',weights_abs[0])\n",
    "print('La 2º variable que más peso tiene es: ',weights_abs[1])\n",
    "#######\n",
    "# END #\n",
    "#######"
   ]
  },
  {
   "cell_type": "markdown",
   "metadata": {},
   "source": [
    "## 2.2 Añadir más variables categóricas: variables PAY_0 a PAY_6 e info sociodemográfica (10%)\n",
    "\n",
    "A continuación  vamos a añadir al modelo las variables que describen el histórico de los usos del crédito y de los retrasos en el pago y las variables `SEX`,`EDUCATION`, `MARRIAGE` y `AGE_bins` codificadas con *dummy encoding*.\n",
    ". Escriba código que: \n",
    "- Obtenga numpy arrays `X_train_cat_dummy` y `X_test_cat_dummy` con la codificación *dummy* de las variables `SEX`,`EDUCATION`,`MARRIAGE`, `PAY_0_dis`, `PAY_2_dis`, `PAY_3_dis`, `PAY_4_dis`, `PAY_5_dis` y `PAY_6_dis`\n",
    "- Extienda las observaciones añadiendo estos arrays a `LXtrain` y `LXtest` (no incluyáis las extensiones polinómicas). Eliminando la columna correspondiente a la variable `AGE`original.\n",
    "- Entrene un modelo de clasificación con regresión logística con las características resultantes\n",
    "- Compare el acierto de este modelo con el baseline y con los modelos anteriores\n",
    "- Pinte la curva ROC de este modelo y calcule el área bajo la curva\n",
    "- Imprima los valores de los pesos del modelo correspondiente a cada variable \n"
   ]
  },
  {
   "cell_type": "code",
   "execution_count": 43,
   "metadata": {},
   "outputs": [
    {
     "name": "stdout",
     "output_type": "stream",
     "text": [
      "{'logistic__max_iter': 10000, 'logistic__penalty': 'l2', 'logistic__solver': 'lbfgs', 'scaler': 'passthrough'} \n",
      " ____________________________________________________________________________________________________\n",
      "Score with the training data 0.8201\n",
      "Score with the test data 0.8194 \n",
      " ____________________________________________________________________________________________________\n",
      "{'Baseline': 0.7773, 'LogisticRegression': 0.8164, 'LOG_LogisticRegression': 0.8147, 'POL_2_LOG_LogisticRegression': 0.8195, 'AGE_dummies_LOG_LogisticRegression': 0.814, 'More_CAT_dummies_LOG_LogisticRegression': 0.8194} \n",
      " ____________________________________________________________________________________________________\n",
      "AUC is the percentage of the ROC plot that is underneath the curve: 0.7696451395742603\n",
      "_____________________________________________________________________________________________________ \n",
      "La 1º variable que más peso tiene es: ('PAY_0_dis', 3.4118392341801753)\n",
      "La 2º variable que más peso tiene es:  ('PAY_2_dis', 2.557112455535565)\n"
     ]
    },
    {
     "data": {
      "image/png": "[encoded data removed]",
      "text/plain": [
       "<Figure size 432x288 with 1 Axes>"
      ]
     },
     "metadata": {
      "needs_background": "light"
     },
     "output_type": "display_data"
    }
   ],
   "source": [
    "#############\n",
    "# YOUR CODE #\n",
    "#############\n",
    "# Dummy Coding\n",
    "\n",
    "def create_dummy(var,train,test,x_train,x_test):\n",
    "    dummy = OneHotEncoder(sparse = False,drop='first')\n",
    "    X_train_cat_dummy = dummy.fit_transform(train[[var]])\n",
    "    X_test_cat_dummy = dummy.transform(test[[var]])\n",
    "    for i in range(len(dummy.categories_[0][1:])):\n",
    "        x_train[var+str(i)] = X_train_cat_dummy[:,i]\n",
    "        x_test[var+str(i)] = X_test_cat_dummy[:,i]\n",
    "\n",
    "cat_vars = ['SEX','EDUCATION','MARRIAGE', 'PAY_0', 'PAY_2', 'PAY_3', 'PAY_4', 'PAY_5', 'PAY_6']\n",
    "for col in cat_vars:\n",
    "    create_dummy(col,train_df,test_df,LXtrain,LXtest)\n",
    "\n",
    "# GridSearch\n",
    "grid_pipe = GridSearchCV(pipe, param_grid= params_pipe, cv=5)\n",
    "grid_pipe.fit(LXtrain, Y_train)\n",
    "print(grid_pipe.best_params_,'\\n','_'*100)\n",
    "print(\"Score with the training data {0:.4f}\".format(grid_pipe.score(LXtrain, Y_train)))\n",
    "print(\"Score with the test data {0:.4f}\".format(grid_pipe.score(LXtest,Y_test)),'\\n','_'*100)\n",
    "\n",
    "# Storing the result\n",
    "global_results['More_CAT_dummies_LOG_LogisticRegression'] = grid_pipe.score(LXtest,Y_test)\n",
    "print(global_results,'\\n','_'*100)\n",
    "\n",
    "# ROC AUC\n",
    "roc(LXtest, Y_test, grid_pipe)\n",
    "\n",
    "# Weights\n",
    "scaler = grid_pipe.best_estimator_.named_steps['scaler']\n",
    "logreg = grid_pipe.best_estimator_.named_steps['logistic']\n",
    "weights = []\n",
    "weights_abs = []\n",
    "for var,coef in zip(LXtrain.columns,logreg.coef_[0]):\n",
    "    weights_abs.append((var,abs(coef)))\n",
    "    weights.append((var,coef))\n",
    "    weights_abs.sort(key=lambda tup: tup[1],reverse=True)\n",
    "\n",
    "weights_abs\n",
    "\n",
    "print('_'*101,'\\n''La 1º variable que más peso tiene es:',weights_abs[0])\n",
    "print('La 2º variable que más peso tiene es: ',weights_abs[1])\n",
    "#######\n",
    "# END #\n",
    "#######"
   ]
  },
  {
   "cell_type": "markdown",
   "metadata": {},
   "source": [
    "## 2.4 OPCIONAL: métodos no lineales (10%, extra)\n",
    "\n",
    "**Este apartado es opcional: su nota se suma a la nota del proyecto, pero no es necesario para conseguir la máxima calificación.**\n",
    "\n",
    "Podemos cambiar la tecnología de clasificación por si acaso el modelo que mejor se ajuste a nuestros datos fuese no lineal. \n",
    "\n",
    "Escribid código que evalúe modelos construidos con $k$ vecinos más próximos. Emplead como juegos de características los del apartado anterior. Explorad el rango de vecinos entre 1 y 101 (no hace falta que probéis todos los valores, que la base de datos no es pequeña)\n",
    "\n",
    "Alternativamente podéis emplear [*Random Forest*](https://scikit-learn.org/stable/modules/generated/sklearn.ensemble.RandomForestClassifier.html) explorando estos rangos de parámetros:\n",
    "- `n_estimators` \n",
    "- `max_leaf_nodes` o `max_depth`"
   ]
  },
  {
   "cell_type": "code",
   "execution_count": 44,
   "metadata": {},
   "outputs": [
    {
     "name": "stdout",
     "output_type": "stream",
     "text": [
      "{'rf__max_depth': 35, 'rf__n_estimators': 85, 'scaler': 'passthrough'} \n",
      " ____________________________________________________________________________________________________\n",
      "Score with the training data 0.9978\n",
      "Score with the test data 0.8127 \n",
      " ____________________________________________________________________________________________________\n",
      "{'Baseline': 0.7773, 'LogisticRegression': 0.8164, 'LOG_LogisticRegression': 0.8147, 'POL_2_LOG_LogisticRegression': 0.8195, 'AGE_dummies_LOG_LogisticRegression': 0.814, 'More_CAT_dummies_LOG_LogisticRegression': 0.8194, 'More_CAT_dummies_LOG_RandomForest': 0.8127} \n",
      " ____________________________________________________________________________________________________\n",
      "AUC is the percentage of the ROC plot that is underneath the curve: 0.7539965997759759\n"
     ]
    },
    {
     "data": {
      "image/png": "[encoded data removed]",
      "text/plain": [
       "<Figure size 432x288 with 1 Axes>"
      ]
     },
     "metadata": {
      "needs_background": "light"
     },
     "output_type": "display_data"
    }
   ],
   "source": [
    "#############\n",
    "# YOUR CODE #\n",
    "#############\n",
    "from sklearn.ensemble import RandomForestClassifier\n",
    "\n",
    "# Set the Pipeline\n",
    "pipe = Pipeline(steps=[('scaler', MinMaxScaler()), ('rf',RandomForestClassifier())])\n",
    "# Params\n",
    "params_pipe = {'rf__n_estimators':[85],#[75,79,81,85],\n",
    "               'rf__max_depth':[35],#[30,35,40],\n",
    "               'scaler':[MinMaxScaler(), StandardScaler(),'passthrough']}\n",
    "# GridSearch\n",
    "grid_pipe = GridSearchCV(pipe, param_grid= params_pipe, cv=5)\n",
    "grid_pipe.fit(LXtrain, Y_train)\n",
    "print(grid_pipe.best_params_,'\\n','_'*100)\n",
    "print(\"Score with the training data {0:.4f}\".format(grid_pipe.score(LXtrain, Y_train)))\n",
    "print(\"Score with the test data {0:.4f}\".format(grid_pipe.score(LXtest,Y_test)),'\\n','_'*100)\n",
    "\n",
    "# Storing the result\n",
    "global_results['More_CAT_dummies_LOG_RandomForest'] = grid_pipe.score(LXtest,Y_test)\n",
    "print(global_results,'\\n','_'*100)\n",
    "\n",
    "# ROC AUC\n",
    "roc(LXtest, Y_test, grid_pipe)\n",
    "\n",
    "#######\n",
    "# END #\n",
    "#######"
   ]
  },
  {
   "cell_type": "markdown",
   "metadata": {},
   "source": [
    "# 3. Estudio de grupos demográficos\n",
    "\n",
    "En la última sección vamos a intentar mejorar la interpretabilidad de los modelos mediante la creción de unas variables que segmenten los clientes atendiendo a criterios sociodemográficos.\n",
    "\n",
    "En primer lugar vamos a definir los segmentos de clientes definidos por las variables `SEX`,`EDUCATION`,`MARRIAGE`,`AGE_bins`. Primero vamos a agrupar estas variables en una única variable categórica `GRUPO` que tomará distintos valores enteros en función de las combinaciones de estas variables.\n",
    "\n",
    "El siguiente código es una manera de conseguir esto. Básicamente cada grupo se codifica con un entero que resulta de sumar los siquientes valores:\n",
    "\n",
    "$$\n",
    "\\mbox{GRUPO}(x) = 1000 \\times x[\\mbox{'SEX'}] + 100 \\times x[\\mbox{'EDUCATION'}] + 10 \\times x[\\mbox{'MARRIAGE'}] + x[\\mbox{'AGE_bins'}] \n",
    "$$\n",
    "\n"
   ]
  },
  {
   "cell_type": "code",
   "execution_count": 45,
   "metadata": {},
   "outputs": [
    {
     "name": "stderr",
     "output_type": "stream",
     "text": [
      "C:\\Program Files\\Anaconda3\\lib\\site-packages\\pandas\\core\\indexing.py:845: SettingWithCopyWarning: \n",
      "A value is trying to be set on a copy of a slice from a DataFrame.\n",
      "Try using .loc[row_indexer,col_indexer] = value instead\n",
      "\n",
      "See the caveats in the documentation: https://pandas.pydata.org/pandas-docs/stable/user_guide/indexing.html#returning-a-view-versus-a-copy\n",
      "  self.obj[key] = _infer_fill_value(value)\n",
      "C:\\Program Files\\Anaconda3\\lib\\site-packages\\pandas\\core\\indexing.py:966: SettingWithCopyWarning: \n",
      "A value is trying to be set on a copy of a slice from a DataFrame.\n",
      "Try using .loc[row_indexer,col_indexer] = value instead\n",
      "\n",
      "See the caveats in the documentation: https://pandas.pydata.org/pandas-docs/stable/user_guide/indexing.html#returning-a-view-versus-a-copy\n",
      "  self.obj[item] = s\n"
     ]
    }
   ],
   "source": [
    "columns_cat = ['SEX','EDUCATION','MARRIAGE','AGE_bins']\n",
    "mascara = np.array([1000, 100, 10, 1])\n",
    "train_df.loc[:,'GRUPO'] = (train_df.loc[:,columns_cat].values).dot(mascara)\n",
    "test_df.loc[:,'GRUPO']= (test_df.loc[:,columns_cat].values).dot(mascara)\n"
   ]
  },
  {
   "cell_type": "markdown",
   "metadata": {},
   "source": [
    "## 3.1 Grupos con dummy encoding y variables continuas (10%)\n",
    "\n",
    "La primera aproximación consiste en codificar *dummy encoding* la variable grupo. En este caso hay que pasarle al objeto `OneHotEncoder` un listado con las categorías que hay en cada característica porque puede que algún grupo minoritario aparezca en el conjunto de test pero no en el de entrenamiento, por lo que el codificador no va a ser capaz de aprender todos los valores de esa característica solo mirando el conjunto de entrenamiento.\n",
    "\n",
    "El siguiente código se encarga de hacer esto mismo. La salida de este código son dos variables a tener en cuenta:\n",
    "- `lista_grupo`: lista de python con todos los valores que puede tomar la variable `GRUPO`\n",
    "- `dict_grupo`: diccionario de python donde cada valor que puede tomar la variable `GRUPO` se empareja con una cadena de caracteres que describe el segmento de clientes que codifica este valor\n",
    "\n"
   ]
  },
  {
   "cell_type": "code",
   "execution_count": 46,
   "metadata": {},
   "outputs": [
    {
     "name": "stdout",
     "output_type": "stream",
     "text": [
      "[[1000, 2000], [100, 200, 300, 400], [10, 20, 30], [0, 1, 2, 3, 4]]\n",
      "\n",
      "lista_grupo:  [1110, 1111, 1112, 1113, 1114, 1120, 1121, 1122, 1123, 1124, 1130, 1131, 1132, 1133, 1134, 1210, 1211, 1212, 1213, 1214, 1220, 1221, 1222, 1223, 1224, 1230, 1231, 1232, 1233, 1234, 1310, 1311, 1312, 1313, 1314, 1320, 1321, 1322, 1323, 1324, 1330, 1331, 1332, 1333, 1334, 1410, 1411, 1412, 1413, 1414, 1420, 1421, 1422, 1423, 1424, 1430, 1431, 1432, 1433, 1434, 2110, 2111, 2112, 2113, 2114, 2120, 2121, 2122, 2123, 2124, 2130, 2131, 2132, 2133, 2134, 2210, 2211, 2212, 2213, 2214, 2220, 2221, 2222, 2223, 2224, 2230, 2231, 2232, 2233, 2234, 2310, 2311, 2312, 2313, 2314, 2320, 2321, 2322, 2323, 2324, 2330, 2331, 2332, 2333, 2334, 2410, 2411, 2412, 2413, 2414, 2420, 2421, 2422, 2423, 2424, 2430, 2431, 2432, 2433, 2434]\n",
      "\n",
      "dict_grupo {1110: 'SEX_1_EDU_1_MAR_1_AGE_0', 1111: 'SEX_1_EDU_1_MAR_1_AGE_1', 1112: 'SEX_1_EDU_1_MAR_1_AGE_2', 1113: 'SEX_1_EDU_1_MAR_1_AGE_3', 1114: 'SEX_1_EDU_1_MAR_1_AGE_4', 1120: 'SEX_1_EDU_1_MAR_2_AGE_0', 1121: 'SEX_1_EDU_1_MAR_2_AGE_1', 1122: 'SEX_1_EDU_1_MAR_2_AGE_2', 1123: 'SEX_1_EDU_1_MAR_2_AGE_3', 1124: 'SEX_1_EDU_1_MAR_2_AGE_4', 1130: 'SEX_1_EDU_1_MAR_3_AGE_0', 1131: 'SEX_1_EDU_1_MAR_3_AGE_1', 1132: 'SEX_1_EDU_1_MAR_3_AGE_2', 1133: 'SEX_1_EDU_1_MAR_3_AGE_3', 1134: 'SEX_1_EDU_1_MAR_3_AGE_4', 1210: 'SEX_1_EDU_2_MAR_1_AGE_0', 1211: 'SEX_1_EDU_2_MAR_1_AGE_1', 1212: 'SEX_1_EDU_2_MAR_1_AGE_2', 1213: 'SEX_1_EDU_2_MAR_1_AGE_3', 1214: 'SEX_1_EDU_2_MAR_1_AGE_4', 1220: 'SEX_1_EDU_2_MAR_2_AGE_0', 1221: 'SEX_1_EDU_2_MAR_2_AGE_1', 1222: 'SEX_1_EDU_2_MAR_2_AGE_2', 1223: 'SEX_1_EDU_2_MAR_2_AGE_3', 1224: 'SEX_1_EDU_2_MAR_2_AGE_4', 1230: 'SEX_1_EDU_2_MAR_3_AGE_0', 1231: 'SEX_1_EDU_2_MAR_3_AGE_1', 1232: 'SEX_1_EDU_2_MAR_3_AGE_2', 1233: 'SEX_1_EDU_2_MAR_3_AGE_3', 1234: 'SEX_1_EDU_2_MAR_3_AGE_4', 1310: 'SEX_1_EDU_3_MAR_1_AGE_0', 1311: 'SEX_1_EDU_3_MAR_1_AGE_1', 1312: 'SEX_1_EDU_3_MAR_1_AGE_2', 1313: 'SEX_1_EDU_3_MAR_1_AGE_3', 1314: 'SEX_1_EDU_3_MAR_1_AGE_4', 1320: 'SEX_1_EDU_3_MAR_2_AGE_0', 1321: 'SEX_1_EDU_3_MAR_2_AGE_1', 1322: 'SEX_1_EDU_3_MAR_2_AGE_2', 1323: 'SEX_1_EDU_3_MAR_2_AGE_3', 1324: 'SEX_1_EDU_3_MAR_2_AGE_4', 1330: 'SEX_1_EDU_3_MAR_3_AGE_0', 1331: 'SEX_1_EDU_3_MAR_3_AGE_1', 1332: 'SEX_1_EDU_3_MAR_3_AGE_2', 1333: 'SEX_1_EDU_3_MAR_3_AGE_3', 1334: 'SEX_1_EDU_3_MAR_3_AGE_4', 1410: 'SEX_1_EDU_4_MAR_1_AGE_0', 1411: 'SEX_1_EDU_4_MAR_1_AGE_1', 1412: 'SEX_1_EDU_4_MAR_1_AGE_2', 1413: 'SEX_1_EDU_4_MAR_1_AGE_3', 1414: 'SEX_1_EDU_4_MAR_1_AGE_4', 1420: 'SEX_1_EDU_4_MAR_2_AGE_0', 1421: 'SEX_1_EDU_4_MAR_2_AGE_1', 1422: 'SEX_1_EDU_4_MAR_2_AGE_2', 1423: 'SEX_1_EDU_4_MAR_2_AGE_3', 1424: 'SEX_1_EDU_4_MAR_2_AGE_4', 1430: 'SEX_1_EDU_4_MAR_3_AGE_0', 1431: 'SEX_1_EDU_4_MAR_3_AGE_1', 1432: 'SEX_1_EDU_4_MAR_3_AGE_2', 1433: 'SEX_1_EDU_4_MAR_3_AGE_3', 1434: 'SEX_1_EDU_4_MAR_3_AGE_4', 2110: 'SEX_2_EDU_1_MAR_1_AGE_0', 2111: 'SEX_2_EDU_1_MAR_1_AGE_1', 2112: 'SEX_2_EDU_1_MAR_1_AGE_2', 2113: 'SEX_2_EDU_1_MAR_1_AGE_3', 2114: 'SEX_2_EDU_1_MAR_1_AGE_4', 2120: 'SEX_2_EDU_1_MAR_2_AGE_0', 2121: 'SEX_2_EDU_1_MAR_2_AGE_1', 2122: 'SEX_2_EDU_1_MAR_2_AGE_2', 2123: 'SEX_2_EDU_1_MAR_2_AGE_3', 2124: 'SEX_2_EDU_1_MAR_2_AGE_4', 2130: 'SEX_2_EDU_1_MAR_3_AGE_0', 2131: 'SEX_2_EDU_1_MAR_3_AGE_1', 2132: 'SEX_2_EDU_1_MAR_3_AGE_2', 2133: 'SEX_2_EDU_1_MAR_3_AGE_3', 2134: 'SEX_2_EDU_1_MAR_3_AGE_4', 2210: 'SEX_2_EDU_2_MAR_1_AGE_0', 2211: 'SEX_2_EDU_2_MAR_1_AGE_1', 2212: 'SEX_2_EDU_2_MAR_1_AGE_2', 2213: 'SEX_2_EDU_2_MAR_1_AGE_3', 2214: 'SEX_2_EDU_2_MAR_1_AGE_4', 2220: 'SEX_2_EDU_2_MAR_2_AGE_0', 2221: 'SEX_2_EDU_2_MAR_2_AGE_1', 2222: 'SEX_2_EDU_2_MAR_2_AGE_2', 2223: 'SEX_2_EDU_2_MAR_2_AGE_3', 2224: 'SEX_2_EDU_2_MAR_2_AGE_4', 2230: 'SEX_2_EDU_2_MAR_3_AGE_0', 2231: 'SEX_2_EDU_2_MAR_3_AGE_1', 2232: 'SEX_2_EDU_2_MAR_3_AGE_2', 2233: 'SEX_2_EDU_2_MAR_3_AGE_3', 2234: 'SEX_2_EDU_2_MAR_3_AGE_4', 2310: 'SEX_2_EDU_3_MAR_1_AGE_0', 2311: 'SEX_2_EDU_3_MAR_1_AGE_1', 2312: 'SEX_2_EDU_3_MAR_1_AGE_2', 2313: 'SEX_2_EDU_3_MAR_1_AGE_3', 2314: 'SEX_2_EDU_3_MAR_1_AGE_4', 2320: 'SEX_2_EDU_3_MAR_2_AGE_0', 2321: 'SEX_2_EDU_3_MAR_2_AGE_1', 2322: 'SEX_2_EDU_3_MAR_2_AGE_2', 2323: 'SEX_2_EDU_3_MAR_2_AGE_3', 2324: 'SEX_2_EDU_3_MAR_2_AGE_4', 2330: 'SEX_2_EDU_3_MAR_3_AGE_0', 2331: 'SEX_2_EDU_3_MAR_3_AGE_1', 2332: 'SEX_2_EDU_3_MAR_3_AGE_2', 2333: 'SEX_2_EDU_3_MAR_3_AGE_3', 2334: 'SEX_2_EDU_3_MAR_3_AGE_4', 2410: 'SEX_2_EDU_4_MAR_1_AGE_0', 2411: 'SEX_2_EDU_4_MAR_1_AGE_1', 2412: 'SEX_2_EDU_4_MAR_1_AGE_2', 2413: 'SEX_2_EDU_4_MAR_1_AGE_3', 2414: 'SEX_2_EDU_4_MAR_1_AGE_4', 2420: 'SEX_2_EDU_4_MAR_2_AGE_0', 2421: 'SEX_2_EDU_4_MAR_2_AGE_1', 2422: 'SEX_2_EDU_4_MAR_2_AGE_2', 2423: 'SEX_2_EDU_4_MAR_2_AGE_3', 2424: 'SEX_2_EDU_4_MAR_2_AGE_4', 2430: 'SEX_2_EDU_4_MAR_3_AGE_0', 2431: 'SEX_2_EDU_4_MAR_3_AGE_1', 2432: 'SEX_2_EDU_4_MAR_3_AGE_2', 2433: 'SEX_2_EDU_4_MAR_3_AGE_3', 2434: 'SEX_2_EDU_4_MAR_3_AGE_4'}\n"
     ]
    }
   ],
   "source": [
    "lista_values = []\n",
    "for cc,mm in zip(['SEX','EDUCATION','MARRIAGE','AGE_bins'], mascara):\n",
    "    lista_values.append([(jj)*mm for jj in np.unique(train_df[cc].values)])\n",
    "print(lista_values)\n",
    "import itertools\n",
    "lista_grupo = []\n",
    "dict_grupo = {}\n",
    "for element in itertools.product(*lista_values):\n",
    "    code_grupo = np.sum(np.asarray(element))\n",
    "    lista_grupo.append(code_grupo)\n",
    "    dict_grupo[code_grupo] = \"SEX_{0:d}_EDU_{1:d}_MAR_{2:d}_AGE_{3:d}\".format(int(element[0]/1000), \n",
    "                                                                              int(element[1]/100), \n",
    "                                                                              int(element[2]/10), \n",
    "                                                                              int(element[3]))   \n",
    "\n",
    "print(\"\")\n",
    "print(\"lista_grupo: \",lista_grupo)\n",
    "print(\"\")\n",
    "print(\"dict_grupo\",dict_grupo)"
   ]
  },
  {
   "cell_type": "markdown",
   "metadata": {},
   "source": [
    "Escriba código que construya el argumento que se le debe pasar a la clase `OneHotEncoder` como argumento `categories` si queremos codificar *dummy encoding* las variables `GRUPO`, `PAY_0_dis`, `PAY_2_dis`, `PAY_3_dis`, `PAY_4_dis`, `PAY_5_dis` y `PAY_6_dis`. Este argumento debe ser un array de listas, donde cada elemento del array principal es la lista con todos los valores que debe tomar la categoría:\n",
    "\n",
    "`lista=[[lista_grupo],[lista_PAY_0_dis],...,[lista_PAY_6_dis]]`"
   ]
  },
  {
   "cell_type": "code",
   "execution_count": null,
   "metadata": {},
   "outputs": [],
   "source": [
    "#############\n",
    "# YOUR CODE #\n",
    "#############\n",
    "\n",
    "\n",
    "#######\n",
    "# END #\n",
    "#######"
   ]
  },
  {
   "cell_type": "markdown",
   "metadata": {},
   "source": [
    "A continuación escribid código que:\n",
    "- Obtenga numpy arrays `X_train_cat_dummy` y `X_test_cat_dummy` con la codificación *dummy* de las variables `GRUPO`, `PAY_0_dis`, `PAY_2_dis`, `PAY_3_dis`, `PAY_4_dis`, `PAY_5_dis` y `PAY_6_dis`\n",
    "- Extienda las observaciones añadiendo estos arrays a `LXtrain` y `LXtest` (no incluyáis las extensiones polinómicas). Eliminando la columna correspondiente a la variable `AGE` original.\n",
    "- Entrene un modelo de clasificación con regresión logística con las características resultantes\n",
    "- Compare el acierto de este modelo con el baseline y con los modelos anteriores\n",
    "- Pinte la curva ROC de este modelo y calcule el área bajo la curva\n",
    "- Imprima los valores de los pesos del modelo correspondiente a cada variable "
   ]
  },
  {
   "cell_type": "code",
   "execution_count": null,
   "metadata": {},
   "outputs": [],
   "source": [
    "#############\n",
    "# YOUR CODE #\n",
    "#############\n",
    "\n",
    "#######\n",
    "# END #\n",
    "#######\n",
    "\n"
   ]
  },
  {
   "cell_type": "markdown",
   "metadata": {},
   "source": [
    "\n",
    "\n",
    "## 3.3 Bin counting de los grupos con variables continuas y regresión logística (20%)\n",
    "\n",
    "Dado el gran número de grupos vamos a finalizar el *notebook* empleando conteos de *bins* para codificar esta variable\n",
    "\n",
    "En primer lugar escribid código que represente en el eje de las x una entrada por cada grupo y en el eje de las y el número de clientes que hay en ese grupo.\n",
    "\n",
    "¿Cuántos grupos tienen más de 100 clientes?"
   ]
  },
  {
   "cell_type": "code",
   "execution_count": null,
   "metadata": {},
   "outputs": [],
   "source": [
    "#############\n",
    "# YOUR CODE #\n",
    "#############\n",
    "\n",
    "#######\n",
    "# END #\n",
    "#######"
   ]
  },
  {
   "cell_type": "code",
   "execution_count": null,
   "metadata": {},
   "outputs": [],
   "source": [
    "class bin_counter(object):\n",
    "    def __init__(self, back_off_threshold = 0):\n",
    "        self.back_off_threshold = back_off_threshold\n",
    "        self.backed_off_categories = []\n",
    "        pass\n",
    "    def fit_transform(self, x, y):\n",
    "        self.fit(x,y)\n",
    "        return self.transform(x)\n",
    "    def transform(self, x):\n",
    "        N = len(x)\n",
    "        output = np.empty((N, self.d))\n",
    "        x_categories = np.unique(x)\n",
    "        for cat in x_categories:\n",
    "            if cat not in self.code_book:\n",
    "                code = self.code_book['average']\n",
    "            elif cat in self.backed_off_categories:\n",
    "                code = self.code_book['back-off']\n",
    "            else:\n",
    "                code = self.code_book[cat]\n",
    "            posi = np.where(x==cat)[0]\n",
    "            output[posi,:] = code\n",
    "        return output\n",
    "    def fit(self, x, y):\n",
    "        self.code_book = {}\n",
    "        N = len(x)\n",
    "        y_categories = np.unique(y)\n",
    "        self.d = len(y_categories)\n",
    "        x_categories = np.unique(x)\n",
    "        num_x_categories = len(x_categories)\n",
    "        y_ohe = OneHotEncoder(sparse=False).fit_transform(y.reshape(-1,1))\n",
    "        back_off_counts = np.zeros(self.d)\n",
    "        num_back_off = 0\n",
    "        for cat in x_categories:\n",
    "            posi = np.where(x==cat)[0]\n",
    "            if len(posi) >= self.back_off_threshold:\n",
    "                code = np.mean(y_ohe[posi,:],0)\n",
    "                self.code_book[cat] = code\n",
    "            else:\n",
    "                self.backed_off_categories.append(cat)\n",
    "                back_off_counts += np.sum(y_ohe[posi,:],0)\n",
    "                num_back_off += len(posi)\n",
    "        if num_back_off > 0:\n",
    "            self.code_book['back-off']  = back_off_counts / num_back_off\n",
    "        self.code_book['average'] =  np.mean(y_ohe,0)"
   ]
  },
  {
   "cell_type": "markdown",
   "metadata": {},
   "source": [
    "Para evaluar el efecto del *leakage* vamos a en primer lugar usar el conjunto de entrenamiento que hemos empleado hasta ahora para aprender los conteos de bin y el modelo de regresión logística. Complete la parte final de este código para entrenar el modelo y medir sus prestaciones"
   ]
  },
  {
   "cell_type": "code",
   "execution_count": null,
   "metadata": {},
   "outputs": [],
   "source": [
    "bc_leakage = bin_counter(back_off_threshold=100)\n",
    "train_grupo_bc = bc_leakage.fit_transform(train_df['GRUPO'].values, Y_train)\n",
    "test_grupo_bc = bc_leakage.transform(test_df['GRUPO'].values)\n",
    "\n",
    "\n",
    "\"\"\"\n",
    "- Codifica dummy encoding las variables PAY_0_dis', 'PAY_2_dis',\n",
    "       'PAY_3_dis', 'PAY_4_dis', 'PAY_5_dis', 'PAY_6_dis'\n",
    "- genera X_train_e  apilando las columnas de LXtrain, X_train_cat_dummy y train_df_bc[:,1]\n",
    "- genera X_test_e análogamente\n",
    "- entrena el modelo de regresión logística con X_train_e\n",
    "- evalúa el modelo (acierto en entrenamiento, acierto en test y area bajo la curva ROC)\n",
    "\"\"\"\n",
    "#############\n",
    "# YOUR CODE #\n",
    "#############\n",
    "\n",
    "#######\n",
    "# END #\n",
    "#######"
   ]
  },
  {
   "cell_type": "markdown",
   "metadata": {},
   "source": [
    "Ahora repetid el análisis de la celda anterior pero previamente dividiendo el conjunto de entrenamiento en dos mitades del mismo tamaño: \n",
    "- `train_bc_df` para aprender los conteos de bin y \n",
    "- `train_model_df` para entrenar el regresor logístico\n",
    "\n",
    "Comparad las prestaciones en ambos casos y evaluar el impacto del *leakage*"
   ]
  },
  {
   "cell_type": "code",
   "execution_count": null,
   "metadata": {},
   "outputs": [],
   "source": [
    "#############\n",
    "# YOUR CODE #\n",
    "#############\n",
    "\n",
    "#######\n",
    "# END #\n",
    "#######"
   ]
  },
  {
   "cell_type": "code",
   "execution_count": null,
   "metadata": {},
   "outputs": [],
   "source": []
  },
  {
   "cell_type": "markdown",
   "metadata": {},
   "source": [
    "### ¿Cuál es el peso de la variable `GRUPO` codificada con conteo de bin en ambos casos?\n"
   ]
  },
  {
   "cell_type": "code",
   "execution_count": null,
   "metadata": {},
   "outputs": [],
   "source": [
    "#############\n",
    "# YOUR CODE #\n",
    "#############\n",
    "\n",
    "\n",
    "#######\n",
    "# END #\n",
    "#######"
   ]
  },
  {
   "cell_type": "markdown",
   "metadata": {},
   "source": [
    "## OPCIONAL: interpretabilidad de los grupos demográficos (5%, extra)\n",
    "\n",
    "**Este apartado es opcional: su nota se suma a la nota del proyecto, pero no es necesario para conseguir la máxima calificación.**\n",
    "\n",
    "Ordenad los grupos de acuerdo a la probabilidad de default y verificar si hay muchas diferencias entre las primeras posiciones del *ranking*, las últimas, y los valores *bask-off* y *average*."
   ]
  },
  {
   "cell_type": "code",
   "execution_count": null,
   "metadata": {},
   "outputs": [],
   "source": [
    "#############\n",
    "# YOUR CODE #\n",
    "#############\n",
    "        \n",
    "#######\n",
    "# END #\n",
    "#######"
   ]
  },
  {
   "cell_type": "code",
   "execution_count": null,
   "metadata": {},
   "outputs": [],
   "source": []
  },
  {
   "cell_type": "code",
   "execution_count": null,
   "metadata": {},
   "outputs": [],
   "source": []
  },
  {
   "cell_type": "code",
   "execution_count": null,
   "metadata": {},
   "outputs": [],
   "source": []
  },
  {
   "cell_type": "code",
   "execution_count": null,
   "metadata": {},
   "outputs": [],
   "source": []
  },
  {
   "cell_type": "code",
   "execution_count": null,
   "metadata": {},
   "outputs": [],
   "source": []
  }
 ],
 "metadata": {
  "kernelspec": {
   "display_name": "Python 3",
   "language": "python",
   "name": "python3"
  },
  "language_info": {
   "codemirror_mode": {
    "name": "ipython",
    "version": 3
   },
   "file_extension": ".py",
   "mimetype": "text/x-python",
   "name": "python",
   "nbconvert_exporter": "python",
   "pygments_lexer": "ipython3",
   "version": "3.6.12"
  }
 },
 "nbformat": 4,
 "nbformat_minor": 4
}
