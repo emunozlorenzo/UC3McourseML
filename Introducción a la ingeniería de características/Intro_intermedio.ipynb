{
 "cells": [
  {
   "cell_type": "code",
   "execution_count": 1,
   "metadata": {
    "id": "lXyR3B1-cst0"
   },
   "outputs": [],
   "source": [
    "from IPython.core.display import Image, display"
   ]
  },
  {
   "cell_type": "code",
   "execution_count": 2,
   "metadata": {
    "id": "McTkC40Tcst3"
   },
   "outputs": [],
   "source": [
    "%matplotlib inline\n",
    "%config InlineBackend.figure_format = 'retina'  "
   ]
  },
  {
   "cell_type": "code",
   "execution_count": 3,
   "metadata": {
    "id": "lopz8Y9Ccst6"
   },
   "outputs": [],
   "source": [
    "\n",
    "\n",
    "import seaborn as sns\n"
   ]
  },
  {
   "cell_type": "markdown",
   "metadata": {
    "id": "-8pLlMwKcst8",
    "slideshow": {
     "slide_type": "slide"
    }
   },
   "source": [
    "# Introducción a la ingeniería de características\n",
    "\n",
    "### Aprendizaje Automático Intermedio e Ingeniería de Características\n",
    "\n",
    "#### Febrero 2021\n",
    "\n",
    "**Emilio Parrado Hernández, Vanessa Gómez Verdejo, Pablo Martínez Olmos**\n",
    "\n",
    "Departamento de Teoría de la Señal y Comunicaciones\n",
    "\n",
    "**Universidad Carlos III de Madrid**\n",
    "\n",
    "<img src='http://www.tsc.uc3m.es/~emipar/BBVA/INTRO/img/logo_uc3m_foot.jpg' width=400 />"
   ]
  },
  {
   "cell_type": "markdown",
   "metadata": {
    "id": "fkFqhwCGcst8",
    "slideshow": {
     "slide_type": "slide"
    }
   },
   "source": [
    "## Contenidos que se van a tratar a lo largo de la sesión\n",
    "\n",
    "- Repaso del uso de técnicas de aprendizaje automático con *scikit learn*\n",
    "- Fundamentos de ingeniería de características para variables numéricas\n",
    "  - Escalados y normalizaciones\n",
    "  - Discretizaciones\n",
    "  - Transformaciones de variable\n",
    "  - Combinaciones básicas variables\n",
    "- Fundamentos de ingeniería de características para variables categóricas \n",
    "  - *One-hot-encoding* y variantes\n",
    "  - *Hashing* de características\n",
    "  - Conteo de *bins*\n",
    "\n",
    "\n",
    "<img src='http://www.tsc.uc3m.es/~emipar/BBVA/INTRO/img/logo_uc3m_foot.jpg' width=400 />"
   ]
  },
  {
   "cell_type": "markdown",
   "metadata": {
    "slideshow": {
     "slide_type": "slide"
    }
   },
   "source": [
    "# 1 Introducción a la Ingeniería de Características\n",
    "\n",
    "## 1.1 Repaso de conceptos de  aprendizaje automático\n",
    "\n",
    "### Aprendizaje automático\n",
    "\n",
    "Extraer y explotar **patrones** presentes en **datos históricos** para resolver una tarea que nos proporciona una respuesta a una pregunta de negocio.\n",
    "\n",
    "Tipos de aprendizaje automático:\n",
    "- Aprendizaje **supervisado**: Hacer predicciones sobre datos nuevos.\n",
    "    - Ejemplo: a la vista de los datos de una operación **estimar** la probabilidad de que se cierre\n",
    "- Aprendizaje **no supervisado**: Extraer estructura presente en los datos.\n",
    "    - Ejemplo: Segmentar los clientes de un determinado negocio en grupos que compartan patrones similares\n",
    "\n",
    "<img src='http://www.tsc.uc3m.es/~emipar/BBVA/INTRO/img/logo_uc3m_foot.jpg' width=400 />"
   ]
  },
  {
   "cell_type": "markdown",
   "metadata": {
    "id": "mIzaLNQ_cst8",
    "slideshow": {
     "slide_type": "slide"
    }
   },
   "source": [
    "### Workflow típico de aprendizaje automático\n",
    "\n",
    "El procedimiento típico para resolver un problema mediante la aplicación de técnicas de Aprendizaje Automático pasa por las siguientes etapas\n",
    "\n",
    "<img src='http://www.tsc.uc3m.es/~emipar/BBVA/INTERMEDIO/ML_pipeline.jpg' width=800 />\n",
    "\n",
    "\n",
    "<img src='http://www.tsc.uc3m.es/~emipar/BBVA/INTRO/img/logo_uc3m_foot.jpg' width=400 />"
   ]
  },
  {
   "cell_type": "markdown",
   "metadata": {
    "id": "5zJbfzeXcst9",
    "slideshow": {
     "slide_type": "slide"
    }
   },
   "source": [
    "### Datos crudos\n",
    "\n",
    "Observaciones del **mundo real**:\n",
    "\n",
    "    - Precios y volúmenes de acciones negociadas en mercados\n",
    "    - Comentarios de analistas de bolsa publicados en prensa\n",
    "    - Datos biométricos personales (pulsaciones, temperatura, peso, etc)\n",
    "    - Datos de transacciones de clientes\n",
    "\n",
    "<img src='http://www.tsc.uc3m.es/~emipar/BBVA/INTRO/img/logo_uc3m_foot.jpg' width=400 />"
   ]
  },
  {
   "cell_type": "markdown",
   "metadata": {
    "slideshow": {
     "slide_type": "slide"
    }
   },
   "source": [
    "### Modelo\n",
    "\n",
    "Función **matemática** que describe relaciones entre diferentes aspectos de los datos. \n",
    "\n",
    "- Ejemplo, en una estrategia de *trading* el número de acciones a negociar durante el siguiente intervalo temporal puede depender de:\n",
    "    1. El volumen de acciones que habitualmente se negocie durante ese intervalo en días pasados\n",
    "    2. Si hoy desde la apertura del mercado se está negociando más o menos volumen de acciones que los días pasados\n",
    "    3. Si el precio se mueve a nuestro favor o en nuestra contra\n",
    "    4. El volumen de la orden que falta por ejecutar\n",
    "    5. El tiempo hasta cierre de mercado\n",
    "\n",
    "Toda la información que emplea el modelo para hacer su predicción se encuentra en los datos en crudo, pero muchas veces el **formato** de esta información **no es numérico** y no se puede emplear directamente **dentro del modelo**.\n",
    "\n",
    "<img src='http://www.tsc.uc3m.es/~emipar/BBVA/INTRO/img/logo_uc3m_foot.jpg' width=400 />"
   ]
  },
  {
   "cell_type": "markdown",
   "metadata": {
    "slideshow": {
     "slide_type": "slide"
    }
   },
   "source": [
    "### Características (*features*)\n",
    "\n",
    "- Se encargan de **conectar los datos crudos con el modelo**.\n",
    "\n",
    "- Son **representaciones numéricas de los datos crudos**.\n",
    "\n",
    "- Las **características están muy ligadas al modelo**, hay modelos que necesitan determinados tipos de características\n",
    "\n",
    "\n",
    "#### Ingeniería de características \n",
    "encontrar las características más apropiadas para unos datos y modelo determinados. \n",
    "\n",
    "<img src='http://www.tsc.uc3m.es/~emipar/BBVA/INTRO/img/logo_uc3m_foot.jpg' width=400 />"
   ]
  },
  {
   "cell_type": "markdown",
   "metadata": {
    "slideshow": {
     "slide_type": "slide"
    }
   },
   "source": [
    "## 1.2 Ingeniería de características (*feature engineering, FE*)\n",
    "\n",
    "- **Transformar los datos crudos en características** que representen el problema para el modelo del mejor modo posible\n",
    "\n",
    "- Objetivo **mejorar las prestaciones del algoritmo**. Posibilita que el algoritmo explote mejor la información contenida en los datos para extraer los patrones que resuelvan el problema de negocio.\n",
    "\n",
    "- Ingeniería de características conecta la **ingeniería de datos** con la ingeniería de aprendizaje automático (diseñar algoritmos de aprendizaje de modelos sobre datos limpios).\n",
    "\n",
    "\n",
    "        \n",
    "<img src='http://www.tsc.uc3m.es/~emipar/BBVA/INTRO/img/logo_uc3m_foot.jpg' width=400 />"
   ]
  },
  {
   "cell_type": "markdown",
   "metadata": {
    "slideshow": {
     "slide_type": "subslide"
    }
   },
   "source": [
    "- **Entrada** del bloque de FE:\n",
    "   - datos en crudo (por ejemplo datos de transacciones)\n",
    "   - datos numéricos directamente leídos de sensores (variables, atributos, todavia no son *features*)\n",
    "   - datos ruidosos, redundantes, incompletos, \"sucios\"\n",
    "- **Salida** del bloque de FE:\n",
    "    - Matriz de datos de entrada para entrenar/evaluar un modelo de aprendizaje automático:\n",
    "        - Cada fila es una observación\n",
    "        - Cada columna es una característica\n",
    "        \n",
    "<img src='http://www.tsc.uc3m.es/~emipar/BBVA/INTRO/img/logo_uc3m_foot.jpg' width=400 />"
   ]
  },
  {
   "cell_type": "markdown",
   "metadata": {
    "slideshow": {
     "slide_type": "slide"
    }
   },
   "source": [
    "### Evaluación del impacto de aplicar ingeniería de características \n",
    "\n",
    "1. Establecer las prestaciones *baseline*\n",
    "    - Clasificación con $K$ clases:\n",
    "        - $1/K$ si las clases están balanceadas\n",
    "        - Acierto de elegir siempre la clase mayoritaria\n",
    "    - Regresión: Acierto de predecir siempre con la media (aproximadamente $R^2=0$)\n",
    "\n",
    "2. **Aplicar** distintas técnicas de **FE** a los algoritmos de aprendizaje automático que empleemos\n",
    "\n",
    "3. **Comparar** las prestaciones de cada una de las técnicas de FE con el *baseline*. Para ello hay que elegir una **métrica**:\n",
    "    - Clasificación: acierto en *5 fold cross validation*\n",
    "    - Regresión: Error cuadrático medio (MSE) ó coeficiente $R^2$ promediado con 5 fold cv\n",
    "    - Clustering: Coeficiente de silueta\n",
    "    \n",
    "4. **Decidir** si el incremento en la mejora de las prestaciones debido a la introducción de la etapa de FE es significativo y, de ser así, añadir la etapa al *pipeline* de procesamiento de los datos\n",
    " \n",
    "\n",
    "<img src='http://www.tsc.uc3m.es/~emipar/BBVA/INTRO/img/logo_uc3m_foot.jpg' width=400 />"
   ]
  },
  {
   "cell_type": "markdown",
   "metadata": {
    "slideshow": {
     "slide_type": "slide"
    }
   },
   "source": [
    "### Tipos de características \n",
    "\n",
    "- Datos **estructurados o no estructurados**\n",
    "\n",
    "- Datos **cuantitativos** o datos **cualitativos**\n",
    "\n",
    "- Cuatro niveles de datos\n",
    "\n",
    "<img src='http://www.tsc.uc3m.es/~emipar/BBVA/INTRO/img/logo_uc3m_foot.jpg' width=400 />"
   ]
  },
  {
   "cell_type": "markdown",
   "metadata": {
    "slideshow": {
     "slide_type": "subslide"
    }
   },
   "source": [
    "###  Datos crudos estructurados o no estructurados\n",
    "\n",
    "- **Datos estructurados** están organizados en filas y columnas:\n",
    "    - cada **fila** se corresponde con una **observación**\n",
    "    - cada **columna** es una variable (o **característica**) que se ha medido para esa observación.\n",
    "    \n",
    "    Por ejemplo hay aparatos de medida que registran sus mediciones estructuradamente, con un campo identificador de medida, la fecha en la que se ha realizado la medición y una columna para cada una de las magnitudes medidas.\n",
    "    \n",
    "    \n",
    "    \n",
    "- **Datos no estructurados** por ejemplo texto en crudo como los logs de un programa informático. Se podría considerar que cada fila sigue siendo una observación (cada entrada del log es una fila), pero solo van a tener una columna, que contiene el texto crudo correspondiente a cada entrada del log.\n",
    "\n",
    "\n",
    "<img src='http://www.tsc.uc3m.es/~emipar/BBVA/INTRO/img/logo_uc3m_foot.jpg' width=400 />"
   ]
  },
  {
   "cell_type": "markdown",
   "metadata": {
    "slideshow": {
     "slide_type": "subslide"
    }
   },
   "source": [
    "###  Datos crudos cuantitativos o cualitativos\n",
    "\n",
    "- **Datos cuantitativos** son datos **numéricos**. Por ejemplo:\n",
    "    - constantes biométricas (temperatura corporal, tensión arterial, pulsaciones, etc)\n",
    "    - Indicadores técnicos de mercado (precios, volúmenes negociados, indicadores sobre estas variables, etc)\n",
    "    - La temperatura del ambiente medida en grados Celsius, volumen de precipitaciones en $l/m^2$, etc\n",
    "    \n",
    "    \n",
    "- **Datos cualitativos** son datos **categóricos**. Por ejemplo:\n",
    "    - Comunidad autónoma en la que reside un cliente\n",
    "    - Profesión del cliente\n",
    "    - Lista de artículos comprados por el cliente en el último pedido\n",
    "    - Contenido que ha visto el cliente en el último mes\n",
    "    - Lista de productos que tiene contratados el cliente\n",
    "    - Describir el clima como soleado o nubloso, lluvioso, etc.\n",
    "    \n",
    "\n",
    "<img src='http://www.tsc.uc3m.es/~emipar/BBVA/INTRO/img/logo_uc3m_foot.jpg' width=400 />"
   ]
  },
  {
   "cell_type": "markdown",
   "metadata": {
    "slideshow": {
     "slide_type": "subslide"
    }
   },
   "source": [
    "- Hay casos en los que se mezclan las naturalezas cualitativas y cuantitativas de los datos, por ejemplo en los ratings que hacen los usuarios, donde como cada usuario tiene un criterio distinto, no está 100% claro que podamos emplear un rating de forma numérica. Ejemplo:\n",
    "    - Rating de un restaurante con 1 a 5 estrellas (tira más a cuantitativo)\n",
    "    - Rating de un restaurante con: \"no volveré\", \"diría que OK\", \"me gustó\", \"me encantó\", \"un *must*!\" (tira más a cualitativo)\n",
    "\n",
    "<img src='http://www.tsc.uc3m.es/~emipar/BBVA/INTRO/img/logo_uc3m_foot.jpg' width=400 />"
   ]
  },
  {
   "cell_type": "markdown",
   "metadata": {
    "slideshow": {
     "slide_type": "subslide"
    }
   },
   "source": [
    "###  Cuatro niveles de datos\n",
    "\n",
    "1. **Datos nominales** son puras categorías. Por ejemplo:\n",
    "    - Variables booleanas (True or False)\n",
    "    - tipo de sangre (A+, B-, 0+, etc)\n",
    "    - profesión, estado civil (soltero, casado, viudo, divorciado, etc)\n",
    "    - ciudad de residencia, nacionalidad\n",
    "    \n",
    "    \n",
    "2. **Datos ordinales** son datos categóricos pero tienen un orden natural, es decir, se puede establecer que unas categorías son mejores o mayores que otras. Por ejemplo:\n",
    "    - Rating de productos o servicios\n",
    "    - Mes del año en el que se ha contratado un producto\n",
    "    - Notas de una asignatura: Suspenso, aprobado, notable, sobresaliente\n",
    "    \n",
    "\n",
    "<img src='http://www.tsc.uc3m.es/~emipar/BBVA/INTRO/img/logo_uc3m_foot.jpg' width=400 />"
   ]
  },
  {
   "cell_type": "markdown",
   "metadata": {
    "slideshow": {
     "slide_type": "subslide"
    }
   },
   "source": [
    "3. **Datos en intervalo** son datos numéricos, cuantitativos. Tiene sentido sumarlos o restarlos. Por ejemplo:\n",
    "    - Temperatura: Si hace 35 grados Celsius en Madrid y 29 grados en Bilbao, podemos establecer que hay una diferencia de 6 grados entre las dos ciudades.\n",
    "    - Los *ratings* no se consideran datos en intervalo porque si por ejemplo un usuario concede un 7 sobre 10 a un producto y otro usuario concede un 4 sobre 10, la suma de los *ratings* es 11, que no tiene sentido. O la resta de los ratings sería 3, pero este 3 no puede considerarse un rating.\n",
    "    \n",
    "    \n",
    "4. **Datos en razón** son datos numéricos, cuantitativos, donde además de la suma y resta del nivel **intervalo** existe el concepto de **cero verdadero**. Debido a esto los valores de estas variables se pueden multiplicar y dividir. Por ejemplo:\n",
    "    - Dinero en una cuenta: 100 euros es el doble de 50 euros porque $100/50=2$\n",
    "    - 10mg de penicilina es la mitad de 20mg de penicilina porque $10/20=0.5$\n",
    "    - Contraejemplo con la temperatura: Si algo está a 100 grados no está el doble de caliente que algo que está a 50 grados. Los grados celsius no tienen **cero verdadero**\n",
    "\n",
    "<img src='http://www.tsc.uc3m.es/~emipar/BBVA/INTRO/img/logo_uc3m_foot.jpg' width=400 />"
   ]
  },
  {
   "cell_type": "markdown",
   "metadata": {
    "slideshow": {
     "slide_type": "subslide"
    }
   },
   "source": [
    "###  Operaciones matemáticas que permite cada uno de los cuatro niveles de datos\n",
    "\n",
    "- **Datos nominales**:\n",
    "    - conteo de ocurrencias, porcentajes de ocurrencias\n",
    "    - moda estadística (valor más frecuente)\n",
    "    - Se pueden representar con diagramas de barras o tartas\n",
    "    \n",
    "    \n",
    "- **Datos ordinales** :\n",
    "    - además de las de los datos nominales se pueden ordenar\n",
    "    - mediana estadística, percentiles\n",
    "    - Se pueden representar con barras, tartas, stems & leaves o *boxplot*\n",
    "    \n",
    "- **Datos en intervalo**:\n",
    "    - Se pueden sumar y restar\n",
    "    - Media y desviación típica\n",
    "    - Se pueden representar con boxplots y stems & leaves\n",
    "    \n",
    "- **Datos en razón** :\n",
    "    - cualquier operación, por ejemplo logaritmos\n",
    "    - cualquier estadístico\n",
    "    - Se pueden representar con histogramas\n",
    "\n",
    "<img src='http://www.tsc.uc3m.es/~emipar/BBVA/INTRO/img/logo_uc3m_foot.jpg' width=400 />"
   ]
  },
  {
   "cell_type": "markdown",
   "metadata": {
    "slideshow": {
     "slide_type": "slide"
    }
   },
   "source": [
    "# 2 Ejemplo: base de datos YELP academic\n",
    "\n",
    "[Yelp_academic_dataset](https://www.kaggle.com/yelp-dataset/yelp-dataset) es una base de datos que contiene revisiones de negocios y establecimientos en 11 áreas metropolitanas de 4 países recogidas de usuarios del servicio Yelp. Sus principales motivaciones son:\n",
    "- **análisis de sentimientos** con **procesado de lenguaje natural**, es decir, saber si las revisiones son positivas o negativas\n",
    "- **análisis de grafos**, es decir, descubrir patrones de consumo a través de las relaciones entre los usuarios del servicio.\n",
    "\n",
    "En este *notebook* no vamos a ser tan ambiciosos y nos vamos a centrar en una tarea de predecir el *rating* en estrellas que va a recibir un determinado negocio en función de algunas variables numéricas.\n",
    "\n",
    "En primer lugar cargamos la base de datos a través de un fichero `json`\n",
    "\n",
    "<img src='http://www.tsc.uc3m.es/~emipar/BBVA/INTRO/img/logo_uc3m_foot.jpg' width=400 />"
   ]
  },
  {
   "cell_type": "code",
   "execution_count": 1,
   "metadata": {},
   "outputs": [],
   "source": [
    "import pandas as pd # organize data in dataframes\n",
    "import json # read the json file with data\n",
    "from zipfile import ZipFile \n",
    "from io import BytesIO\n",
    "import urllib.request\n",
    "\n",
    "url = urllib.request.urlopen(\"http://www.tsc.uc3m.es/~emipar/BBVA/INTERMEDIO/DATASETS/yelp_academic_dataset_business.json.zip\")\n",
    "contained_file = 'yelp_academic_dataset_business.json'\n",
    "with ZipFile(BytesIO(url.read())) as my_zip_file:\n",
    "    data_yelp_file = my_zip_file.open(contained_file)\n",
    "    data_yelp_df = pd.DataFrame([json.loads(x) for x in data_yelp_file.readlines()])"
   ]
  },
  {
   "cell_type": "markdown",
   "metadata": {},
   "source": [
    "Ahora tenemos la base de datos cargada en un `dataframe` llamado `data_yelp_df`"
   ]
  },
  {
   "cell_type": "code",
   "execution_count": 2,
   "metadata": {},
   "outputs": [
    {
     "data": {
      "text/html": [
       "<div>\n",
       "<style scoped>\n",
       "    .dataframe tbody tr th:only-of-type {\n",
       "        vertical-align: middle;\n",
       "    }\n",
       "\n",
       "    .dataframe tbody tr th {\n",
       "        vertical-align: top;\n",
       "    }\n",
       "\n",
       "    .dataframe thead th {\n",
       "        text-align: right;\n",
       "    }\n",
       "</style>\n",
       "<table border=\"1\" class=\"dataframe\">\n",
       "  <thead>\n",
       "    <tr style=\"text-align: right;\">\n",
       "      <th></th>\n",
       "      <th>business_id</th>\n",
       "      <th>name</th>\n",
       "      <th>address</th>\n",
       "      <th>city</th>\n",
       "      <th>state</th>\n",
       "      <th>postal_code</th>\n",
       "      <th>latitude</th>\n",
       "      <th>longitude</th>\n",
       "      <th>stars</th>\n",
       "      <th>review_count</th>\n",
       "      <th>is_open</th>\n",
       "      <th>attributes</th>\n",
       "      <th>categories</th>\n",
       "      <th>hours</th>\n",
       "    </tr>\n",
       "  </thead>\n",
       "  <tbody>\n",
       "    <tr>\n",
       "      <th>0</th>\n",
       "      <td>f9NumwFMBDn751xgFiRbNA</td>\n",
       "      <td>The Range At Lake Norman</td>\n",
       "      <td>10913 Bailey Rd</td>\n",
       "      <td>Cornelius</td>\n",
       "      <td>NC</td>\n",
       "      <td>28031</td>\n",
       "      <td>35.462724</td>\n",
       "      <td>-80.852612</td>\n",
       "      <td>3.5</td>\n",
       "      <td>36</td>\n",
       "      <td>1</td>\n",
       "      <td>{'BusinessAcceptsCreditCards': 'True', 'BikePa...</td>\n",
       "      <td>Active Life, Gun/Rifle Ranges, Guns &amp; Ammo, Sh...</td>\n",
       "      <td>{'Monday': '10:0-18:0', 'Tuesday': '11:0-20:0'...</td>\n",
       "    </tr>\n",
       "    <tr>\n",
       "      <th>1</th>\n",
       "      <td>Yzvjg0SayhoZgCljUJRF9Q</td>\n",
       "      <td>Carlos Santo, NMD</td>\n",
       "      <td>8880 E Via Linda, Ste 107</td>\n",
       "      <td>Scottsdale</td>\n",
       "      <td>AZ</td>\n",
       "      <td>85258</td>\n",
       "      <td>33.569404</td>\n",
       "      <td>-111.890264</td>\n",
       "      <td>5.0</td>\n",
       "      <td>4</td>\n",
       "      <td>1</td>\n",
       "      <td>{'GoodForKids': 'True', 'ByAppointmentOnly': '...</td>\n",
       "      <td>Health &amp; Medical, Fitness &amp; Instruction, Yoga,...</td>\n",
       "      <td>None</td>\n",
       "    </tr>\n",
       "    <tr>\n",
       "      <th>2</th>\n",
       "      <td>XNoUzKckATkOD1hP6vghZg</td>\n",
       "      <td>Felinus</td>\n",
       "      <td>3554 Rue Notre-Dame O</td>\n",
       "      <td>Montreal</td>\n",
       "      <td>QC</td>\n",
       "      <td>H4C 1P4</td>\n",
       "      <td>45.479984</td>\n",
       "      <td>-73.580070</td>\n",
       "      <td>5.0</td>\n",
       "      <td>5</td>\n",
       "      <td>1</td>\n",
       "      <td>None</td>\n",
       "      <td>Pets, Pet Services, Pet Groomers</td>\n",
       "      <td>None</td>\n",
       "    </tr>\n",
       "    <tr>\n",
       "      <th>3</th>\n",
       "      <td>6OAZjbxqM5ol29BuHsil3w</td>\n",
       "      <td>Nevada House of Hose</td>\n",
       "      <td>1015 Sharp Cir</td>\n",
       "      <td>North Las Vegas</td>\n",
       "      <td>NV</td>\n",
       "      <td>89030</td>\n",
       "      <td>36.219728</td>\n",
       "      <td>-115.127725</td>\n",
       "      <td>2.5</td>\n",
       "      <td>3</td>\n",
       "      <td>0</td>\n",
       "      <td>{'BusinessAcceptsCreditCards': 'True', 'ByAppo...</td>\n",
       "      <td>Hardware Stores, Home Services, Building Suppl...</td>\n",
       "      <td>{'Monday': '7:0-16:0', 'Tuesday': '7:0-16:0', ...</td>\n",
       "    </tr>\n",
       "    <tr>\n",
       "      <th>4</th>\n",
       "      <td>51M2Kk903DFYI6gnB5I6SQ</td>\n",
       "      <td>USE MY GUY SERVICES LLC</td>\n",
       "      <td>4827 E Downing Cir</td>\n",
       "      <td>Mesa</td>\n",
       "      <td>AZ</td>\n",
       "      <td>85205</td>\n",
       "      <td>33.428065</td>\n",
       "      <td>-111.726648</td>\n",
       "      <td>4.5</td>\n",
       "      <td>26</td>\n",
       "      <td>1</td>\n",
       "      <td>{'BusinessAcceptsCreditCards': 'True', 'ByAppo...</td>\n",
       "      <td>Home Services, Plumbing, Electricians, Handyma...</td>\n",
       "      <td>{'Monday': '0:0-0:0', 'Tuesday': '9:0-16:0', '...</td>\n",
       "    </tr>\n",
       "  </tbody>\n",
       "</table>\n",
       "</div>"
      ],
      "text/plain": [
       "              business_id                      name  \\\n",
       "0  f9NumwFMBDn751xgFiRbNA  The Range At Lake Norman   \n",
       "1  Yzvjg0SayhoZgCljUJRF9Q         Carlos Santo, NMD   \n",
       "2  XNoUzKckATkOD1hP6vghZg                   Felinus   \n",
       "3  6OAZjbxqM5ol29BuHsil3w      Nevada House of Hose   \n",
       "4  51M2Kk903DFYI6gnB5I6SQ   USE MY GUY SERVICES LLC   \n",
       "\n",
       "                     address             city state postal_code   latitude  \\\n",
       "0            10913 Bailey Rd        Cornelius    NC       28031  35.462724   \n",
       "1  8880 E Via Linda, Ste 107       Scottsdale    AZ       85258  33.569404   \n",
       "2      3554 Rue Notre-Dame O         Montreal    QC     H4C 1P4  45.479984   \n",
       "3             1015 Sharp Cir  North Las Vegas    NV       89030  36.219728   \n",
       "4         4827 E Downing Cir             Mesa    AZ       85205  33.428065   \n",
       "\n",
       "    longitude  stars  review_count  is_open  \\\n",
       "0  -80.852612    3.5            36        1   \n",
       "1 -111.890264    5.0             4        1   \n",
       "2  -73.580070    5.0             5        1   \n",
       "3 -115.127725    2.5             3        0   \n",
       "4 -111.726648    4.5            26        1   \n",
       "\n",
       "                                          attributes  \\\n",
       "0  {'BusinessAcceptsCreditCards': 'True', 'BikePa...   \n",
       "1  {'GoodForKids': 'True', 'ByAppointmentOnly': '...   \n",
       "2                                               None   \n",
       "3  {'BusinessAcceptsCreditCards': 'True', 'ByAppo...   \n",
       "4  {'BusinessAcceptsCreditCards': 'True', 'ByAppo...   \n",
       "\n",
       "                                          categories  \\\n",
       "0  Active Life, Gun/Rifle Ranges, Guns & Ammo, Sh...   \n",
       "1  Health & Medical, Fitness & Instruction, Yoga,...   \n",
       "2                   Pets, Pet Services, Pet Groomers   \n",
       "3  Hardware Stores, Home Services, Building Suppl...   \n",
       "4  Home Services, Plumbing, Electricians, Handyma...   \n",
       "\n",
       "                                               hours  \n",
       "0  {'Monday': '10:0-18:0', 'Tuesday': '11:0-20:0'...  \n",
       "1                                               None  \n",
       "2                                               None  \n",
       "3  {'Monday': '7:0-16:0', 'Tuesday': '7:0-16:0', ...  \n",
       "4  {'Monday': '0:0-0:0', 'Tuesday': '9:0-16:0', '...  "
      ]
     },
     "execution_count": 2,
     "metadata": {},
     "output_type": "execute_result"
    }
   ],
   "source": [
    "data_yelp_df.head() # visualizar los primeros 5 registros"
   ]
  },
  {
   "cell_type": "markdown",
   "metadata": {},
   "source": [
    "Visualizamos algunos registros individualmente para hacernos una idea del detalle de todos los campos"
   ]
  },
  {
   "cell_type": "code",
   "execution_count": 3,
   "metadata": {},
   "outputs": [
    {
     "name": "stdout",
     "output_type": "stream",
     "text": [
      "business_id                                nIEhsGbw0vJuYl05bzzj6Q\n",
      "name                                            Bloom & Blueprint\n",
      "address                                   2115 E Cedar St, Unit 3\n",
      "city                                                        Tempe\n",
      "state                                                          AZ\n",
      "postal_code                                                 85281\n",
      "latitude                                                  33.4115\n",
      "longitude                                                -111.895\n",
      "stars                                                         4.5\n",
      "review_count                                                    7\n",
      "is_open                                                         1\n",
      "attributes      {'BusinessAcceptsCreditCards': 'True', 'Restau...\n",
      "categories      Event Planning & Services, Wedding Planning, F...\n",
      "hours                                                        None\n",
      "Name: 17, dtype: object\n",
      "-------------------------------------------------------------\n",
      "business_id                                sS2IKdaUne_8QwiAl6iyfg\n",
      "name                                               Malaya Kitchen\n",
      "address                                    8200-400 Providence Rd\n",
      "city                                                    Charlotte\n",
      "state                                                          NC\n",
      "postal_code                                                 28277\n",
      "latitude                                                  35.0953\n",
      "longitude                                                -80.7791\n",
      "stars                                                           4\n",
      "review_count                                                  148\n",
      "is_open                                                         1\n",
      "attributes      {'RestaurantsAttire': 'u'casual'', 'Alcohol': ...\n",
      "categories      Noodles, Soup, Restaurants, Asian Fusion, Mala...\n",
      "hours           {'Tuesday': '11:0-22:0', 'Wednesday': '11:0-22...\n",
      "Name: 1234, dtype: object\n",
      "-------------------------------------------------------------\n",
      "business_id                                CLVfGD1qczH8Tc6C-pKDPg\n",
      "name                                              Bank of America\n",
      "address                                      1140 E Desert Inn Rd\n",
      "city                                                    Las Vegas\n",
      "state                                                          NV\n",
      "postal_code                                                 89109\n",
      "latitude                                                  36.1304\n",
      "longitude                                                -115.139\n",
      "stars                                                           2\n",
      "review_count                                                   23\n",
      "is_open                                                         1\n",
      "attributes                 {'BusinessAcceptsCreditCards': 'True'}\n",
      "categories      Banks & Credit Unions, Home Services, Financia...\n",
      "hours                                                        None\n",
      "Name: 9856, dtype: object\n",
      "-------------------------------------------------------------\n"
     ]
    }
   ],
   "source": [
    "for ii in [17, 1234, 9856]:\n",
    "    print(data_yelp_df.loc[ii])\n",
    "    print(\"-------------------------------------------------------------\")"
   ]
  },
  {
   "cell_type": "markdown",
   "metadata": {
    "slideshow": {
     "slide_type": "slide"
    }
   },
   "source": [
    "## Estructura de los campos\n",
    "\n",
    "Algunos de los campos de la base de datos pueden clasificarse más o menos siguiendo el criterio de tipos de características que hemos visto antes:\n",
    "- `business_id`: característica categórica nominal\n",
    "- `name`: característica categórica nominal\n",
    "- `address`: característica categórica nominal\n",
    "\n",
    "En principio estos 3 primeros campos son redundantes, es decir, pueden emplearse para identificar el negocio.\n",
    "\n",
    "- `city`: característica categórica nominal\n",
    "- `state`: característica categórica nominal\n",
    "- `postal code`: característica categórica nominal. Puede parecer un entero, pero el orden numérico no tiene que ver con un orden de los ejemplos\n",
    "\n",
    "Estos 3 campos siguientes complementan la identificación del negocio\n",
    "\n",
    "<img src='http://www.tsc.uc3m.es/~emipar/BBVA/INTRO/img/logo_uc3m_foot.jpg' width=400 />"
   ]
  },
  {
   "cell_type": "markdown",
   "metadata": {
    "slideshow": {
     "slide_type": "subslide"
    }
   },
   "source": [
    "- `latitude`: característica numérica intervalo\n",
    "- `longitude`: característica numérica intervalo\n",
    "\n",
    "    Las catalogamos como intervalo porque un negocio que está en el paralelo 20 no está \"el doble al sur\" que un negocio en el paralelo 40.\n",
    "\n",
    "\n",
    "- `stars`: característica ordinal. Vamos a emplearla como *target*.\n",
    "- `review_count` característica numérica razón. Si un negocio tiene 200 comentarios tiene el doble de comentarios que un negocio que sólo tenga 100\n",
    "- `is_open`: característica categórica nominal, es booleana\n",
    "\n",
    "<img src='http://www.tsc.uc3m.es/~emipar/BBVA/INTRO/img/logo_uc3m_foot.jpg' width=400 />"
   ]
  },
  {
   "cell_type": "markdown",
   "metadata": {
    "slideshow": {
     "slide_type": "subslide"
    }
   },
   "source": [
    "Vamos a ver con un poco más de detalle en los campos `attributes`, `categories` y `hours`\n"
   ]
  },
  {
   "cell_type": "code",
   "execution_count": 5,
   "metadata": {},
   "outputs": [
    {
     "name": "stdout",
     "output_type": "stream",
     "text": [
      "business_id                                nIEhsGbw0vJuYl05bzzj6Q\n",
      "name                                            Bloom & Blueprint\n",
      "address                                   2115 E Cedar St, Unit 3\n",
      "city                                                        Tempe\n",
      "state                                                          AZ\n",
      "postal_code                                                 85281\n",
      "latitude                                                  33.4115\n",
      "longitude                                                -111.895\n",
      "stars                                                         4.5\n",
      "review_count                                                    7\n",
      "is_open                                                         1\n",
      "attributes      {'BusinessAcceptsCreditCards': 'True', 'Restau...\n",
      "categories      Event Planning & Services, Wedding Planning, F...\n",
      "hours                                                        None\n",
      "Name: 17, dtype: object\n",
      "---------------------------\n",
      "categories\n",
      "Event Planning & Services, Wedding Planning, Flowers & Gifts, Shopping, Party & Event Planning, Florists\n",
      "...................\n",
      "hours\n",
      "None\n",
      "...................\n",
      "attributes\n",
      "{'BusinessAcceptsCreditCards': 'True', 'RestaurantsDelivery': 'True'}\n",
      "...................\n",
      "==========================================================\n",
      "\n",
      "business_id                                sS2IKdaUne_8QwiAl6iyfg\n",
      "name                                               Malaya Kitchen\n",
      "address                                    8200-400 Providence Rd\n",
      "city                                                    Charlotte\n",
      "state                                                          NC\n",
      "postal_code                                                 28277\n",
      "latitude                                                  35.0953\n",
      "longitude                                                -80.7791\n",
      "stars                                                           4\n",
      "review_count                                                  148\n",
      "is_open                                                         1\n",
      "attributes      {'RestaurantsAttire': 'u'casual'', 'Alcohol': ...\n",
      "categories      Noodles, Soup, Restaurants, Asian Fusion, Mala...\n",
      "hours           {'Tuesday': '11:0-22:0', 'Wednesday': '11:0-22...\n",
      "Name: 1234, dtype: object\n",
      "---------------------------\n",
      "categories\n",
      "Noodles, Soup, Restaurants, Asian Fusion, Malaysian\n",
      "...................\n",
      "hours\n",
      "{'Tuesday': '11:0-22:0', 'Wednesday': '11:0-22:0', 'Thursday': '11:0-22:0', 'Friday': '11:0-23:0', 'Saturday': '11:0-23:0', 'Sunday': '11:0-22:0'}\n",
      "...................\n",
      "attributes\n",
      "{'RestaurantsAttire': \"u'casual'\", 'Alcohol': \"u'beer_and_wine'\", 'RestaurantsDelivery': 'False', 'RestaurantsGoodForGroups': 'True', 'WiFi': \"u'free'\", 'BikeParking': 'True', 'OutdoorSeating': 'True', 'HasTV': 'True', 'RestaurantsTakeOut': 'True', 'BusinessParking': \"{'garage': False, 'street': False, 'validated': False, 'lot': True, 'valet': False}\", 'GoodForKids': 'True', 'Ambience': \"{'romantic': False, 'intimate': False, 'touristy': False, 'hipster': False, 'divey': False, 'classy': False, 'trendy': False, 'upscale': False, 'casual': True}\", 'Caters': 'True', 'NoiseLevel': \"u'quiet'\", 'BusinessAcceptsCreditCards': 'True', 'RestaurantsReservations': 'True', 'RestaurantsPriceRange2': '2', 'GoodForMeal': \"{'dessert': False, 'latenight': False, 'lunch': True, 'dinner': True, 'brunch': False, 'breakfast': False}\", 'DogsAllowed': 'False'}\n",
      "...................\n",
      "==========================================================\n",
      "\n",
      "business_id                                CLVfGD1qczH8Tc6C-pKDPg\n",
      "name                                              Bank of America\n",
      "address                                      1140 E Desert Inn Rd\n",
      "city                                                    Las Vegas\n",
      "state                                                          NV\n",
      "postal_code                                                 89109\n",
      "latitude                                                  36.1304\n",
      "longitude                                                -115.139\n",
      "stars                                                           2\n",
      "review_count                                                   23\n",
      "is_open                                                         1\n",
      "attributes                 {'BusinessAcceptsCreditCards': 'True'}\n",
      "categories      Banks & Credit Unions, Home Services, Financia...\n",
      "hours                                                        None\n",
      "Name: 9856, dtype: object\n",
      "---------------------------\n",
      "categories\n",
      "Banks & Credit Unions, Home Services, Financial Services, Mortgage Brokers, Real Estate\n",
      "...................\n",
      "hours\n",
      "None\n",
      "...................\n",
      "attributes\n",
      "{'BusinessAcceptsCreditCards': 'True'}\n",
      "...................\n",
      "==========================================================\n",
      "\n"
     ]
    }
   ],
   "source": [
    "for ii in [17, 1234, 9856]:\n",
    "    print(data_yelp_df.loc[ii])\n",
    "    print(\"---------------------------\")\n",
    "    for jj in ['categories', 'hours','attributes']:\n",
    "        print(jj)\n",
    "        print(data_yelp_df.loc[ii,jj])\n",
    "        print('...................')\n",
    "        \n",
    "    print(\"==========================================================\\n\")"
   ]
  },
  {
   "cell_type": "markdown",
   "metadata": {
    "slideshow": {
     "slide_type": "subslide"
    }
   },
   "source": [
    "\n",
    "- `attributes`: campo estructurado, formado por un diccionario\n",
    "- `categories`: campo estructurado, formado por una lista\n",
    "- `hours`: campo estructurado, formado por un diccionario\n",
    "\n",
    "Estos tres últimos campos no pueden considerarse **características** porque no pueden alimentar directamente un modelo numérico de aprendizaje automático.\n",
    "\n",
    "<img src='http://www.tsc.uc3m.es/~emipar/BBVA/INTRO/img/logo_uc3m_foot.jpg' width=400 />"
   ]
  },
  {
   "cell_type": "markdown",
   "metadata": {
    "slideshow": {
     "slide_type": "slide"
    }
   },
   "source": [
    "## 2.1 División entre entrenamiento y test\n",
    "\n",
    "Para evaluar la capacidad de generalización de los modelos que construyamos podemos dividir la base de datos en dos particiones, entrenamiento y test, al 50% cada una."
   ]
  },
  {
   "cell_type": "code",
   "execution_count": 6,
   "metadata": {},
   "outputs": [],
   "source": [
    "from sklearn.model_selection import train_test_split\n",
    "\n",
    "train_df, test_df = train_test_split(data_yelp_df, test_size=0.5, random_state=42)\n",
    " "
   ]
  },
  {
   "cell_type": "markdown",
   "metadata": {
    "slideshow": {
     "slide_type": "slide"
    }
   },
   "source": [
    "## 2.2 Problema básico de predicción de rating\n",
    "\n",
    "El problema que vamos a intentar resolver con esta base de datos es **predecir** el *rating* promedio que tiene cada establecimiento del conjunto de test mediante la construcción de modelos predictivos (aprendizaje supervisado) usando los datos del conjunto de entrenamiento.\n",
    "\n",
    "Una versión bastante simplificada del problema consiste en predecir el *rating* a partir del número de revisiones que tenga un establecimiento. La intuición detrás de este modelo es que en general los mejores negocios recibirán más clientes y por ello más revisiones. \n",
    "\n",
    "En primer lugar vamos a descubrir cómo están codificados los *ratings*  explorando el campo `stars` de la base de datos.\n",
    "\n",
    "<img src='http://www.tsc.uc3m.es/~emipar/BBVA/INTRO/img/logo_uc3m_foot.jpg' width=400 />"
   ]
  },
  {
   "cell_type": "code",
   "execution_count": 7,
   "metadata": {},
   "outputs": [],
   "source": [
    "import numpy as np # to get access to math functionalities"
   ]
  },
  {
   "cell_type": "code",
   "execution_count": 8,
   "metadata": {},
   "outputs": [
    {
     "name": "stdout",
     "output_type": "stream",
     "text": [
      "Values of field 'stars'\n"
     ]
    },
    {
     "data": {
      "text/plain": [
       "array([1. , 1.5, 2. , 2.5, 3. , 3.5, 4. , 4.5, 5. ])"
      ]
     },
     "execution_count": 8,
     "metadata": {},
     "output_type": "execute_result"
    }
   ],
   "source": [
    "print(\"Values of field 'stars'\")\n",
    "np.unique(data_yelp_df['stars'].values)"
   ]
  },
  {
   "cell_type": "markdown",
   "metadata": {
    "slideshow": {
     "slide_type": "slide"
    }
   },
   "source": [
    "Los *ratings* son números entre 1 y 5, con saltos de medio punto. Parece que tiene sentido emplear un modelo de **regresión** para predecir un valor numérico.\n",
    "\n",
    "El modelo más sencillo que puede capturar este patrón es una **regresión lineal** \n",
    "$$\n",
    "y = w_0 + w_1 x\n",
    "$$\n",
    "Donde $y$ es el *rating*, $x$ es el número de revisiones y $w_0$ y $w_1$ son dos constantes que hay que aprender con los datos de entrenamiento (son los parámetros del modelo).\n",
    "\n",
    "Vamos a emplear la implementación [`LinearRegression`](https://scikit-learn.org/stable/modules/generated/sklearn.linear_model.LinearRegression.html) de *scikit learn*.\n",
    "\n",
    "<img src='http://www.tsc.uc3m.es/~emipar/BBVA/INTRO/img/logo_uc3m_foot.jpg' width=400 />"
   ]
  },
  {
   "cell_type": "code",
   "execution_count": 9,
   "metadata": {},
   "outputs": [],
   "source": [
    "from sklearn.linear_model import LinearRegression"
   ]
  },
  {
   "cell_type": "code",
   "execution_count": 10,
   "metadata": {},
   "outputs": [],
   "source": [
    "global_results ={} # to store the results of the different models for comparison purposes"
   ]
  },
  {
   "cell_type": "markdown",
   "metadata": {
    "slideshow": {
     "slide_type": "slide"
    }
   },
   "source": [
    "Las implementaciones de *scikit learn* trabajan con `numpy arrays` por lo que debemos extraer estos *arrays* de los `dataframes` correspondientes"
   ]
  },
  {
   "cell_type": "code",
   "execution_count": 11,
   "metadata": {},
   "outputs": [],
   "source": [
    "# Training set observations\n",
    "X_train = train_df['review_count'].values.reshape(-1,1) # column vector, 1 feature and many rows\n",
    "# Training set targets\n",
    "Y_train = train_df['stars'].values\n",
    "# Test set observations\n",
    "X_test = test_df['review_count'].values.reshape(-1,1)\n",
    "# Test set targets\n",
    "Y_test = test_df['stars'].values"
   ]
  },
  {
   "cell_type": "markdown",
   "metadata": {},
   "source": [
    "Entrenamiento del modelo"
   ]
  },
  {
   "cell_type": "code",
   "execution_count": 12,
   "metadata": {},
   "outputs": [],
   "source": [
    "linear_model = LinearRegression().fit(X_train, Y_train)"
   ]
  },
  {
   "cell_type": "markdown",
   "metadata": {
    "slideshow": {
     "slide_type": "slide"
    }
   },
   "source": [
    "Evaluamos el modelo. Por defecto los modelos de regresión de *scikit learn* muestran el [estadístico $R^2$](https://scikit-learn.org/stable/modules/generated/sklearn.metrics.r2_score.html) para evaluar las prestaciones. \n",
    "$$\n",
    "R^2 = 1- \\frac{\\sum_{i=1}^N(\\hat f(\\mathbf x_i)-y_i)^2}{\\sum_{i=1}^N(\\bar y-y_i)^2}\n",
    "$$\n",
    "donde $N$ es el tamaño del conjunto que se usa para evaluar el modelo, $f(\\mathbf x_i)$ es la predicción que hace el modelo para cada observación $\\mathbf x_i$ de dicho conjunto, $y_i$ es el *target* verdadero para $\\mathbf x_i$ e $\\bar y$ es el promedio de los $N$ *targets* $y_i$, $i=1,\\dots,N$.\n",
    "\n",
    "Si las predicciones no tienen errores, entonces $R^2=1$, que es su valor máximo. A medida que aparecen errores de predicción, el valor de $R^2$ decrece. Mientras $R^2>0$ el regresor está dando prestaciones mejores que la media (predicción *baseline*) y si $R^2<0$ entonces el regresor está dando predicciones peores que usar la media para predecir todas las muestras.\n",
    "\n",
    "<img src='http://www.tsc.uc3m.es/~emipar/BBVA/INTRO/img/logo_uc3m_foot.jpg' width=400 />"
   ]
  },
  {
   "cell_type": "code",
   "execution_count": 13,
   "metadata": {},
   "outputs": [
    {
     "name": "stdout",
     "output_type": "stream",
     "text": [
      "Score with the training data R^2=0.0025\n",
      "Score with the test data R^2=0.0025\n"
     ]
    }
   ],
   "source": [
    "print(\"Score with the training data R^2={0:.4f}\".format(linear_model.score(X_train, Y_train)))\n",
    "print(\"Score with the test data R^2={0:.4f}\".format(linear_model.score(X_test, Y_test)))\n",
    "global_results['linear model'] = linear_model.score(X_test, Y_test)"
   ]
  },
  {
   "cell_type": "markdown",
   "metadata": {
    "slideshow": {
     "slide_type": "slide"
    }
   },
   "source": [
    "El $R^2$ obtenido revela que el predictor prácticamente equiparable a usar la media de los *ratings* para todos los negocios. Podemos verlo analizando los coeficientes del modelo"
   ]
  },
  {
   "cell_type": "code",
   "execution_count": 15,
   "metadata": {},
   "outputs": [
    {
     "name": "stdout",
     "output_type": "stream",
     "text": [
      "w0 = 3.5215\n",
      "w1 = 0.0004\n"
     ]
    }
   ],
   "source": [
    "print(\"w0 = {0:.4f}\".format(linear_model.intercept_))\n",
    "print(\"w1 = {0:.4f}\".format(linear_model.coef_[0]))"
   ]
  },
  {
   "cell_type": "markdown",
   "metadata": {},
   "source": [
    "El número de revisiones tiene que ser muy alto para que al multiplicarse por $w_1$ cambie en algo $w_0$.\n",
    "\n",
    "También nos damos cuenta de que el modelo no va a dar predicciones de *ratings* por debajo de 3.5 estrellas..."
   ]
  },
  {
   "cell_type": "code",
   "execution_count": 16,
   "metadata": {},
   "outputs": [],
   "source": [
    "import matplotlib.pyplot as plt"
   ]
  },
  {
   "cell_type": "code",
   "execution_count": 17,
   "metadata": {},
   "outputs": [
    {
     "data": {
      "image/png": "[encoded data removed]",
      "text/plain": [
       "<Figure size 720x432 with 1 Axes>"
      ]
     },
     "metadata": {
      "needs_background": "light"
     },
     "output_type": "display_data"
    }
   ],
   "source": [
    "plt.figure(figsize=(10,6))\n",
    "plt.scatter(X_train, Y_train,marker='.',alpha=0.3,label='trainig data',color='red')\n",
    "plt.plot([min(X_train), max(X_train)], \n",
    "         linear_model.predict(np.array([min(X_train), max(X_train)]).reshape(-1,1)),\n",
    "         linewidth=2,\n",
    "        label='model')\n",
    "plt.xlabel('number of reviews')\n",
    "plt.legend()\n",
    "_=plt.ylabel('ratings')"
   ]
  },
  {
   "cell_type": "markdown",
   "metadata": {
    "id": "c2PdW9J2cst9",
    "slideshow": {
     "slide_type": "slide"
    }
   },
   "source": [
    "\n",
    "   \n",
    "# 3. Ingeniería de características numéricas\n",
    "\n",
    "Los datos numéricos pueden ser directamente procesados mediante modelos matemáticos, pero a veces necesitan de algo de ingeniería de características para mejorar las prestaciones de estos modelos.\n",
    "\n",
    "## Consideraciones a tener en cuenta\n",
    "\n",
    "- Importancia de la **magnitud** de la característica: \n",
    "    - Simplemente hace falta saber si la característica es **positiva o negativa**,\n",
    "        - Por ejemplo saber si un precio sube o baja\n",
    "    - o hace falta tener una idea del **orden de la magnitud** de la característica \n",
    "        - Por ejemplo saber el orden del volumen de acciones negociadas en millares, centenas de millares, millones...\n",
    "    - o necesitamos conocer la **magnitud con exactitud** \n",
    "        - Por ejemplo saber un precio con tres decimales de precisión\n",
    "\n",
    "\n",
    "<img src='http://www.tsc.uc3m.es/~emipar/BBVA/INTRO/img/logo_uc3m_foot.jpg' width=400 />\n"
   ]
  },
  {
   "cell_type": "markdown",
   "metadata": {
    "slideshow": {
     "slide_type": "subslide"
    }
   },
   "source": [
    "- **Escala** de las diferentes características que forman las observaciones. \n",
    "    - Algunos modelos basados en **distancias**, tales como kNN, *Support Vector Machines*, K-medias son sensibles a las diferentes rangos de variaciones de las características. Si empleamos algunos de estos métodos es conveniente **escalar los rangos** de las características.\n",
    "    - Los modelos basados en **funciones lógicas**, tales como árboles de decisión, *random forests*, *gradient boosting machines* **no son sensibles a los rangos** de las variables. Salvo que estos rangos sean **variantes en el tiempo** (como los conteos o las variables que acumulan ocurrencias) y sea necesario reescalar cada cierto tiempo.\n",
    "    \n",
    "<img src='http://www.tsc.uc3m.es/~emipar/BBVA/INTRO/img/logo_uc3m_foot.jpg' width=400 />\n"
   ]
  },
  {
   "cell_type": "markdown",
   "metadata": {
    "slideshow": {
     "slide_type": "subslide"
    }
   },
   "source": [
    "- **Distribución de probabilidad** de las características:\n",
    "    - Los modelos de **regresión lineal** asumen que los errores de predicción siguen una distribución **gaussiana**. En general esta asunción es razonable excepto si el rango de valores que pueda tomar la variable target puede expandir **varios órdenes de magnitud**. Por ejemplo cuando se está trabajando con volúmenes de acciones negociadas en mercado.  En estos casos asumir que los errores de los predictores siguen una distribución gaussiana no es razonable. **Transformar estas variables con el logaritmo** hace que la distribución de la variable transformada se parezca más a una gaussiana.\n",
    "    \n",
    "<img src='http://www.tsc.uc3m.es/~emipar/BBVA/INTRO/img/logo_uc3m_foot.jpg' width=400 />\n"
   ]
  },
  {
   "cell_type": "markdown",
   "metadata": {
    "slideshow": {
     "slide_type": "slide"
    }
   },
   "source": [
    "## 3.1 Transformación logarítmica\n",
    "\n",
    "En el problema de predicción de *ratings* de YELP vemos que el número de revisiones se expande en varios órdenes de magnitud, por eso el valor de $w_1$ tiene muy complicado acomodar todos estos rangos.\n",
    "\n",
    "Representamos el **histograma** del número de revisiones para comprobar esto"
   ]
  },
  {
   "cell_type": "code",
   "execution_count": 22,
   "metadata": {},
   "outputs": [
    {
     "data": {
      "image/png": "[encoded data removed]",
      "text/plain": [
       "<Figure size 720x432 with 1 Axes>"
      ]
     },
     "metadata": {
      "needs_background": "light"
     },
     "output_type": "display_data"
    }
   ],
   "source": [
    "# Number of business vs number of reviews\n",
    "import matplotlib.pyplot as plt\n",
    "plt.figure(figsize=(10,6))\n",
    "_=plt.hist(X_train, bins=50)"
   ]
  },
  {
   "cell_type": "markdown",
   "metadata": {
    "slideshow": {
     "slide_type": "subslide"
    }
   },
   "source": [
    "Usamos escala logarítmica en ambos ejes"
   ]
  },
  {
   "cell_type": "code",
   "execution_count": 21,
   "metadata": {},
   "outputs": [
    {
     "data": {
      "image/png": "[encoded data removed]",
      "text/plain": [
       "<Figure size 720x432 with 1 Axes>"
      ]
     },
     "metadata": {
      "needs_background": "light"
     },
     "output_type": "display_data"
    }
   ],
   "source": [
    "plt.figure(figsize=(10,6))\n",
    "_=plt.hist(X_train, \n",
    "           bins=np.logspace(0,np.log10(7000),20), \n",
    "           histtype='step',\n",
    "          linewidth=2)\n",
    "plt.yscale('log')\n",
    "plt.xscale('log')\n",
    "plt.xlabel('Number of reviews')\n",
    "_=plt.ylabel('Number of business')\n",
    "plt.grid()"
   ]
  },
  {
   "cell_type": "markdown",
   "metadata": {
    "slideshow": {
     "slide_type": "subslide"
    }
   },
   "source": [
    "Vamos a construir otro modelo pero que tome como observación el logaritmo del número de revisiones, para ver si podemos capturar así más variabilidad."
   ]
  },
  {
   "cell_type": "code",
   "execution_count": 23,
   "metadata": {},
   "outputs": [],
   "source": [
    "# Log 0 explota : sumar 1\n",
    "L_X_train = np.log10(X_train+1)\n",
    "L_X_test = np.log10(X_test+1)"
   ]
  },
  {
   "cell_type": "code",
   "execution_count": 24,
   "metadata": {},
   "outputs": [
    {
     "name": "stdout",
     "output_type": "stream",
     "text": [
      "Score with the training data R^2=0.0061\n",
      "Score with the test data R^2=0.0057\n",
      "w0 = 3.3577\n",
      "w1 = 0.1559\n"
     ]
    }
   ],
   "source": [
    "log_linear_model = LinearRegression().fit(L_X_train, Y_train)\n",
    "print(\"Score with the training data R^2={0:.4f}\".format(log_linear_model.score(L_X_train, Y_train)))\n",
    "print(\"Score with the test data R^2={0:.4f}\".format(log_linear_model.score(L_X_test, Y_test)))\n",
    "print(\"w0 = {0:.4f}\".format(log_linear_model.intercept_))\n",
    "print(\"w1 = {0:.4f}\".format(log_linear_model.coef_[0]))\n",
    "global_results['linear log model'] = log_linear_model.score(L_X_test, Y_test)"
   ]
  },
  {
   "cell_type": "code",
   "execution_count": 25,
   "metadata": {},
   "outputs": [
    {
     "name": "stdout",
     "output_type": "stream",
     "text": [
      "{'linear model': 0.0024658837821776025, 'linear log model': 0.005721720788566698}\n"
     ]
    }
   ],
   "source": [
    "print(global_results)"
   ]
  },
  {
   "cell_type": "markdown",
   "metadata": {},
   "source": [
    "Observamos una ligera mejora, pero aún está muy cerca del resultado de aplicar el estimador trivial."
   ]
  },
  {
   "cell_type": "code",
   "execution_count": 24,
   "metadata": {},
   "outputs": [
    {
     "data": {
      "image/png": "[encoded data removed]",
      "text/plain": [
       "<Figure size 720x432 with 1 Axes>"
      ]
     },
     "metadata": {
      "image/png": {
       "height": 370,
       "width": 611
      },
      "needs_background": "light"
     },
     "output_type": "display_data"
    }
   ],
   "source": [
    "plt.figure(figsize=(10,6))\n",
    "plt.scatter(L_X_train, Y_train,marker='.',alpha=0.3,label='trainig data',color='red')\n",
    "plt.plot([min(L_X_train), max(L_X_train)], \n",
    "         log_linear_model.predict(np.array([min(L_X_train), max(L_X_train)]).reshape(-1,1)),\n",
    "         linewidth=2,\n",
    "        label='model')\n",
    "plt.xlabel('log number of reviews')\n",
    "plt.legend()\n",
    "_=plt.ylabel('ratings')"
   ]
  },
  {
   "cell_type": "markdown",
   "metadata": {
    "slideshow": {
     "slide_type": "slide"
    }
   },
   "source": [
    "##  Modelo sólo para restaurantes\n",
    "\n",
    "Vamos a descomponer el problema para tratar de capturar patrones más claros. Nos quedamos solo con los negocios etiquetados como `\"Restaurants\"`. La hipótesis que perseguimos es que los usuarios empleen criterios específicos para valorar cada categoría de negocio.\n",
    "\n",
    "La siguiente función extrae las filas que tengan una determinada categoría dentro del campo `categories`."
   ]
  },
  {
   "cell_type": "code",
   "execution_count": 26,
   "metadata": {},
   "outputs": [],
   "source": [
    "def get_category(df, category='Restaurants'):\n",
    "    categories_ = df[\"categories\"].dropna()\n",
    "    is_member = categories_[categories_.apply(lambda x:category in x.split(\", \"))]\n",
    "    return df.loc[is_member.index].copy()\n"
   ]
  },
  {
   "cell_type": "markdown",
   "metadata": {},
   "source": [
    "Nos quedamos con los restaurantes de los conjuntos de entrenamiento y de test."
   ]
  },
  {
   "cell_type": "code",
   "execution_count": 27,
   "metadata": {},
   "outputs": [
    {
     "data": {
      "text/html": [
       "<div>\n",
       "<style scoped>\n",
       "    .dataframe tbody tr th:only-of-type {\n",
       "        vertical-align: middle;\n",
       "    }\n",
       "\n",
       "    .dataframe tbody tr th {\n",
       "        vertical-align: top;\n",
       "    }\n",
       "\n",
       "    .dataframe thead th {\n",
       "        text-align: right;\n",
       "    }\n",
       "</style>\n",
       "<table border=\"1\" class=\"dataframe\">\n",
       "  <thead>\n",
       "    <tr style=\"text-align: right;\">\n",
       "      <th></th>\n",
       "      <th>business_id</th>\n",
       "      <th>name</th>\n",
       "      <th>address</th>\n",
       "      <th>city</th>\n",
       "      <th>state</th>\n",
       "      <th>postal_code</th>\n",
       "      <th>latitude</th>\n",
       "      <th>longitude</th>\n",
       "      <th>stars</th>\n",
       "      <th>review_count</th>\n",
       "      <th>is_open</th>\n",
       "      <th>attributes</th>\n",
       "      <th>categories</th>\n",
       "      <th>hours</th>\n",
       "    </tr>\n",
       "  </thead>\n",
       "  <tbody>\n",
       "    <tr>\n",
       "      <th>38253</th>\n",
       "      <td>tAKeTTlnuo4boI1f1oulAQ</td>\n",
       "      <td>Village Rainbow</td>\n",
       "      <td>477 Church Street</td>\n",
       "      <td>Toronto</td>\n",
       "      <td>ON</td>\n",
       "      <td>M4Y 2C6</td>\n",
       "      <td>43.664696</td>\n",
       "      <td>-79.380493</td>\n",
       "      <td>3.0</td>\n",
       "      <td>13</td>\n",
       "      <td>0</td>\n",
       "      <td>{'RestaurantsAttire': 'u'casual'', 'GoodForKid...</td>\n",
       "      <td>Restaurants, Canadian (New), Breakfast &amp; Brunc...</td>\n",
       "      <td>None</td>\n",
       "    </tr>\n",
       "    <tr>\n",
       "      <th>122074</th>\n",
       "      <td>71K20-AiZodl9-i3W9w56A</td>\n",
       "      <td>Yours Truly Restaurants</td>\n",
       "      <td>30 N Main St</td>\n",
       "      <td>Chagrin Falls</td>\n",
       "      <td>OH</td>\n",
       "      <td>44022</td>\n",
       "      <td>41.430694</td>\n",
       "      <td>-81.391132</td>\n",
       "      <td>3.5</td>\n",
       "      <td>112</td>\n",
       "      <td>1</td>\n",
       "      <td>{'Alcohol': 'u'full_bar'', 'GoodForKids': 'Tru...</td>\n",
       "      <td>Restaurants, American (Traditional), Diners</td>\n",
       "      <td>{'Monday': '6:30-22:0', 'Tuesday': '6:30-22:0'...</td>\n",
       "    </tr>\n",
       "    <tr>\n",
       "      <th>91752</th>\n",
       "      <td>5DH-yIBIvlpQopUk7HcTcg</td>\n",
       "      <td>Panera Bread</td>\n",
       "      <td>2400 S Rancho Dr, Ste 180</td>\n",
       "      <td>Las Vegas</td>\n",
       "      <td>NV</td>\n",
       "      <td>89102</td>\n",
       "      <td>36.145619</td>\n",
       "      <td>-115.172566</td>\n",
       "      <td>3.0</td>\n",
       "      <td>71</td>\n",
       "      <td>1</td>\n",
       "      <td>{'WiFi': ''free'', 'Alcohol': ''none'', 'Resta...</td>\n",
       "      <td>Sandwiches, Bakeries, Food, Salad, Restaurants...</td>\n",
       "      <td>{'Monday': '6:30-22:0', 'Tuesday': '6:30-22:0'...</td>\n",
       "    </tr>\n",
       "    <tr>\n",
       "      <th>15244</th>\n",
       "      <td>AxYnJ0wYTl0wsT-840ehgQ</td>\n",
       "      <td>Original Joe's Restaurant &amp; Bar</td>\n",
       "      <td>12100 Macleod Trail SE, Ste 335</td>\n",
       "      <td>Calgary</td>\n",
       "      <td>AB</td>\n",
       "      <td>T2J 7G9</td>\n",
       "      <td>50.943719</td>\n",
       "      <td>-114.069263</td>\n",
       "      <td>3.0</td>\n",
       "      <td>18</td>\n",
       "      <td>0</td>\n",
       "      <td>{'WiFi': 'u'no'', 'RestaurantsReservations': '...</td>\n",
       "      <td>American (New), Canadian (New), Bars, Nightlif...</td>\n",
       "      <td>{'Monday': '11:0-0:0', 'Tuesday': '11:0-0:0', ...</td>\n",
       "    </tr>\n",
       "    <tr>\n",
       "      <th>112565</th>\n",
       "      <td>b1p4j51RkgBWsVxob3MmEw</td>\n",
       "      <td>Swiss Chalet Rotisserie &amp; Grill</td>\n",
       "      <td>6970 Financial Dr</td>\n",
       "      <td>Mississauga</td>\n",
       "      <td>ON</td>\n",
       "      <td>L5N 8J4</td>\n",
       "      <td>43.609445</td>\n",
       "      <td>-79.750510</td>\n",
       "      <td>2.5</td>\n",
       "      <td>23</td>\n",
       "      <td>1</td>\n",
       "      <td>{'Ambience': '{'touristy': False, 'hipster': F...</td>\n",
       "      <td>Canadian (New), Restaurants, American (Traditi...</td>\n",
       "      <td>{'Monday': '11:0-22:0', 'Tuesday': '11:0-22:0'...</td>\n",
       "    </tr>\n",
       "  </tbody>\n",
       "</table>\n",
       "</div>"
      ],
      "text/plain": [
       "                   business_id                             name  \\\n",
       "38253   tAKeTTlnuo4boI1f1oulAQ                  Village Rainbow   \n",
       "122074  71K20-AiZodl9-i3W9w56A          Yours Truly Restaurants   \n",
       "91752   5DH-yIBIvlpQopUk7HcTcg                     Panera Bread   \n",
       "15244   AxYnJ0wYTl0wsT-840ehgQ  Original Joe's Restaurant & Bar   \n",
       "112565  b1p4j51RkgBWsVxob3MmEw  Swiss Chalet Rotisserie & Grill   \n",
       "\n",
       "                                address           city state postal_code  \\\n",
       "38253                 477 Church Street        Toronto    ON     M4Y 2C6   \n",
       "122074                     30 N Main St  Chagrin Falls    OH       44022   \n",
       "91752         2400 S Rancho Dr, Ste 180      Las Vegas    NV       89102   \n",
       "15244   12100 Macleod Trail SE, Ste 335        Calgary    AB     T2J 7G9   \n",
       "112565                6970 Financial Dr    Mississauga    ON     L5N 8J4   \n",
       "\n",
       "         latitude   longitude  stars  review_count  is_open  \\\n",
       "38253   43.664696  -79.380493    3.0            13        0   \n",
       "122074  41.430694  -81.391132    3.5           112        1   \n",
       "91752   36.145619 -115.172566    3.0            71        1   \n",
       "15244   50.943719 -114.069263    3.0            18        0   \n",
       "112565  43.609445  -79.750510    2.5            23        1   \n",
       "\n",
       "                                               attributes  \\\n",
       "38253   {'RestaurantsAttire': 'u'casual'', 'GoodForKid...   \n",
       "122074  {'Alcohol': 'u'full_bar'', 'GoodForKids': 'Tru...   \n",
       "91752   {'WiFi': ''free'', 'Alcohol': ''none'', 'Resta...   \n",
       "15244   {'WiFi': 'u'no'', 'RestaurantsReservations': '...   \n",
       "112565  {'Ambience': '{'touristy': False, 'hipster': F...   \n",
       "\n",
       "                                               categories  \\\n",
       "38253   Restaurants, Canadian (New), Breakfast & Brunc...   \n",
       "122074        Restaurants, American (Traditional), Diners   \n",
       "91752   Sandwiches, Bakeries, Food, Salad, Restaurants...   \n",
       "15244   American (New), Canadian (New), Bars, Nightlif...   \n",
       "112565  Canadian (New), Restaurants, American (Traditi...   \n",
       "\n",
       "                                                    hours  \n",
       "38253                                                None  \n",
       "122074  {'Monday': '6:30-22:0', 'Tuesday': '6:30-22:0'...  \n",
       "91752   {'Monday': '6:30-22:0', 'Tuesday': '6:30-22:0'...  \n",
       "15244   {'Monday': '11:0-0:0', 'Tuesday': '11:0-0:0', ...  \n",
       "112565  {'Monday': '11:0-22:0', 'Tuesday': '11:0-22:0'...  "
      ]
     },
     "metadata": {},
     "output_type": "display_data"
    },
    {
     "data": {
      "text/html": [
       "<div>\n",
       "<style scoped>\n",
       "    .dataframe tbody tr th:only-of-type {\n",
       "        vertical-align: middle;\n",
       "    }\n",
       "\n",
       "    .dataframe tbody tr th {\n",
       "        vertical-align: top;\n",
       "    }\n",
       "\n",
       "    .dataframe thead th {\n",
       "        text-align: right;\n",
       "    }\n",
       "</style>\n",
       "<table border=\"1\" class=\"dataframe\">\n",
       "  <thead>\n",
       "    <tr style=\"text-align: right;\">\n",
       "      <th></th>\n",
       "      <th>business_id</th>\n",
       "      <th>name</th>\n",
       "      <th>address</th>\n",
       "      <th>city</th>\n",
       "      <th>state</th>\n",
       "      <th>postal_code</th>\n",
       "      <th>latitude</th>\n",
       "      <th>longitude</th>\n",
       "      <th>stars</th>\n",
       "      <th>review_count</th>\n",
       "      <th>is_open</th>\n",
       "      <th>attributes</th>\n",
       "      <th>categories</th>\n",
       "      <th>hours</th>\n",
       "    </tr>\n",
       "  </thead>\n",
       "  <tbody>\n",
       "    <tr>\n",
       "      <th>140942</th>\n",
       "      <td>8ApG8Oe9-Yh9g_7iB9Nw7Q</td>\n",
       "      <td>The Office Bar and Grill</td>\n",
       "      <td>10767 N 116th St</td>\n",
       "      <td>Scottsdale</td>\n",
       "      <td>AZ</td>\n",
       "      <td>85250</td>\n",
       "      <td>33.584068</td>\n",
       "      <td>-111.830409</td>\n",
       "      <td>3.5</td>\n",
       "      <td>40</td>\n",
       "      <td>0</td>\n",
       "      <td>{'BusinessParking': '{'garage': False, 'street...</td>\n",
       "      <td>Restaurants, Nightlife, Bars, American (Tradit...</td>\n",
       "      <td>None</td>\n",
       "    </tr>\n",
       "    <tr>\n",
       "      <th>180206</th>\n",
       "      <td>_d_nkRmQDRRA0oOaxR-W8Q</td>\n",
       "      <td>Stowaway Pub</td>\n",
       "      <td>3041 Graham Rd</td>\n",
       "      <td>Stow</td>\n",
       "      <td>OH</td>\n",
       "      <td>44224</td>\n",
       "      <td>41.167404</td>\n",
       "      <td>-81.404602</td>\n",
       "      <td>3.0</td>\n",
       "      <td>16</td>\n",
       "      <td>1</td>\n",
       "      <td>{'Alcohol': 'u'full_bar'', 'WiFi': 'u'free'', ...</td>\n",
       "      <td>Restaurants, Bars, Nightlife, Pubs</td>\n",
       "      <td>{'Monday': '11:0-1:0', 'Tuesday': '11:0-1:0', ...</td>\n",
       "    </tr>\n",
       "    <tr>\n",
       "      <th>1901</th>\n",
       "      <td>tamr4J75GguGhF1hm1wEaA</td>\n",
       "      <td>Jersey Mike's Subs</td>\n",
       "      <td>555 North Scottsdale Rd, Ste 103</td>\n",
       "      <td>Tempe</td>\n",
       "      <td>AZ</td>\n",
       "      <td>85281</td>\n",
       "      <td>33.434402</td>\n",
       "      <td>-111.925484</td>\n",
       "      <td>3.5</td>\n",
       "      <td>101</td>\n",
       "      <td>1</td>\n",
       "      <td>{'Alcohol': 'u'none'', 'RestaurantsGoodForGrou...</td>\n",
       "      <td>Fast Food, Sandwiches, Delis, Restaurants</td>\n",
       "      <td>{'Monday': '0:0-0:0', 'Tuesday': '10:0-18:0', ...</td>\n",
       "    </tr>\n",
       "    <tr>\n",
       "      <th>99812</th>\n",
       "      <td>laac2uH1lQVzBjKFUjuA1Q</td>\n",
       "      <td>The Egg Cafe</td>\n",
       "      <td>9525 Birkdale Crossing, ste 101</td>\n",
       "      <td>Huntersville</td>\n",
       "      <td>NC</td>\n",
       "      <td>28078</td>\n",
       "      <td>35.442754</td>\n",
       "      <td>-80.885860</td>\n",
       "      <td>3.0</td>\n",
       "      <td>24</td>\n",
       "      <td>1</td>\n",
       "      <td>{'RestaurantsReservations': 'False', 'GoodForM...</td>\n",
       "      <td>Breakfast &amp; Brunch, Restaurants</td>\n",
       "      <td>{'Monday': '7:0-14:0', 'Tuesday': '7:0-14:0', ...</td>\n",
       "    </tr>\n",
       "    <tr>\n",
       "      <th>158965</th>\n",
       "      <td>v9ZRK2k85eFlZ6rLYVbMqQ</td>\n",
       "      <td>Jersey Mike's Subs</td>\n",
       "      <td>4603 East Cactus Rd</td>\n",
       "      <td>Phoenix</td>\n",
       "      <td>AZ</td>\n",
       "      <td>85032</td>\n",
       "      <td>33.598679</td>\n",
       "      <td>-111.984061</td>\n",
       "      <td>3.0</td>\n",
       "      <td>48</td>\n",
       "      <td>1</td>\n",
       "      <td>{'HasTV': 'True', 'RestaurantsTableService': '...</td>\n",
       "      <td>Sandwiches, Restaurants, Delis, Fast Food</td>\n",
       "      <td>{'Monday': '0:0-0:0', 'Tuesday': '10:0-18:0', ...</td>\n",
       "    </tr>\n",
       "  </tbody>\n",
       "</table>\n",
       "</div>"
      ],
      "text/plain": [
       "                   business_id                      name  \\\n",
       "140942  8ApG8Oe9-Yh9g_7iB9Nw7Q  The Office Bar and Grill   \n",
       "180206  _d_nkRmQDRRA0oOaxR-W8Q              Stowaway Pub   \n",
       "1901    tamr4J75GguGhF1hm1wEaA        Jersey Mike's Subs   \n",
       "99812   laac2uH1lQVzBjKFUjuA1Q              The Egg Cafe   \n",
       "158965  v9ZRK2k85eFlZ6rLYVbMqQ        Jersey Mike's Subs   \n",
       "\n",
       "                                 address          city state postal_code  \\\n",
       "140942                  10767 N 116th St    Scottsdale    AZ       85250   \n",
       "180206                    3041 Graham Rd          Stow    OH       44224   \n",
       "1901    555 North Scottsdale Rd, Ste 103         Tempe    AZ       85281   \n",
       "99812    9525 Birkdale Crossing, ste 101  Huntersville    NC       28078   \n",
       "158965               4603 East Cactus Rd       Phoenix    AZ       85032   \n",
       "\n",
       "         latitude   longitude  stars  review_count  is_open  \\\n",
       "140942  33.584068 -111.830409    3.5            40        0   \n",
       "180206  41.167404  -81.404602    3.0            16        1   \n",
       "1901    33.434402 -111.925484    3.5           101        1   \n",
       "99812   35.442754  -80.885860    3.0            24        1   \n",
       "158965  33.598679 -111.984061    3.0            48        1   \n",
       "\n",
       "                                               attributes  \\\n",
       "140942  {'BusinessParking': '{'garage': False, 'street...   \n",
       "180206  {'Alcohol': 'u'full_bar'', 'WiFi': 'u'free'', ...   \n",
       "1901    {'Alcohol': 'u'none'', 'RestaurantsGoodForGrou...   \n",
       "99812   {'RestaurantsReservations': 'False', 'GoodForM...   \n",
       "158965  {'HasTV': 'True', 'RestaurantsTableService': '...   \n",
       "\n",
       "                                               categories  \\\n",
       "140942  Restaurants, Nightlife, Bars, American (Tradit...   \n",
       "180206                 Restaurants, Bars, Nightlife, Pubs   \n",
       "1901            Fast Food, Sandwiches, Delis, Restaurants   \n",
       "99812                     Breakfast & Brunch, Restaurants   \n",
       "158965          Sandwiches, Restaurants, Delis, Fast Food   \n",
       "\n",
       "                                                    hours  \n",
       "140942                                               None  \n",
       "180206  {'Monday': '11:0-1:0', 'Tuesday': '11:0-1:0', ...  \n",
       "1901    {'Monday': '0:0-0:0', 'Tuesday': '10:0-18:0', ...  \n",
       "99812   {'Monday': '7:0-14:0', 'Tuesday': '7:0-14:0', ...  \n",
       "158965  {'Monday': '0:0-0:0', 'Tuesday': '10:0-18:0', ...  "
      ]
     },
     "metadata": {},
     "output_type": "display_data"
    }
   ],
   "source": [
    "restaurantes_train = get_category(train_df)\n",
    "display(restaurantes_train.head())\n",
    "restaurantes_test = get_category(test_df)\n",
    "display(restaurantes_test.head())"
   ]
  },
  {
   "cell_type": "code",
   "execution_count": 28,
   "metadata": {},
   "outputs": [
    {
     "name": "stdout",
     "output_type": "stream",
     "text": [
      "Score with the training data R^2=0.0193\n",
      "Score with the test data R^2=0.0188\n",
      "w0 = 3.3968\n",
      "w1 = 0.0006\n"
     ]
    }
   ],
   "source": [
    "X_train = restaurantes_train['review_count'].values.reshape(-1,1)\n",
    "Y_train = restaurantes_train['stars'].values\n",
    "X_test = restaurantes_test['review_count'].values.reshape(-1,1)\n",
    "Y_test = restaurantes_test['stars'].values\n",
    "linear_model = LinearRegression().fit(X_train, Y_train)\n",
    "\n",
    "                         \n",
    "print(\"Score with the training data R^2={0:.4f}\".format(linear_model.score(X_train, Y_train)))\n",
    "print(\"Score with the test data R^2={0:.4f}\".format(linear_model.score(X_test, Y_test)))\n",
    "print(\"w0 = {0:.4f}\".format(linear_model.intercept_))\n",
    "print(\"w1 = {0:.4f}\".format(linear_model.coef_[0]))\n",
    "global_results['linear model restaurants'] = linear_model.score(X_test, Y_test)"
   ]
  },
  {
   "cell_type": "code",
   "execution_count": 29,
   "metadata": {},
   "outputs": [
    {
     "name": "stdout",
     "output_type": "stream",
     "text": [
      "Score with the training data R^2=0.0371\n",
      "Score with the test data R^2=0.0409\n",
      "w0 = 3.0567\n",
      "w1 = 0.2676\n"
     ]
    }
   ],
   "source": [
    "L_X_train = np.log10(X_train+1)\n",
    "L_X_test = np.log10(X_test+1)\n",
    "\n",
    "log_linear_model = LinearRegression().fit(L_X_train, Y_train)\n",
    "print(\"Score with the training data R^2={0:.4f}\".format(log_linear_model.score(L_X_train, Y_train)))\n",
    "print(\"Score with the test data R^2={0:.4f}\".format(log_linear_model.score(L_X_test, Y_test)))\n",
    "print(\"w0 = {0:.4f}\".format(log_linear_model.intercept_))\n",
    "print(\"w1 = {0:.4f}\".format(log_linear_model.coef_[0]))\n",
    "global_results['linear log model restaurants'] = log_linear_model.score(L_X_test, Y_test)"
   ]
  },
  {
   "cell_type": "code",
   "execution_count": 30,
   "metadata": {},
   "outputs": [
    {
     "data": {
      "text/plain": [
       "linear model                    0.002466\n",
       "linear log model                0.005722\n",
       "linear model restaurants        0.018828\n",
       "linear log model restaurants    0.040943\n",
       "dtype: float64"
      ]
     },
     "execution_count": 30,
     "metadata": {},
     "output_type": "execute_result"
    }
   ],
   "source": [
    "pd.Series(global_results)"
   ]
  },
  {
   "cell_type": "markdown",
   "metadata": {
    "slideshow": {
     "slide_type": "slide"
    }
   },
   "source": [
    "La **transformación logarítmica** de los conteos de revisiones produce una **mejora significativa**"
   ]
  },
  {
   "cell_type": "code",
   "execution_count": 31,
   "metadata": {},
   "outputs": [
    {
     "data": {
      "image/png": "[encoded data removed]",
      "text/plain": [
       "<Figure size 720x432 with 1 Axes>"
      ]
     },
     "metadata": {
      "needs_background": "light"
     },
     "output_type": "display_data"
    }
   ],
   "source": [
    "plt.figure(figsize=(10,6))\n",
    "plt.scatter(L_X_train, Y_train,marker='.',alpha=0.3,label='trainig data',color='red')\n",
    "plt.plot([min(L_X_train), max(L_X_train)], \n",
    "         log_linear_model.predict(np.array([min(L_X_train), max(L_X_train)]).reshape(-1,1)),\n",
    "         linewidth=2,\n",
    "        label='model')\n",
    "plt.xlabel('log number of reviews')\n",
    "plt.legend()\n",
    "_=plt.ylabel('ratings')"
   ]
  },
  {
   "cell_type": "markdown",
   "metadata": {},
   "source": [
    "## 3.2 Siguiente alternativa: cuantificación\n",
    "\n",
    "Los resultados anteriores muestran que la transformación logarítmica ayuda a controlar el hecho de que el rango de la característica `review_count` ocupe varios órdenes de magnitud.\n",
    "\n",
    "Una alternativa que podemos emplear es la **cuantificación**, que transforma esta variable continua *float* en una variable entera.\n",
    "\n",
    "Nos apoyamos en la función [`quantile`](https://pandas.pydata.org/pandas-docs/stable/reference/api/pandas.DataFrame.quantile.html) de `pandas` para definir los *bins* de la cuantificación"
   ]
  },
  {
   "cell_type": "code",
   "execution_count": 33,
   "metadata": {},
   "outputs": [
    {
     "name": "stdout",
     "output_type": "stream",
     "text": [
      "0.1      4.0\n",
      "0.2      6.0\n",
      "0.3     10.0\n",
      "0.4     15.0\n",
      "0.5     22.0\n",
      "0.6     34.0\n",
      "0.7     54.0\n",
      "0.8     90.0\n",
      "0.9    178.0\n",
      "Name: review_count, dtype: float64\n"
     ]
    }
   ],
   "source": [
    "# 10% de los negocios tienen 4 o menos revisiones\n",
    "deciles = restaurantes_train['review_count'].quantile([.1,.2,.3,.4,.5,.6,.7,.8,.9])\n",
    "print(deciles)"
   ]
  },
  {
   "cell_type": "code",
   "execution_count": 34,
   "metadata": {},
   "outputs": [
    {
     "data": {
      "image/png": "[encoded data removed]",
      "text/plain": [
       "<Figure size 720x432 with 1 Axes>"
      ]
     },
     "metadata": {
      "needs_background": "light"
     },
     "output_type": "display_data"
    }
   ],
   "source": [
    "plt.figure(figsize=(10,6))\n",
    "_=plt.hist(restaurantes_train['review_count'].values, \n",
    "           bins=np.logspace(0,np.log10(7000),20), \n",
    "           histtype='step',\n",
    "          linewidth=2)\n",
    "for pos in deciles:\n",
    "    plt.axvline(pos, color='r')\n",
    "plt.yscale('log')\n",
    "plt.xscale('log')\n",
    "plt.xlabel('Number of reviews')\n",
    "plt.ylabel('Number of restaurants')\n",
    "plt.grid()\n",
    "_=plt.title('Deciles of the distribution of review counts')"
   ]
  },
  {
   "cell_type": "markdown",
   "metadata": {},
   "source": [
    "Cuantificamos con la función [`numpy digitize`](https://numpy.org/doc/stable/reference/generated/numpy.digitize.html) y evaluamos los resultados"
   ]
  },
  {
   "cell_type": "code",
   "execution_count": 36,
   "metadata": {},
   "outputs": [],
   "source": [
    "restaurantes_train['decile_review_count'] = np.digitize(restaurantes_train['review_count'].values, \n",
    "                                                        deciles)\n",
    "restaurantes_test['decile_review_count'] = np.digitize(restaurantes_test['review_count'].values,\n",
    "                                                       deciles)"
   ]
  },
  {
   "cell_type": "code",
   "execution_count": 37,
   "metadata": {},
   "outputs": [
    {
     "name": "stdout",
     "output_type": "stream",
     "text": [
      "Score with the training data R^2=0.0319\n",
      "Score with the test data R^2=0.0358\n",
      "w0 = 3.2025\n",
      "w1 = 0.0519\n"
     ]
    }
   ],
   "source": [
    "# Training set observations\n",
    "X_train_dec = restaurantes_train['decile_review_count'].values.reshape(-1,1) # column vector, 1 feature and many rows\n",
    "# Training set targets\n",
    "Y_train = restaurantes_train['stars'].values\n",
    "# Test set observations\n",
    "X_test_dec = restaurantes_test['decile_review_count'].values.reshape(-1,1)\n",
    "# Test set targets\n",
    "Y_test = restaurantes_test['stars'].values\n",
    "\n",
    "dec_linear_model = LinearRegression().fit(X_train_dec, Y_train)\n",
    "print(\"Score with the training data R^2={0:.4f}\".format(dec_linear_model.score(X_train_dec, Y_train)))\n",
    "print(\"Score with the test data R^2={0:.4f}\".format(dec_linear_model.score(X_test_dec, Y_test)))\n",
    "print(\"w0 = {0:.4f}\".format(dec_linear_model.intercept_))\n",
    "print(\"w1 = {0:.4f}\".format(dec_linear_model.coef_[0]))\n",
    "global_results['linear dec model restaurants'] = dec_linear_model.score(X_test_dec, Y_test)\n"
   ]
  },
  {
   "cell_type": "code",
   "execution_count": 38,
   "metadata": {},
   "outputs": [
    {
     "data": {
      "image/png": "[encoded data removed]",
      "text/plain": [
       "<Figure size 720x432 with 1 Axes>"
      ]
     },
     "metadata": {
      "needs_background": "light"
     },
     "output_type": "display_data"
    }
   ],
   "source": [
    "plt.figure(figsize=(10,6))\n",
    "plt.scatter(X_train_dec, Y_train,marker='.',alpha=0.3,label='trainig data',color='red')\n",
    "plt.plot([min(X_train_dec), max(X_train_dec)], \n",
    "         dec_linear_model.predict(np.array([min(X_train_dec), max(X_train_dec)]).reshape(-1,1)),\n",
    "        label='model',\n",
    "        linewidth=2)\n",
    "plt.xlabel('decile number of reviews')\n",
    "plt.legend()\n",
    "_=plt.ylabel('ratings')"
   ]
  },
  {
   "cell_type": "code",
   "execution_count": 39,
   "metadata": {},
   "outputs": [
    {
     "data": {
      "text/plain": [
       "linear model                    0.002466\n",
       "linear log model                0.005722\n",
       "linear model restaurants        0.018828\n",
       "linear log model restaurants    0.040943\n",
       "linear dec model restaurants    0.035779\n",
       "dtype: float64"
      ]
     },
     "execution_count": 39,
     "metadata": {},
     "output_type": "execute_result"
    }
   ],
   "source": [
    "pd.Series(global_results)"
   ]
  },
  {
   "cell_type": "markdown",
   "metadata": {
    "slideshow": {
     "slide_type": "slide"
    }
   },
   "source": [
    "Vemos cómo la **cuantificación también ayuda a controlar** el problema de que el número de revisiones expanda varios órdenes de magnitud."
   ]
  },
  {
   "cell_type": "markdown",
   "metadata": {
    "slideshow": {
     "slide_type": "slide"
    }
   },
   "source": [
    "## Empleo de otras alternativas como observaciones: proximidad entre negocios\n",
    "\n",
    "Los restaurantes a veces aparecen en los mismo barrios, y puede que restaurantes que están cerca tengan *ratings* parecidos. Esta relación de proximidad no se puede capturar con el regresor lineal, por lo que vamos a cambiar el modelo por uno basado en vecinos más próximos.\n",
    "\n",
    "En la base de datos tenemos la **latitud** y la **longitud** de cada establecimiento, y podemos emplear estas dos variables para encontrar los restaurantes que estén más cerca.\n",
    "\n",
    "Empezamos con [10 vecinos más próximos](https://scikit-learn.org/stable/modules/generated/sklearn.neighbors.KNeighborsRegressor.html?highlight=kneighborsregressor#) como modelo de regresión."
   ]
  },
  {
   "cell_type": "code",
   "execution_count": 40,
   "metadata": {},
   "outputs": [
    {
     "name": "stdout",
     "output_type": "stream",
     "text": [
      "Score with the training data R^2=0.1828\n",
      "Score with the test data R^2=0.0026\n"
     ]
    }
   ],
   "source": [
    "from sklearn.neighbors import KNeighborsRegressor\n",
    "X_train = restaurantes_train.loc[:,['latitude','longitude']].values\n",
    "Y_train = restaurantes_train['stars'].values\n",
    "X_test = restaurantes_test.loc[:,['latitude','longitude']].values\n",
    "Y_test = restaurantes_test['stars'].values\n",
    "\n",
    "knn_model = KNeighborsRegressor(n_neighbors=10, weights='uniform').fit(X_train, Y_train)\n",
    "print(\"Score with the training data R^2={0:.4f}\".format(knn_model.score(X_train, Y_train)))\n",
    "print(\"Score with the test data R^2={0:.4f}\".format(knn_model.score(X_test, Y_test)))\n"
   ]
  },
  {
   "cell_type": "markdown",
   "metadata": {
    "slideshow": {
     "slide_type": "subslide"
    }
   },
   "source": [
    "parece que 10 vecinos **sobreajusta**...\n",
    "\n",
    "Vamos a emplear la funcionalidad [`GridSearchCV`](https://scikit-learn.org/stable/modules/generated/sklearn.model_selection.GridSearchCV.html) de *scikit learn* para aprender el número de vecinos y la función de ponderación."
   ]
  },
  {
   "cell_type": "code",
   "execution_count": 41,
   "metadata": {},
   "outputs": [],
   "source": [
    "from sklearn.model_selection import GridSearchCV"
   ]
  },
  {
   "cell_type": "code",
   "execution_count": 42,
   "metadata": {},
   "outputs": [],
   "source": [
    "v_k = [1,5,10,25,50,100,250,500] # some values for the number of neighbours\n",
    "v_weights = ['uniform','distance'] # combination of each neighbour vote\n",
    "knn_params = {'n_neighbors':v_k,\n",
    "             'weights':v_weights}"
   ]
  },
  {
   "cell_type": "code",
   "execution_count": 43,
   "metadata": {},
   "outputs": [
    {
     "name": "stdout",
     "output_type": "stream",
     "text": [
      "Score with the training data R^2=0.0574\n",
      "Score with the test data R^2=0.0398\n",
      "Hyperparameters choosen with cross-validation\n",
      "{'n_neighbors': 100, 'weights': 'uniform'}\n"
     ]
    }
   ],
   "source": [
    "grid_knn = GridSearchCV(KNeighborsRegressor(), param_grid=knn_params, cv=5)\n",
    "grid_knn.fit(X_train, Y_train)\n",
    "print(\"Score with the training data R^2={0:.4f}\".format(grid_knn.score(X_train, Y_train)))\n",
    "print(\"Score with the test data R^2={0:.4f}\".format(grid_knn.score(X_test, Y_test)))\n",
    "print(\"Hyperparameters choosen with cross-validation\")\n",
    "print(grid_knn.best_params_)\n",
    "global_results['knn geo'] = grid_knn.score(X_test, Y_test)"
   ]
  },
  {
   "cell_type": "markdown",
   "metadata": {},
   "source": [
    "Observamos resultados parecidos a los obtenidos con el modelo lineal. Pero si analizamos el detalle de las predicciones"
   ]
  },
  {
   "cell_type": "code",
   "execution_count": 44,
   "metadata": {},
   "outputs": [
    {
     "data": {
      "image/png": "[encoded data removed]",
      "text/plain": [
       "<Figure size 720x288 with 2 Axes>"
      ]
     },
     "metadata": {
      "needs_background": "light"
     },
     "output_type": "display_data"
    }
   ],
   "source": [
    "ff,aa = plt.subplots(1,2,sharex=True, sharey=True, figsize=(10,4))\n",
    "aa[0].scatter(Y_train, \n",
    "            grid_knn.predict(X_train),\n",
    "            marker='.',alpha=0.3,)\n",
    "\n",
    "aa[0].set_xlabel('True rating')\n",
    "aa[0].set_ylabel('Predicted rating')\n",
    "aa[0].set_title('Training data')\n",
    "\n",
    "aa[1].scatter(Y_test, \n",
    "            grid_knn.predict(X_test),\n",
    "            marker='.',alpha=0.3,)\n",
    "\n",
    "aa[1].set_xlabel('True rating')\n",
    "aa[1].set_ylabel('Predicted rating')\n",
    "_=aa[1].set_title('Test data')"
   ]
  },
  {
   "cell_type": "markdown",
   "metadata": {},
   "source": [
    "Por lo menos ahora en algunos casos podemos hacer predicciones por debajo de 3.5 estrellas"
   ]
  },
  {
   "cell_type": "markdown",
   "metadata": {},
   "source": [
    "##  Combinar las dos fuentes de información\n",
    "\n",
    "Vamos a construir un modelo usando estas dos fuentes de información: el número de revisiones y la localización de cada establecimiento, para predecir el *rating*."
   ]
  },
  {
   "cell_type": "code",
   "execution_count": 45,
   "metadata": {},
   "outputs": [],
   "source": [
    "X_train = restaurantes_train.loc[:,['latitude','longitude','review_count']].values\n",
    "Y_train = restaurantes_train['stars'].values\n",
    "X_test = restaurantes_test.loc[:,['latitude','longitude','review_count']].values\n",
    "Y_test = restaurantes_test['stars'].values\n"
   ]
  },
  {
   "cell_type": "markdown",
   "metadata": {},
   "source": [
    "Emplearemos como familia de modelos los k vecinos más próximos"
   ]
  },
  {
   "cell_type": "code",
   "execution_count": 46,
   "metadata": {},
   "outputs": [
    {
     "name": "stdout",
     "output_type": "stream",
     "text": [
      "Score with the training data R^2=0.0651\n",
      "Score with the test data R^2=0.0689\n",
      "Hyperparameters choosen with cross-validation\n",
      "{'n_neighbors': 500, 'weights': 'uniform'}\n"
     ]
    }
   ],
   "source": [
    "grid_knn.fit(X_train, Y_train)\n",
    "\n",
    "print(\"Score with the training data R^2={0:.4f}\".format(grid_knn.score(X_train, Y_train)))\n",
    "print(\"Score with the test data R^2={0:.4f}\".format(grid_knn.score(X_test, Y_test)))\n",
    "print(\"Hyperparameters choosen with cross-validation\")\n",
    "print(grid_knn.best_params_)\n",
    "\n",
    "global_results['knn geo + review'] = grid_knn.score(X_test, Y_test)"
   ]
  },
  {
   "cell_type": "code",
   "execution_count": 47,
   "metadata": {},
   "outputs": [
    {
     "data": {
      "text/plain": [
       "linear model                    0.002466\n",
       "linear log model                0.005722\n",
       "linear model restaurants        0.018828\n",
       "linear log model restaurants    0.040943\n",
       "linear dec model restaurants    0.035779\n",
       "knn geo                         0.039750\n",
       "knn geo + review                0.068866\n",
       "dtype: float64"
      ]
     },
     "execution_count": 47,
     "metadata": {},
     "output_type": "execute_result"
    }
   ],
   "source": [
    "pd.Series(global_results)"
   ]
  },
  {
   "cell_type": "markdown",
   "metadata": {},
   "source": [
    "Se mejoran sensiblemente las prestaciones del modelo lineal. Vamos a ver si utilizar el número de revisiones en escala logarítmica mejora.\n",
    "\n"
   ]
  },
  {
   "cell_type": "code",
   "execution_count": 48,
   "metadata": {},
   "outputs": [
    {
     "name": "stdout",
     "output_type": "stream",
     "text": [
      "Score with the training data R^2=0.0747\n",
      "Score with the test data R^2=0.0760\n",
      "Hyperparameters choosen with cross-validation\n",
      "{'n_neighbors': 250, 'weights': 'uniform'}\n"
     ]
    }
   ],
   "source": [
    "restaurantes_train['log10_review_count'] = restaurantes_train['review_count'].apply(np.log10)\n",
    "restaurantes_test['log10_review_count'] = restaurantes_test['review_count'].apply(np.log10)\n",
    "\n",
    "X_train_log = restaurantes_train.loc[:,['latitude','longitude','log10_review_count']].values\n",
    "X_test_log = restaurantes_test.loc[:,['latitude','longitude','log10_review_count']].values\n",
    "\n",
    "grid_knn.fit(X_train_log, Y_train)\n",
    "\n",
    "print(\"Score with the training data R^2={0:.4f}\".format(grid_knn.score(X_train_log, Y_train)))\n",
    "print(\"Score with the test data R^2={0:.4f}\".format(grid_knn.score(X_test_log, Y_test)))\n",
    "print(\"Hyperparameters choosen with cross-validation\")\n",
    "print(grid_knn.best_params_)\n",
    "global_results['knn geo + log review'] = grid_knn.score(X_test_log, Y_test)"
   ]
  },
  {
   "cell_type": "code",
   "execution_count": 49,
   "metadata": {},
   "outputs": [
    {
     "data": {
      "image/png": "[encoded data removed]",
      "text/plain": [
       "<Figure size 720x288 with 2 Axes>"
      ]
     },
     "metadata": {
      "needs_background": "light"
     },
     "output_type": "display_data"
    }
   ],
   "source": [
    "ff,aa = plt.subplots(1,2,sharex=True, sharey=True, figsize=(10,4))\n",
    "aa[0].scatter(Y_train, \n",
    "            grid_knn.predict(X_train_log),\n",
    "            marker='.',alpha=0.3,)\n",
    "\n",
    "aa[0].set_xlabel('True rating')\n",
    "aa[0].set_ylabel('Predicted rating')\n",
    "aa[0].set_title('Training data')\n",
    "\n",
    "aa[1].scatter(Y_test, \n",
    "            grid_knn.predict(X_test_log),\n",
    "            marker='.',alpha=0.3,)\n",
    "\n",
    "aa[1].set_xlabel('True rating')\n",
    "aa[1].set_ylabel('Predicted rating')\n",
    "_=aa[1].set_title('Test data')\n"
   ]
  },
  {
   "cell_type": "markdown",
   "metadata": {},
   "source": [
    "Alternativamente podemos emplear los deciles de los números de revisiones "
   ]
  },
  {
   "cell_type": "code",
   "execution_count": 50,
   "metadata": {},
   "outputs": [],
   "source": [
    "X_train_dec = restaurantes_train.loc[:,['latitude','longitude','decile_review_count']].values\n",
    "X_test_dec = restaurantes_test.loc[:,['latitude','longitude','decile_review_count']].values"
   ]
  },
  {
   "cell_type": "code",
   "execution_count": 51,
   "metadata": {},
   "outputs": [
    {
     "name": "stdout",
     "output_type": "stream",
     "text": [
      "Score with the training data R^2=0.0865\n",
      "Score with the test data R^2=0.0777\n",
      "Hyperparameters choosen with cross-validation\n",
      "{'n_neighbors': 100, 'weights': 'uniform'}\n"
     ]
    }
   ],
   "source": [
    "grid_knn.fit(X_train_dec, Y_train)\n",
    "\n",
    "print(\"Score with the training data R^2={0:.4f}\".format(grid_knn.score(X_train_dec, Y_train)))\n",
    "print(\"Score with the test data R^2={0:.4f}\".format(grid_knn.score(X_test_dec, Y_test)))\n",
    "print(\"Hyperparameters choosen with cross-validation\")\n",
    "print(grid_knn.best_params_)\n",
    "\n",
    "global_results['knn geo + deciles '] = grid_knn.score(X_test_dec, Y_test)"
   ]
  },
  {
   "cell_type": "code",
   "execution_count": 52,
   "metadata": {},
   "outputs": [
    {
     "data": {
      "text/plain": [
       "linear model                    0.002466\n",
       "linear log model                0.005722\n",
       "linear model restaurants        0.018828\n",
       "linear log model restaurants    0.040943\n",
       "linear dec model restaurants    0.035779\n",
       "knn geo                         0.039750\n",
       "knn geo + review                0.068866\n",
       "knn geo + log review            0.075991\n",
       "knn geo + deciles               0.077709\n",
       "dtype: float64"
      ]
     },
     "execution_count": 52,
     "metadata": {},
     "output_type": "execute_result"
    }
   ],
   "source": [
    "pd.Series(global_results)"
   ]
  },
  {
   "cell_type": "markdown",
   "metadata": {},
   "source": [
    "Hemos mejorado numéricamente y también en cuanto a la interpretabilidad del modelo. En el caso del logaritmo, es mejor definir con 250 vecinos que con 500... De hecho puede ser que 250 sean demasiados vecinos... \n",
    "\n",
    "En el caso de usar los deciles, también se mejora el $R^2$ y solo con 100 vecinos, que puede que sean demasiados para una buena interpretabilidad...\n",
    "\n",
    "Vamos a ver cuántos restaurantes hay en cada una de las localizaciones"
   ]
  },
  {
   "cell_type": "code",
   "execution_count": 53,
   "metadata": {},
   "outputs": [
    {
     "data": {
      "image/png": "[encoded data removed]",
      "text/plain": [
       "<Figure size 432x288 with 1 Axes>"
      ]
     },
     "metadata": {
      "needs_background": "light"
     },
     "output_type": "display_data"
    }
   ],
   "source": [
    "restaurants_per_city_train = restaurantes_train['city'].value_counts()\n",
    "restaurants_per_city_test = restaurantes_test['city'].value_counts()\n",
    "\n",
    "plt.figure()\n",
    "plt.hist(restaurants_per_city_train.values,\n",
    "        bins=np.logspace(0,np.log10(4000),10))\n",
    "plt.xscale('log')\n",
    "plt.xlabel('Restaurants per city')\n",
    "_=plt.ylabel('Number of cities')"
   ]
  },
  {
   "cell_type": "markdown",
   "metadata": {},
   "source": [
    "Vemos que hay unas pocas ciudades que tienen más de 200 restaurantes, la mayoría tiene menos de 50, por lo que los vecinos van a estar lejos... "
   ]
  },
  {
   "cell_type": "code",
   "execution_count": 54,
   "metadata": {},
   "outputs": [],
   "source": [
    "from sklearn.metrics.pairwise import euclidean_distances"
   ]
  },
  {
   "cell_type": "code",
   "execution_count": 55,
   "metadata": {},
   "outputs": [],
   "source": [
    "def geographical_distance_to_neighbours(xtrain, \n",
    "                                        xtest, \n",
    "                                        v_N = [5, 10, 100, 250, 500]):\n",
    "    n = xtest.shape[0]\n",
    "    #distance with all the fields\n",
    "    xtrain_2 = np.sum(xtrain **2, 1) \n",
    "    xtest_2 = np.sum(xtest **2, 1)\n",
    "    #geographical distance (we know it's the first 2 coordinates)\n",
    "    xtrain_2_g = np.sum(xtrain[:,:2] **2, 1) \n",
    "    xtest_2_g = np.sum(xtest[:,:2] **2, 1)\n",
    "\n",
    "\n",
    "    Distance = np.empty((n, len(v_N)))\n",
    "    for ii in range(n):\n",
    "        # find neighbors\n",
    "        dd = euclidean_distances(xtest[ii,:].reshape(1,-1), \n",
    "                                 Y=xtrain, \n",
    "                                 Y_norm_squared=xtrain_2,\n",
    "                                 X_norm_squared=np.array([xtest_2[ii]]).reshape(-1,1))[0]\n",
    "        sorted_dd = np.argsort(dd)\n",
    "        for ij, N in enumerate(v_N):\n",
    "            Distance[ii,ij] = euclidean_distances(xtest[ii,:2].reshape(1,-1), \n",
    "                                 Y=xtrain[sorted_dd[N],:2].reshape(1,-1), \n",
    "                                 Y_norm_squared=np.array(xtrain_2_g[sorted_dd[N]]).reshape(-1,1),\n",
    "                                 X_norm_squared=np.array([xtest_2_g[ii]]).reshape(-1,1))[0]\n",
    "    return Distance"
   ]
  },
  {
   "cell_type": "markdown",
   "metadata": {},
   "source": [
    "Calculamos la distancia geográfica al vecino 5, 10, 100, 250, 500 si usamos el número de revisiones y lo comparamos con la distancia si usamos el logaritmo del número de revisiones para los 5000 primeros negocios de la lista de test. "
   ]
  },
  {
   "cell_type": "code",
   "execution_count": 56,
   "metadata": {},
   "outputs": [],
   "source": [
    "Distance_geographical = geographical_distance_to_neighbours(X_train, \n",
    "                                        X_test[:5000,:])\n",
    "Distance_geographical_log = geographical_distance_to_neighbours(X_train_log, \n",
    "                                        X_test_log[:5000,:])"
   ]
  },
  {
   "cell_type": "code",
   "execution_count": 57,
   "metadata": {},
   "outputs": [
    {
     "data": {
      "image/png": "[encoded data removed]",
      "text/plain": [
       "<Figure size 720x288 with 2 Axes>"
      ]
     },
     "metadata": {
      "needs_background": "light"
     },
     "output_type": "display_data"
    }
   ],
   "source": [
    "ff,ax = plt.subplots(1,2,sharex=True, figsize=(10,4))\n",
    "labels = ['5', '10', '100', '250', '500']\n",
    "l_means = Distance_geographical.mean(0)\n",
    "r_means = Distance_geographical_log.mean(0)\n",
    "l_stdv = Distance_geographical.std(0)\n",
    "r_stdv = Distance_geographical_log.std(0)\n",
    "x = np.arange(len(labels))  # the label locations\n",
    "width = 0.35  # the width of the bars\n",
    "\n",
    "rects2 = ax[0].bar(x + width/2, r_means, width, yerr=r_stdv, label='log num. reviews')\n",
    "rects1 = ax[0].bar(x - width/2, l_means, width, yerr=l_stdv, label='num. reviews')\n",
    "\n",
    "# Add some text for labels, title and custom x-axis tick labels, etc.\n",
    "ax[0].set_ylabel('Distances')\n",
    "ax[0].set_title('Geographical distance to neighbors')\n",
    "ax[0].set_xticks(x)\n",
    "ax[0].set_xticklabels(labels)\n",
    "ax[0].legend(loc=2)\n",
    "\n",
    "rects2 = ax[1].bar(x + width/2, r_means, width, yerr=r_stdv, label='log num. reviews')\n",
    "ax[1].set_ylabel('Distances')\n",
    "ax[1].set_title('Geographical distance to neighbors')\n",
    "ax[1].set_xticks(x)\n",
    "ax[1].set_xticklabels(labels)\n",
    "_= ax[1].legend(loc=2)"
   ]
  },
  {
   "cell_type": "markdown",
   "metadata": {
    "slideshow": {
     "slide_type": "subslide"
    }
   },
   "source": [
    "Vemos como efectivamente el peso del número de revisiones influye significativamente en la elección de los vecinos si se usa en logaritmo o no. "
   ]
  },
  {
   "cell_type": "markdown",
   "metadata": {
    "slideshow": {
     "slide_type": "slide"
    }
   },
   "source": [
    "## 3.3 Escalados de las variables\n",
    "\n",
    "La manera habitual de **controlar el peso relativo de las variables de entrada** en el diseño de los modelos de aprendizaje automático es mediante los escalados. Los escalados más habituales son:\n",
    "- [**Estandarización** o **normalización**](https://scikit-learn.org/stable/modules/generated/sklearn.preprocessing.StandardScaler.html): Conseguir que cada variable tenga **media nula y  varianza unidad** dentro del conjunto de entrenamiento\n",
    "\n",
    "- [**MinMax**](https://scikit-learn.org/stable/modules/generated/sklearn.preprocessing.MinMaxScaler.html#sklearn.preprocessing.MinMaxScaler): Conseguir que cada variable tome valores entre 0 y 1\n",
    "\n",
    "- [**MaxAbsScaler**](https://scikit-learn.org/stable/modules/generated/sklearn.preprocessing.MaxAbsScaler.html): Conseguir que cada variable en valor absoluto tome un valor máximo de 1. Este escalado es muy interesante para escenarios donde las observaciones son muy dispersas (bastantes ceros en la matriz de observaciones). Matemáticamente consiste en dividir cada columna por el máximo de su valor absoluto en el conjunto de entrenamiento. Esta operación no recentra las columnas, por lo que se **mantiene la dispersión**. \n",
    "\n",
    "\n",
    "Dentro de *scikit learn* podemos automatizar el escalado utilizando la funcionalidad [`Pipeline`](https://scikit-learn.org/stable/modules/classes.html?highlight=pipeline#module-sklearn.pipeline).\n",
    "\n",
    "<img src='http://www.tsc.uc3m.es/~emipar/BBVA/INTRO/img/logo_uc3m_foot.jpg' width=400 />"
   ]
  },
  {
   "cell_type": "code",
   "execution_count": 58,
   "metadata": {
    "slideshow": {
     "slide_type": "-"
    }
   },
   "outputs": [],
   "source": [
    "from sklearn.preprocessing import StandardScaler, MinMaxScaler\n",
    "from sklearn.pipeline import Pipeline"
   ]
  },
  {
   "cell_type": "code",
   "execution_count": 59,
   "metadata": {},
   "outputs": [],
   "source": [
    "# Pipeline definition. List with all the stages of the pipeline\n",
    "knn_pipe = Pipeline([('scaler', MinMaxScaler()), ('regressor',KNeighborsRegressor())])\n",
    "# Dictionary with hyperparameters for all the stages of the pipeline, \n",
    "# that will be tuned with crossvalidation\n",
    "params_pipe = {'regressor__n_neighbors':v_k,\n",
    "             'regressor__weights':v_weights,\n",
    "              'scaler':[MinMaxScaler(), StandardScaler(),'passthrough']}\n",
    "# 'passthrough' means skip this stage. \n",
    "# This way we can estimate with crossvalidation if scaling was a good idea or not"
   ]
  },
  {
   "cell_type": "code",
   "execution_count": 60,
   "metadata": {},
   "outputs": [
    {
     "name": "stdout",
     "output_type": "stream",
     "text": [
      "Score with the training data R^2=0.9977\n",
      "Score with the test data R^2=0.0784\n",
      "Hyperparameters choosen with cross-validation\n",
      "{'regressor__n_neighbors': 250, 'regressor__weights': 'distance', 'scaler': MinMaxScaler()}\n"
     ]
    }
   ],
   "source": [
    "# set up the grid to optimize the hyperparameters and train the pipeline stages\n",
    "grid_pipe = GridSearchCV(knn_pipe, param_grid= params_pipe, cv=5)\n",
    "grid_pipe.fit(X_train, Y_train)\n",
    "print(\"Score with the training data R^2={0:.4f}\".format(grid_pipe.score(X_train, Y_train)))\n",
    "print(\"Score with the test data R^2={0:.4f}\".format(grid_pipe.score(X_test, Y_test)))\n",
    "print(\"Hyperparameters choosen with cross-validation\")\n",
    "print(grid_pipe.best_params_)\n",
    "\n",
    "global_results['knn + scale geo + review'] = grid_pipe.score(X_test, Y_test)"
   ]
  },
  {
   "cell_type": "markdown",
   "metadata": {},
   "source": [
    "También podemos probar con los conteos de revisiones en logaritmico"
   ]
  },
  {
   "cell_type": "code",
   "execution_count": 61,
   "metadata": {},
   "outputs": [
    {
     "name": "stdout",
     "output_type": "stream",
     "text": [
      "Score with the training data R^2=0.0747\n",
      "Score with the test data R^2=0.0760\n",
      "Hyperparameters choosen with cross-validation\n",
      "{'regressor__n_neighbors': 250, 'regressor__weights': 'uniform', 'scaler': 'passthrough'}\n"
     ]
    }
   ],
   "source": [
    "grid_pipe_log = GridSearchCV(knn_pipe, param_grid= params_pipe, cv=5)\n",
    "grid_pipe_log.fit(X_train_log, Y_train)\n",
    "print(\"Score with the training data R^2={0:.4f}\".format(grid_pipe_log.score(X_train_log, Y_train)))\n",
    "print(\"Score with the test data R^2={0:.4f}\".format(grid_pipe_log.score(X_test_log, Y_test)))\n",
    "print(\"Hyperparameters choosen with cross-validation\")\n",
    "print(grid_pipe_log.best_params_)\n",
    "global_results['knn + scale geo + log review'] = grid_pipe_log.score(X_test_log, Y_test)\n"
   ]
  },
  {
   "cell_type": "markdown",
   "metadata": {},
   "source": [
    "O con los deciles"
   ]
  },
  {
   "cell_type": "code",
   "execution_count": 62,
   "metadata": {},
   "outputs": [
    {
     "name": "stdout",
     "output_type": "stream",
     "text": [
      "Score with the training data R^2=0.0865\n",
      "Score with the test data R^2=0.0777\n",
      "Hyperparameters choosen with cross-validation\n",
      "{'regressor__n_neighbors': 100, 'regressor__weights': 'uniform', 'scaler': 'passthrough'}\n"
     ]
    }
   ],
   "source": [
    "# set up the grid to optimize the hyperparameters and train the pipeline stages\n",
    "grid_pipe_dec = GridSearchCV(knn_pipe, param_grid= params_pipe, cv=5)\n",
    "grid_pipe_dec.fit(X_train_dec, Y_train)\n",
    "print(\"Score with the training data R^2={0:.4f}\".format(grid_pipe_dec.score(X_train_dec, Y_train)))\n",
    "print(\"Score with the test data R^2={0:.4f}\".format(grid_pipe_dec.score(X_test_dec, Y_test)))\n",
    "print(\"Hyperparameters choosen with cross-validation\")\n",
    "print(grid_pipe_dec.best_params_)\n",
    "\n",
    "global_results['knn + scale geo + deciles'] = grid_pipe_dec.score(X_test_dec, Y_test)"
   ]
  },
  {
   "cell_type": "markdown",
   "metadata": {},
   "source": [
    "Vamos a comprobar cómo los escalados controlan el peso de cada variable en el cálculo de las distancias."
   ]
  },
  {
   "cell_type": "code",
   "execution_count": 63,
   "metadata": {},
   "outputs": [],
   "source": [
    "# norm of the two geographical coordinates in the original data\n",
    "geo_norm_Xtest = np.linalg.norm(X_test[:,:2],axis=1)\n",
    "# Number of reviews in the test set, original data\n",
    "count_xtest = X_test[:,2]\n",
    "# Logarithm of the number of reviews in the test set, original data\n",
    "count_log_xtest = X_test_log[:,2]\n",
    "\n",
    "# Decile of the number of reviews in the test set, original data\n",
    "count_dec_xtest = X_test_dec[:,2]\n",
    "\n",
    "# Learn an Standard Scaler with the training data, and the number of reviews as count\n",
    "std_sca = StandardScaler().fit(X_train)\n",
    "# scale the test set data\n",
    "xtest_std = std_sca.transform(X_test)\n",
    "# norm of the two geographical coordinates after being standard-scaled\n",
    "std_norm_Xtest = np.linalg.norm(xtest_std[:,:2],axis=1)\n",
    "# Number of reviews in the test set after being standard-scaled\n",
    "count_std_xtest = np.absolute(xtest_std[:,2])\n",
    "\n",
    "# Learn an MinMax Scaler with the training data, and the number of reviews as count\n",
    "mm_sca = MinMaxScaler().fit(X_train)\n",
    "# scale the test set data\n",
    "xtest_mm = mm_sca.transform(X_test)\n",
    "# norm of the two geographical coordinates after being MinMax-scaled\n",
    "mm_norm_Xtest = np.linalg.norm(xtest_mm[:,:2],axis=1)\n",
    "# Number of reviews in the test set after being MinMax-scaled\n",
    "count_mm_xtest = np.absolute(xtest_mm[:,2])\n",
    "\n",
    "# Learn an Standard Scaler with the training data, and the number of reviews as log\n",
    "log_std_sca = StandardScaler().fit(X_train_log)\n",
    "# scale the test set data\n",
    "log_xtest_std = log_std_sca.transform(X_test_log)\n",
    "# norm of the two geographical coordinates after being standard-scaled\n",
    "log_std_norm_Xtest = np.linalg.norm(log_xtest_std[:,:2],axis=1)\n",
    "# Number of reviews in the test set after being standard-scaled\n",
    "log_count_std_xtest = np.absolute(log_xtest_std[:,2])\n",
    "\n",
    "# Learn an MinMax Scaler with the training data, and the number of reviews as count\n",
    "log_mm_sca = MinMaxScaler().fit(X_train_log)\n",
    "# scale the test set data\n",
    "log_xtest_mm = log_mm_sca.transform(X_test_log)\n",
    "# norm of the two geographical coordinates after being MinMax-scaled\n",
    "log_mm_norm_Xtest = np.linalg.norm(log_xtest_mm[:,:2],axis=1)\n",
    "# Number of reviews in the test set after being MinMax-scaled\n",
    "log_count_mm_xtest = np.absolute(log_xtest_mm[:,2])\n",
    "\n",
    "\n",
    "\n",
    "# Learn an Standard Scaler with the training data, and the number of reviews as log\n",
    "dec_std_sca = StandardScaler().fit(X_train_dec)\n",
    "# scale the test set data\n",
    "dec_xtest_std = dec_std_sca.transform(X_test_dec)\n",
    "# norm of the two geographical coordinates after being standard-scaled\n",
    "dec_std_norm_Xtest = np.linalg.norm(dec_xtest_std[:,:2],axis=1)\n",
    "# Number of reviews in the test set after being standard-scaled\n",
    "dec_count_std_xtest = np.absolute(dec_xtest_std[:,2])\n",
    "\n",
    "# Learn an MinMax Scaler with the training data, and the number of reviews as count\n",
    "dec_mm_sca = MinMaxScaler().fit(X_train_dec)\n",
    "# scale the test set data\n",
    "dec_xtest_mm = dec_mm_sca.transform(X_test_dec)\n",
    "# norm of the two geographical coordinates after being MinMax-scaled\n",
    "dec_mm_norm_Xtest = np.linalg.norm(dec_xtest_mm[:,:2],axis=1)\n",
    "# Number of reviews in the test set after being MinMax-scaled\n",
    "dec_count_mm_xtest = np.absolute(dec_xtest_mm[:,2])\n"
   ]
  },
  {
   "cell_type": "code",
   "execution_count": 62,
   "metadata": {},
   "outputs": [
    {
     "data": {
      "image/png": "[encoded data removed]",
      "text/plain": [
       "<Figure size 648x576 with 9 Axes>"
      ]
     },
     "metadata": {
      "image/png": {
       "height": 567,
       "width": 639
      },
      "needs_background": "light"
     },
     "output_type": "display_data"
    }
   ],
   "source": [
    "ff,aa = plt.subplots(3,3,figsize=(9,8))\n",
    "aa[0][0].scatter(geo_norm_Xtest,count_xtest)\n",
    "aa[0][0].set_xlabel('Geographical norm')\n",
    "aa[0][0].set_ylabel('Num. of reviews')\n",
    "\n",
    "aa[0][1].scatter(geo_norm_Xtest,count_log_xtest)\n",
    "aa[0][1].set_xlabel('Geographical norm')\n",
    "aa[0][1].set_ylabel('Log num. of reviews')\n",
    "\n",
    "aa[0][2].scatter(geo_norm_Xtest,count_dec_xtest)\n",
    "aa[0][2].set_xlabel('Geographical norm')\n",
    "aa[0][2].set_ylabel('Deciles num. of reviews')\n",
    "\n",
    "aa[1][0].scatter(std_norm_Xtest,count_std_xtest)\n",
    "aa[1][0].set_xlabel('Geographical norm, StdScald')\n",
    "aa[1][0].set_ylabel('Num. reviews, StdScald')\n",
    "\n",
    "aa[2][0].scatter(mm_norm_Xtest,count_mm_xtest)\n",
    "aa[2][0].set_xlabel('Geographical norm, MinMaxScld')\n",
    "aa[2][0].set_ylabel('Num. reviews, MinMaxScld')\n",
    "\n",
    "\n",
    "aa[1][1].scatter(log_std_norm_Xtest,log_count_std_xtest)\n",
    "aa[1][1].set_xlabel('Geographical norm, StdScald')\n",
    "aa[1][1].set_ylabel('Log num. reviews, StdScald')\n",
    "\n",
    "aa[2][1].scatter(log_mm_norm_Xtest,log_count_mm_xtest)\n",
    "aa[2][1].set_xlabel('Geographical norm, MinMaxScld')\n",
    "aa[2][1].set_ylabel('Log num. reviews, MinMaxScld')\n",
    "\n",
    "aa[1][2].scatter(dec_std_norm_Xtest,dec_count_std_xtest)\n",
    "aa[1][2].set_xlabel('Geographical norm, StdScald')\n",
    "aa[1][2].set_ylabel('Decile num. reviews, StdScald')\n",
    "\n",
    "aa[2][2].scatter(dec_mm_norm_Xtest,dec_count_mm_xtest)\n",
    "aa[2][2].set_xlabel('Geographical norm, MinMaxScld')\n",
    "aa[2][2].set_ylabel('Decile num. reviews, MinMaxScld')\n",
    "\n",
    "ff.tight_layout()"
   ]
  },
  {
   "cell_type": "markdown",
   "metadata": {
    "slideshow": {
     "slide_type": "slide"
    }
   },
   "source": [
    "## Introducimos otra fuente alternativa de información: rango de precios\n",
    "\n",
    "Podemos completar el modelo con otra variable continua, que es el rango de precios de los restaurantes. Para extraer este valor tenemos que procesar el diccionario del campo `attributes`. La siguiente función precisamente explora el campo `attributes` y recupera uno de los atributos\n"
   ]
  },
  {
   "cell_type": "code",
   "execution_count": 64,
   "metadata": {},
   "outputs": [],
   "source": [
    "def get_attribute(df, attribute_name):\n",
    "    att_series = pd.Series('',index = df.index) # to store result and return.\n",
    "    # the attributes are strings, therefore we initialize with empty strings\n",
    "    # dataframe just with field attributes. This field is a dictionary\n",
    "    attribute_in_df = df['attributes'].dropna()\n",
    "    indice = attribute_in_df.index\n",
    "    # find out which rows do have the searched attribute\n",
    "    indice_with_value = indice[attribute_in_df.apply(lambda x: attribute_name in x.keys() and x[attribute_name] is not None).values]\n",
    "    # copy the value of the attribute in the series that will be returned, \n",
    "    # but just in the rows in which the attribute was present \n",
    "    att_series.loc[indice_with_value] = attribute_in_df.loc[indice_with_value].apply(lambda x:x[attribute_name])\n",
    "    return att_series"
   ]
  },
  {
   "cell_type": "code",
   "execution_count": 67,
   "metadata": {},
   "outputs": [],
   "source": [
    "restaurantes_train['price_range'] = get_attribute(restaurantes_train, 'RestaurantsPriceRange2')\n",
    "restaurantes_test['price_range'] = get_attribute(restaurantes_test, 'RestaurantsPriceRange2')\n"
   ]
  },
  {
   "cell_type": "markdown",
   "metadata": {},
   "source": [
    "Comprobamos los valores presentes en el rango de precios"
   ]
  },
  {
   "cell_type": "code",
   "execution_count": 68,
   "metadata": {},
   "outputs": [
    {
     "data": {
      "text/plain": [
       "2       14403\n",
       "1       11159\n",
       "         4921\n",
       "3        1434\n",
       "4         262\n",
       "None       22\n",
       "Name: price_range, dtype: int64"
      ]
     },
     "execution_count": 68,
     "metadata": {},
     "output_type": "execute_result"
    }
   ],
   "source": [
    "restaurantes_train['price_range'].value_counts()"
   ]
  },
  {
   "cell_type": "markdown",
   "metadata": {
    "slideshow": {
     "slide_type": "subslide"
    }
   },
   "source": [
    "Tenemos dos valores para rango de precios desconocidos, una cadena vacía, y la cadena \"None\", más 4 rangos de 1 a 4. Hasta que veamos el módulo de imputación vamos a adoptar la solución fácil que consiste en descartar las filas que no tienen rango de precios."
   ]
  },
  {
   "cell_type": "code",
   "execution_count": 69,
   "metadata": {},
   "outputs": [
    {
     "data": {
      "text/plain": [
       "2    14403\n",
       "1    11159\n",
       "      4943\n",
       "3     1434\n",
       "4      262\n",
       "Name: price_range, dtype: int64"
      ]
     },
     "execution_count": 69,
     "metadata": {},
     "output_type": "execute_result"
    }
   ],
   "source": [
    "restaurantes_test['price_range'] = restaurantes_test['price_range'].apply(lambda x:'' if x == 'None' else x)\n",
    "restaurantes_train['price_range'] = restaurantes_train['price_range'].apply(lambda x:'' if x =='None' else x)\n",
    "restaurantes_train['price_range'].value_counts()"
   ]
  },
  {
   "cell_type": "markdown",
   "metadata": {},
   "source": [
    "Ahora transformamos a valores enteros, y descartamos las cadenas vacías"
   ]
  },
  {
   "cell_type": "code",
   "execution_count": 70,
   "metadata": {},
   "outputs": [
    {
     "data": {
      "text/plain": [
       "2.0    14403\n",
       "1.0    11159\n",
       "3.0     1434\n",
       "4.0      262\n",
       "Name: price_range, dtype: int64"
      ]
     },
     "execution_count": 70,
     "metadata": {},
     "output_type": "execute_result"
    }
   ],
   "source": [
    "restaurantes_test['price_range'] = restaurantes_test['price_range'].apply(lambda x: int(x) if x != '' else None)\n",
    "restaurantes_train['price_range'] = restaurantes_train['price_range'].apply(lambda x:int(x) if x !='' else None)\n",
    "restaurantes_train['price_range'].value_counts()"
   ]
  },
  {
   "cell_type": "code",
   "execution_count": 71,
   "metadata": {},
   "outputs": [],
   "source": [
    "columns = ['latitude','longitude','price_range','review_count','stars']\n",
    "X_train = restaurantes_train.loc[:,columns].dropna().values[:,:-1]\n",
    "Y_train = restaurantes_train.loc[:,columns].dropna().values[:,-1]\n",
    "X_test = restaurantes_test.loc[:,columns].dropna().values[:,:-1]\n",
    "Y_test = restaurantes_test.loc[:,columns].dropna().values[:,-1]\n"
   ]
  },
  {
   "cell_type": "code",
   "execution_count": 72,
   "metadata": {},
   "outputs": [
    {
     "name": "stdout",
     "output_type": "stream",
     "text": [
      "Score with the training data R^2=0.1427\n",
      "Score with the test data R^2=0.1135\n",
      "Hyperparameters choosen with cross-validation\n",
      "{'regressor__n_neighbors': 50, 'regressor__weights': 'uniform', 'scaler': MinMaxScaler()}\n"
     ]
    }
   ],
   "source": [
    "grid_pipe = GridSearchCV(knn_pipe, param_grid= params_pipe, cv=5)\n",
    "grid_pipe.fit(X_train, Y_train)\n",
    "print(\"Score with the training data R^2={0:.4f}\".format(grid_pipe.score(X_train, Y_train)))\n",
    "print(\"Score with the test data R^2={0:.4f}\".format(grid_pipe.score(X_test, Y_test)))\n",
    "print(\"Hyperparameters choosen with cross-validation\")\n",
    "print(grid_pipe.best_params_)\n",
    "global_results['knn + scale geo +  review + price_range'] = grid_pipe.score(X_test, Y_test)\n",
    "\n"
   ]
  },
  {
   "cell_type": "code",
   "execution_count": 73,
   "metadata": {},
   "outputs": [
    {
     "data": {
      "image/png": "[encoded data removed]",
      "text/plain": [
       "<Figure size 720x288 with 2 Axes>"
      ]
     },
     "metadata": {
      "needs_background": "light"
     },
     "output_type": "display_data"
    }
   ],
   "source": [
    "ff,aa = plt.subplots(1,2,sharex=True, sharey=True, figsize=(10,4))\n",
    "aa[0].scatter(Y_train, \n",
    "            grid_pipe.predict(X_train),\n",
    "            marker='.',alpha=0.3,)\n",
    "\n",
    "aa[0].set_xlabel('True rating')\n",
    "aa[0].set_ylabel('Predicted rating')\n",
    "aa[0].set_title('Training data')\n",
    "\n",
    "aa[1].scatter(Y_test, \n",
    "            grid_pipe.predict(X_test),\n",
    "            marker='.',alpha=0.3,)\n",
    "\n",
    "aa[1].set_xlabel('True rating')\n",
    "aa[1].set_ylabel('Predicted rating')\n",
    "_=aa[1].set_title('Test data')\n"
   ]
  },
  {
   "cell_type": "markdown",
   "metadata": {},
   "source": [
    "Usando los logs"
   ]
  },
  {
   "cell_type": "code",
   "execution_count": 74,
   "metadata": {},
   "outputs": [],
   "source": [
    "columns = ['latitude','longitude','price_range','log10_review_count','stars']\n",
    "X_train_log = restaurantes_train.loc[:,columns].dropna().values[:,:-1]\n",
    "Y_train = restaurantes_train.loc[:,columns].dropna().values[:,-1]\n",
    "X_test_log = restaurantes_test.loc[:,columns].dropna().values[:,:-1]\n",
    "Y_test = restaurantes_test.loc[:,columns].dropna().values[:,-1]\n"
   ]
  },
  {
   "cell_type": "code",
   "execution_count": 75,
   "metadata": {},
   "outputs": [
    {
     "name": "stdout",
     "output_type": "stream",
     "text": [
      "Score with the training data R^2=0.1234\n",
      "Score with the test data R^2=0.1132\n",
      "Hyperparameters choosen with cross-validation\n",
      "{'regressor__n_neighbors': 100, 'regressor__weights': 'uniform', 'scaler': 'passthrough'}\n"
     ]
    }
   ],
   "source": [
    "# set up the grid to optimize the hyperparameters and train the pipeline stages\n",
    "grid_pipe = GridSearchCV(knn_pipe, param_grid= params_pipe, cv=5)\n",
    "grid_pipe.fit(X_train_log, Y_train)\n",
    "print(\"Score with the training data R^2={0:.4f}\".format(grid_pipe.score(X_train_log, Y_train)))\n",
    "print(\"Score with the test data R^2={0:.4f}\".format(grid_pipe.score(X_test_log, Y_test)))\n",
    "print(\"Hyperparameters choosen with cross-validation\")\n",
    "print(grid_pipe.best_params_)\n",
    "global_results['knn + scale geo +  log review + price_range'] = grid_pipe.score(X_test_log, Y_test)\n"
   ]
  },
  {
   "cell_type": "code",
   "execution_count": 76,
   "metadata": {},
   "outputs": [
    {
     "data": {
      "image/png": "[encoded data removed]",
      "text/plain": [
       "<Figure size 720x288 with 2 Axes>"
      ]
     },
     "metadata": {
      "needs_background": "light"
     },
     "output_type": "display_data"
    }
   ],
   "source": [
    "ff,aa = plt.subplots(1,2,sharex=True, sharey=True, figsize=(10,4))\n",
    "aa[0].scatter(Y_train, \n",
    "            grid_pipe.predict(X_train_log),\n",
    "            marker='.',alpha=0.3,)\n",
    "\n",
    "aa[0].set_xlabel('True rating')\n",
    "aa[0].set_ylabel('Predicted rating')\n",
    "aa[0].set_title('Training data')\n",
    "\n",
    "aa[1].scatter(Y_test, \n",
    "            grid_pipe.predict(X_test_log),\n",
    "            marker='.',alpha=0.3,)\n",
    "\n",
    "aa[1].set_xlabel('True rating')\n",
    "aa[1].set_ylabel('Predicted rating')\n",
    "_=aa[1].set_title('Test data')"
   ]
  },
  {
   "cell_type": "markdown",
   "metadata": {},
   "source": [
    "##  Recapitulación\n",
    "Vamos a ver la evolución de las prestaciones de todos los modelos que hemos entrenado hasta ahora"
   ]
  },
  {
   "cell_type": "code",
   "execution_count": 77,
   "metadata": {},
   "outputs": [
    {
     "data": {
      "text/plain": [
       "linear model                                   0.002466\n",
       "linear log model                               0.005722\n",
       "linear model restaurants                       0.018828\n",
       "linear log model restaurants                   0.040943\n",
       "linear dec model restaurants                   0.035779\n",
       "knn geo                                        0.039750\n",
       "knn geo + review                               0.068866\n",
       "knn geo + log review                           0.075991\n",
       "knn geo + deciles                              0.077709\n",
       "knn + scale geo + review                       0.078354\n",
       "knn + scale geo + log review                   0.075991\n",
       "knn + scale geo + deciles                      0.077709\n",
       "knn + scale geo +  review + price_range        0.113534\n",
       "knn + scale geo +  log review + price_range    0.113230\n",
       "dtype: float64"
      ]
     },
     "execution_count": 77,
     "metadata": {},
     "output_type": "execute_result"
    }
   ],
   "source": [
    "pd.Series(global_results)"
   ]
  },
  {
   "cell_type": "markdown",
   "metadata": {},
   "source": [
    "## 3.4 Transformaciones de variable\n",
    "\n",
    "Además de los escalados, las discretizaciones y de la transformación logarítmica pueden generalizarse a otras transformaciones que pueden facilitar la tarea a los modelos.\n",
    "\n",
    "### 3.4.1 Transformación de histograma\n",
    "\n",
    "Otra transformación que se puede es cambiar la distribución de las variables continuas por una uniforme o por una Gaussiana mediante [`sklearn.preprocessing.quantile_transform`](https://scikit-learn.org/stable/modules/generated/sklearn.preprocessing.quantile_transform.html#sklearn.preprocessing.quantile_transform). \n",
    "\n",
    "La transformación a **uniforme** tiende a separar los valores más frecuentes de esa variable y a concentrar los menos frecuentes, con lo que contribuye a reducir el impacto de *outliers*. Como es una transformación **no lineal**, se pueden distorsionar correlaciones lineales entre variables.\n",
    "\n",
    "La transformación a **Gaussiana** tiende a concentrar los valores en torno a su media.\n",
    "\n",
    "En el caso de los conteos de revisiones, estas transformaciones lograrían el siguente efecto. Merece la pena comparar los histogramas producidos por estas transformaciones de cuantil con los histogramas después de los escalados.\n"
   ]
  },
  {
   "cell_type": "code",
   "execution_count": 78,
   "metadata": {},
   "outputs": [
    {
     "data": {
      "image/png": "[encoded data removed]",
      "text/plain": [
       "<Figure size 1008x720 with 5 Axes>"
      ]
     },
     "metadata": {
      "needs_background": "light"
     },
     "output_type": "display_data"
    }
   ],
   "source": [
    "from sklearn.preprocessing import quantile_transform\n",
    "\n",
    "fx, ax = plt.subplots(5,1, figsize=(14,10))\n",
    "nbins = 100\n",
    "\n",
    "xjj = restaurantes_train['review_count'].values\n",
    "ax[0].hist(xjj,nbins)\n",
    "ax[0].set_title('original')\n",
    "xjj_u = quantile_transform(xjj.reshape(-1,1), n_quantiles=nbins, random_state=42, copy=True)\n",
    "ax[1].hist(xjj_u, nbins)\n",
    "ax[1].set_title('original -> uniforme')\n",
    "\n",
    "ax[2].hist(count_mm_xtest, nbins)\n",
    "ax[2].set_title('original -> MinMaxScaler')\n",
    "\n",
    "xjj_n = quantile_transform(xjj.reshape(-1,1), n_quantiles=nbins, random_state=42, copy=True, output_distribution='normal')\n",
    "ax[3].hist(xjj_n, nbins)\n",
    "ax[3].set_title('original -> normal')\n",
    "\n",
    "ax[4].hist(count_std_xtest, nbins)\n",
    "ax[4].set_title('original -> StandardScaler')\n",
    "\n",
    "fx.tight_layout()"
   ]
  },
  {
   "cell_type": "markdown",
   "metadata": {
    "slideshow": {
     "slide_type": "slide"
    }
   },
   "source": [
    "### 3.4.2 Transformación Box-Cox\n",
    "\n",
    "Otra transformación no lineal que combina raíces (estabilizadores de varianza) con logaritmos\n",
    "\n",
    "$$\n",
    "y(x) = \\left \\{ \\begin{array}{ll} \\frac{x^\\alpha -1}{\\alpha} & \\mbox{if } \\alpha \\ne 0 \\\\ \\log(x) & \\mbox{if } \\alpha  0 \\end{array}\\right.\n",
    "$$\n",
    "\n",
    "Solo vale para variables **estrictamente positivas**. Valores de $\\alpha>1$ comprimen los valores pequeños de $x$ y expanden los valores grandes; valores de $\\alpha<1$ comprimen los valores grandes de $x$ y expanden los pequeños\n",
    "\n",
    "<img src='http://www.tsc.uc3m.es/~emipar/BBVA/INTRO/img/logo_uc3m_foot.jpg' width=400 />"
   ]
  },
  {
   "cell_type": "code",
   "execution_count": 79,
   "metadata": {},
   "outputs": [
    {
     "data": {
      "image/png": "[encoded data removed]",
      "text/plain": [
       "<Figure size 720x432 with 1 Axes>"
      ]
     },
     "metadata": {
      "needs_background": "light"
     },
     "output_type": "display_data"
    }
   ],
   "source": [
    "x = np.linspace(1e-4,5,1000)\n",
    "\n",
    "v_a = np.array([.25, .5, .75, 1, 1.5])\n",
    "ff,ax = plt.subplots(1,1, figsize=(10,6))\n",
    "ax.plot(x, np.log(x), label=\"$\\\\alpha$=0\", linewidth=2)\n",
    "for aa in v_a:\n",
    "    ax.plot(x, (x**aa-1)/aa, label=\"$\\\\alpha$={0:.2f}\".format(aa), linewidth=2)\n",
    "ax.legend()\n",
    "ax.grid()\n",
    "ax.set_xlabel('Original')\n",
    "ax.set_ylabel('Transformed')\n",
    "_=ax.set_title('Box-Cox transformation')\n"
   ]
  },
  {
   "cell_type": "markdown",
   "metadata": {
    "slideshow": {
     "slide_type": "subslide"
    }
   },
   "source": [
    "La transformación [Box-Cox](https://docs.scipy.org/doc/scipy/reference/generated/scipy.stats.boxcox.html) está disponible en *scipy stats*"
   ]
  },
  {
   "cell_type": "code",
   "execution_count": 80,
   "metadata": {},
   "outputs": [],
   "source": [
    "from scipy import stats # statistical utilities"
   ]
  },
  {
   "cell_type": "code",
   "execution_count": 81,
   "metadata": {},
   "outputs": [
    {
     "name": "stdout",
     "output_type": "stream",
     "text": [
      "-0.13617380880090577\n"
     ]
    }
   ],
   "source": [
    "y_bc, bc_params = stats.boxcox(restaurantes_train['review_count'].values)\n",
    "print(bc_params)"
   ]
  },
  {
   "cell_type": "code",
   "execution_count": 82,
   "metadata": {},
   "outputs": [
    {
     "data": {
      "image/png": "[encoded data removed]",
      "text/plain": [
       "<Figure size 1008x720 with 3 Axes>"
      ]
     },
     "metadata": {
      "needs_background": "light"
     },
     "output_type": "display_data"
    }
   ],
   "source": [
    "fx, ax = plt.subplots(3,1, figsize=(14,10))\n",
    "nbins = 100\n",
    "xjj = restaurantes_train['review_count'].values\n",
    "ax[0].hist(xjj,nbins)\n",
    "ax[0].set_title('original')\n",
    "ax[0].set_yscale('log')\n",
    "\n",
    "xjj_l = restaurantes_train['log10_review_count'].values\n",
    "ax[1].hist(xjj_l, nbins)\n",
    "ax[1].set_title('original -> log')\n",
    "ax[1].set_yscale('log')\n",
    "\n",
    "ax[2].hist(y_bc, nbins)\n",
    "ax[2].set_title('original -> Box-Cox')\n",
    "ax[2].set_yscale('log')\n",
    "\n",
    "fx.tight_layout()"
   ]
  },
  {
   "cell_type": "markdown",
   "metadata": {
    "slideshow": {
     "slide_type": "slide"
    }
   },
   "source": [
    "# 3.5 Combinaciones de Características\n",
    "\n",
    "Las transformaciones y escalados que hemos revisado hasta ahora afectan a cada variable de modo **individual**, es decir, que el resultado de la transformación es independiente de lo que pase o deje de pasar con las otras características. \n",
    "\n",
    "En general, hay patrones que aparencen solo bajo **combinaciones conjuntas** de varias variables a la vez.\n",
    "\n",
    "En el caso de la predicción de los ratings estas interacciones podrían patrones que aparezcan sólo si de dan combinaciones de rangos de variables del tipo:\n",
    "\n",
    "- Si el número de revisiones es alto **y además** el rango de precios es bajo\n",
    "- Si el número de reviviones es bajo **y además** el rango de precios es bajo\n",
    "\n",
    "La primera interacción se puede capturar con una **característica** que sea **el cociente** entre el número de revisiones y el rango de precios mientras que la segunda puede capturarse con **el producto** de ambas magnitudes.\n",
    "\n",
    "https://docs.scipy.org/doc/scipy/reference/generated/scipy.stats.boxcox.html\n"
   ]
  },
  {
   "cell_type": "code",
   "execution_count": 83,
   "metadata": {},
   "outputs": [],
   "source": [
    "restaurantes_test['product']=restaurantes_test.loc[:,['price_range','log10_review_count']].apply(lambda x:x[0]*x[1],axis=1)\n",
    "restaurantes_test['ratio']=restaurantes_test.loc[:,['price_range','log10_review_count']].apply(lambda x:x[1]/x[0],axis=1)\n",
    "restaurantes_train['ratio']=restaurantes_train.loc[:,['price_range','log10_review_count']].apply(lambda x:x[1]/x[0],axis=1)\n",
    "restaurantes_train['product']=restaurantes_train.loc[:,['price_range','log10_review_count']].apply(lambda x:x[0]*x[1],axis=1)\n"
   ]
  },
  {
   "cell_type": "code",
   "execution_count": 84,
   "metadata": {},
   "outputs": [],
   "source": [
    "columns = ['latitude','longitude','price_range','log10_review_count','product','ratio','stars']\n",
    "X_train_extended = restaurantes_train.loc[:,columns].dropna().values[:,:-1]\n",
    "Y_train = restaurantes_train.loc[:,columns].dropna().values[:,-1]\n",
    "X_test_extended = restaurantes_test.loc[:,columns].dropna().values[:,:-1]\n",
    "Y_test = restaurantes_test.loc[:,columns].dropna().values[:,-1]\n"
   ]
  },
  {
   "cell_type": "code",
   "execution_count": 85,
   "metadata": {},
   "outputs": [
    {
     "name": "stdout",
     "output_type": "stream",
     "text": [
      "Score with the training data R^2=0.1084\n",
      "Score with the test data R^2=0.1101\n",
      "Hyperparameters choosen with cross-validation\n",
      "{'regressor__n_neighbors': 250, 'regressor__weights': 'uniform', 'scaler': MinMaxScaler()}\n"
     ]
    }
   ],
   "source": [
    "# set up the grid to optimize the hyperparameters and train the pipeline stages\n",
    "grid_pipe = GridSearchCV(knn_pipe, param_grid= params_pipe, cv=5)\n",
    "grid_pipe.fit(X_train_extended, Y_train)\n",
    "print(\"Score with the training data R^2={0:.4f}\".format(grid_pipe.score(X_train_extended, Y_train)))\n",
    "print(\"Score with the test data R^2={0:.4f}\".format(grid_pipe.score(X_test_extended, Y_test)))\n",
    "print(\"Hyperparameters choosen with cross-validation\")\n",
    "print(grid_pipe.best_params_)\n",
    "global_results['knn + ratios'] = grid_pipe.score(X_test_extended, Y_test)\n"
   ]
  },
  {
   "cell_type": "code",
   "execution_count": 86,
   "metadata": {},
   "outputs": [
    {
     "data": {
      "text/plain": [
       "linear model                                   0.002466\n",
       "linear log model                               0.005722\n",
       "linear model restaurants                       0.018828\n",
       "linear log model restaurants                   0.040943\n",
       "linear dec model restaurants                   0.035779\n",
       "knn geo                                        0.039750\n",
       "knn geo + review                               0.068866\n",
       "knn geo + log review                           0.075991\n",
       "knn geo + deciles                              0.077709\n",
       "knn + scale geo + review                       0.078354\n",
       "knn + scale geo + log review                   0.075991\n",
       "knn + scale geo + deciles                      0.077709\n",
       "knn + scale geo +  review + price_range        0.113534\n",
       "knn + scale geo +  log review + price_range    0.113230\n",
       "knn + ratios                                   0.110102\n",
       "dtype: float64"
      ]
     },
     "execution_count": 86,
     "metadata": {},
     "output_type": "execute_result"
    }
   ],
   "source": [
    "pd.Series(global_results)"
   ]
  },
  {
   "cell_type": "code",
   "execution_count": 87,
   "metadata": {},
   "outputs": [
    {
     "name": "stderr",
     "output_type": "stream",
     "text": [
      "C:\\Program Files\\Anaconda3\\lib\\site-packages\\numpy\\lib\\histograms.py:754: RuntimeWarning: invalid value encountered in greater_equal\n",
      "  keep = (tmp_a >= first_edge)\n",
      "C:\\Program Files\\Anaconda3\\lib\\site-packages\\numpy\\lib\\histograms.py:755: RuntimeWarning: invalid value encountered in less_equal\n",
      "  keep &= (tmp_a <= last_edge)\n"
     ]
    },
    {
     "data": {
      "image/png": "[encoded data removed]",
      "text/plain": [
       "<Figure size 864x576 with 2 Axes>"
      ]
     },
     "metadata": {
      "needs_background": "light"
     },
     "output_type": "display_data"
    }
   ],
   "source": [
    "fx, ax = plt.subplots(2,1, figsize=(12,8))\n",
    "nbins = 100\n",
    "xjj = restaurantes_train['product'].values\n",
    "ax[0].hist(xjj,nbins)\n",
    "ax[0].set_title('product of number of reviews times price range')\n",
    "ax[0].set_yscale('log')\n",
    "\n",
    "xjj_l = restaurantes_train['ratio'].values\n",
    "ax[1].hist(xjj_l, nbins)\n",
    "ax[1].set_title('ratio number of reviews over price range')\n",
    "ax[1].set_yscale('log')\n",
    "ax[1].set_xscale('log')\n",
    "\n",
    "fx.tight_layout()"
   ]
  },
  {
   "cell_type": "code",
   "execution_count": 88,
   "metadata": {},
   "outputs": [
    {
     "name": "stdout",
     "output_type": "stream",
     "text": [
      "Score with the training data R^2=0.0625\n",
      "Score with the test data R^2=0.0700\n",
      "w0 = 3.4271\n",
      "peso price_range = 0.1077\n",
      "peso decile_review_count = -0.0016\n",
      "peso product = 0.0996\n",
      "peso ratio = 0.1331\n"
     ]
    }
   ],
   "source": [
    "columns = ['price_range','decile_review_count','product','ratio','stars']\n",
    "X_train_extended = restaurantes_train.loc[:,columns].dropna().values[:,:-1]\n",
    "Y_train = restaurantes_train.loc[:,columns].dropna().values[:,-1]\n",
    "X_test_extended = restaurantes_test.loc[:,columns].dropna().values[:,:-1]\n",
    "Y_test = restaurantes_test.loc[:,columns].dropna().values[:,-1]\n",
    "\n",
    "linear_model_e = Pipeline([('sca',StandardScaler()), ('reg',LinearRegression())]).fit(X_train_extended, Y_train)\n",
    "print(\"Score with the training data R^2={0:.4f}\".format(linear_model_e.score(X_train_extended, Y_train)))\n",
    "print(\"Score with the test data R^2={0:.4f}\".format(linear_model_e.score(X_test_extended, Y_test)))\n",
    "print(\"w0 = {0:.4f}\".format(linear_model_e['reg'].intercept_))\n",
    "for ii,ff in enumerate(columns[:-1]):\n",
    "    print(\"peso {0} = {1:.4f}\".format(ff,linear_model_e['reg'].coef_[ii]))\n",
    "global_results['linear extended model'] = linear_model_e['reg'].score(X_test_extended, Y_test)"
   ]
  },
  {
   "cell_type": "code",
   "execution_count": 89,
   "metadata": {},
   "outputs": [
    {
     "data": {
      "image/png": "[encoded data removed]",
      "text/plain": [
       "<Figure size 720x288 with 2 Axes>"
      ]
     },
     "metadata": {
      "needs_background": "light"
     },
     "output_type": "display_data"
    }
   ],
   "source": [
    "ff,aa = plt.subplots(1,2,sharex=True, sharey=True, figsize=(10,4))\n",
    "aa[0].scatter(Y_train, \n",
    "            linear_model_e.predict(X_train_extended),\n",
    "            marker='.',alpha=0.3,)\n",
    "\n",
    "aa[0].set_xlabel('True rating')\n",
    "aa[0].set_ylabel('Predicted rating')\n",
    "aa[0].set_title('Training data')\n",
    "\n",
    "aa[1].scatter(Y_test, \n",
    "            linear_model_e.predict(X_test_extended),\n",
    "            marker='.',alpha=0.3,)\n",
    "\n",
    "aa[1].set_xlabel('True rating')\n",
    "aa[1].set_ylabel('Predicted rating')\n",
    "_=aa[1].set_title('Test data')"
   ]
  },
  {
   "cell_type": "markdown",
   "metadata": {},
   "source": [
    "En este modelo podemos observar cómo las características resultantes de la interacción de rango de precios y número de revisiones *diluyen* el efecto del número de revisiones (peso significativamente menor en valor absoluto)."
   ]
  },
  {
   "cell_type": "markdown",
   "metadata": {
    "slideshow": {
     "slide_type": "slide"
    }
   },
   "source": [
    "### Automatización de la combinación de características\n",
    "\n",
    "Buscar combinaciones de características en productos y cocientes es relativamente cómodo de automatizar en *scikit learn* con __[`preproccessing.PolynomialFeatures`](https://scikit-learn.org/stable/modules/generated/sklearn.preprocessing.PolynomialFeatures.html)__ . Mediante esta funcionalidad podemos construir **polinomios** combinando las distintas características.\n",
    "\n",
    "Para construir los **cocientes** podemos previamente **enriquecer** el conjunto de caracteristicas con los **inversos** de las mismas y aplicar la expansión polinómica al conjunto enriquecido. En este sentido hay que tener cuidado con características redundantes como cocientes de variables consigo mismas."
   ]
  },
  {
   "cell_type": "code",
   "execution_count": 92,
   "metadata": {},
   "outputs": [
    {
     "data": {
      "text/plain": [
       "Index(['business_id', 'name', 'address', 'city', 'state', 'postal_code',\n",
       "       'latitude', 'longitude', 'stars', 'review_count', 'is_open',\n",
       "       'attributes', 'categories', 'hours', 'decile_review_count',\n",
       "       'log10_review_count', 'price_range', 'ratio', 'product',\n",
       "       'inv_price_range', 'inv_log10_review_count'],\n",
       "      dtype='object')"
      ]
     },
     "execution_count": 92,
     "metadata": {},
     "output_type": "execute_result"
    }
   ],
   "source": [
    "columns = ['price_range','log10_review_count']\n",
    "for cc in columns:\n",
    "    restaurantes_train.loc[:, \"inv_\"+cc] = restaurantes_train.loc[:,cc].apply(lambda x:1/x)\n",
    "    restaurantes_test.loc[:, \"inv_\"+cc] = restaurantes_test.loc[:,cc].apply(lambda x:1/x)\n",
    "    \n",
    "restaurantes_train.columns"
   ]
  },
  {
   "cell_type": "code",
   "execution_count": 93,
   "metadata": {},
   "outputs": [
    {
     "name": "stdout",
     "output_type": "stream",
     "text": [
      "['price_range', 'log10_review_count', 'inv_price_range', 'inv_log10_review_count', 'stars']\n"
     ]
    }
   ],
   "source": [
    "columns_a = columns + [\"inv_\" + cc for cc in columns] + ['stars']\n",
    "print(columns_a)"
   ]
  },
  {
   "cell_type": "code",
   "execution_count": 94,
   "metadata": {},
   "outputs": [
    {
     "name": "stdout",
     "output_type": "stream",
     "text": [
      "(27258, 4)\n"
     ]
    }
   ],
   "source": [
    "X_train_extended_a = restaurantes_train.loc[:,columns_a].dropna().values[:,:-1]\n",
    "Y_train = restaurantes_train.loc[:,columns_a].dropna().values[:,-1]\n",
    "X_test_extended_a = restaurantes_test.loc[:,columns_a].dropna().values[:,:-1]\n",
    "Y_test = restaurantes_test.loc[:,columns_a].dropna().values[:,-1]\n",
    "print(X_train_extended_a.shape)"
   ]
  },
  {
   "cell_type": "code",
   "execution_count": 95,
   "metadata": {},
   "outputs": [],
   "source": [
    "from sklearn.preprocessing import PolynomialFeatures"
   ]
  },
  {
   "cell_type": "code",
   "execution_count": 96,
   "metadata": {},
   "outputs": [
    {
     "name": "stdout",
     "output_type": "stream",
     "text": [
      "['price_range', 'log10_review_count', 'inv_price_range', 'inv_log10_review_count', 'price_range log10_review_count', 'price_range inv_price_range', 'price_range inv_log10_review_count', 'log10_review_count inv_price_range', 'log10_review_count inv_log10_review_count', 'inv_price_range inv_log10_review_count']\n"
     ]
    }
   ],
   "source": [
    "poly = PolynomialFeatures(interaction_only=True, \n",
    "                          degree=2,\n",
    "                         include_bias=False)\n",
    "X_train_e = poly.fit_transform(X_train_extended_a)\n",
    "X_test_e = poly.transform(X_test_extended_a)\n",
    "print(poly.get_feature_names(columns_a))"
   ]
  },
  {
   "cell_type": "code",
   "execution_count": 97,
   "metadata": {},
   "outputs": [
    {
     "name": "stdout",
     "output_type": "stream",
     "text": [
      "(27258, 10)\n"
     ]
    }
   ],
   "source": [
    "print(X_train_e.shape)"
   ]
  },
  {
   "cell_type": "markdown",
   "metadata": {},
   "source": [
    "*Quick & dirty hack* para eliminar columnas que son el producto de una variable por su inverso: Eliminar columnas sin varianza"
   ]
  },
  {
   "cell_type": "code",
   "execution_count": 98,
   "metadata": {},
   "outputs": [
    {
     "name": "stdout",
     "output_type": "stream",
     "text": [
      "[6.21690194e-01 5.99942950e-01 2.58761944e-01 4.15990740e-01\n",
      " 1.55626185e+00 0.00000000e+00 8.45089560e-01 5.05322714e-01\n",
      " 4.27154519e-17 4.04007036e-01]\n"
     ]
    }
   ],
   "source": [
    "varianzas = np.std(X_train_e, 0)\n",
    "print(varianzas)\n",
    "siguen = np.where(varianzas > 1e-6)[0]\n",
    "X_train_e = X_train_e[:,siguen]\n",
    "X_test_e = X_test_e[:,siguen]\n"
   ]
  },
  {
   "cell_type": "code",
   "execution_count": 99,
   "metadata": {},
   "outputs": [
    {
     "name": "stdout",
     "output_type": "stream",
     "text": [
      "Score with the training data R^2=0.0727\n",
      "Score with the test data R^2=0.0773\n",
      "w0 = 3.4271\n",
      "peso price_range = -0.0516\n",
      "peso log10_review_count = -0.2481\n",
      "peso inv_price_range = -0.5514\n",
      "peso inv_log10_review_count = -0.0824\n",
      "peso price_range log10_review_count = 0.1819\n",
      "peso price_range inv_log10_review_count = 0.0004\n",
      "peso log10_review_count inv_price_range = 0.5180\n",
      "peso inv_price_range inv_log10_review_count = 0.2872\n"
     ]
    }
   ],
   "source": [
    "linear_model_ee = Pipeline([('sca',StandardScaler()), ('reg',LinearRegression())]).fit(X_train_e, Y_train)\n",
    "print(\"Score with the training data R^2={0:.4f}\".format(linear_model_ee.score(X_train_e, Y_train)))\n",
    "print(\"Score with the test data R^2={0:.4f}\".format(linear_model_ee.score(X_test_e, Y_test)))\n",
    "print(\"w0 = {0:.4f}\".format(linear_model_ee['reg'].intercept_))\n",
    "for ii,ff in enumerate(siguen):\n",
    "    print(\"peso {0} = {1:.4f}\".format(poly.get_feature_names(columns_a)[ff],linear_model_ee['reg'].coef_[ii]))\n",
    "global_results['linear poly model'] = linear_model_ee['reg'].score(X_test_e, Y_test)"
   ]
  },
  {
   "cell_type": "code",
   "execution_count": 101,
   "metadata": {},
   "outputs": [
    {
     "data": {
      "image/png": "[encoded data removed]",
      "text/plain": [
       "<Figure size 720x288 with 2 Axes>"
      ]
     },
     "metadata": {
      "needs_background": "light"
     },
     "output_type": "display_data"
    }
   ],
   "source": [
    "ff,aa = plt.subplots(1,2,sharex=True, sharey=True, figsize=(10,4))\n",
    "aa[0].scatter(Y_train, \n",
    "            linear_model_ee.predict(X_train_e),\n",
    "            marker='.',alpha=0.3,)\n",
    "\n",
    "aa[0].set_xlabel('True rating')\n",
    "aa[0].set_ylabel('Predicted rating')\n",
    "aa[0].set_title('Training data')\n",
    "\n",
    "aa[1].scatter(Y_test, \n",
    "            linear_model_ee.predict(X_test_e),\n",
    "            marker='.',alpha=0.3,)\n",
    "\n",
    "aa[1].set_xlabel('True rating')\n",
    "aa[1].set_ylabel('Predicted rating')\n",
    "_=aa[1].set_title('Test data')"
   ]
  },
  {
   "cell_type": "markdown",
   "metadata": {
    "slideshow": {
     "slide_type": "subslide"
    }
   },
   "source": [
    "La expansión polinómica hay que emplearla con cuidado porque la **explosión combinatoria** del número de características generadas crece exponencialmente con el grado del polinomio. \n",
    "\n",
    "Es habitual usar expansiones polinómicas en combinación con los métodos de **selección de características** que vamos a ver en otra sesión de este curso."
   ]
  },
  {
   "cell_type": "markdown",
   "metadata": {
    "slideshow": {
     "slide_type": "slide"
    }
   },
   "source": [
    "# 4. Ingeniería de variables categóricas\n",
    "\n",
    "Recordamos, una variable categórica representa una etiqueta o una categoría. Por ejemplo, el campo `city` en la base de datos YELP, pero también el campo `postal_code`, el campo `state` o el campo `name`.\n",
    "\n",
    "Los valores de una variable categórica **no pueden ordenarse**. Aunque algunas variables categóricas vengan expresadas con números, por ejemplo un número de teléfono, o el código postal, **ordenar estos valores carece de sentido**.\n",
    "\n",
    "El factor que va a determinar la estrategia que emplemos para codificar una variable categórica depende del número de categorías:\n",
    "- Para números relativamente bajos de categorías podemos usar:\n",
    "    - *One-hot encoding*\n",
    "    - *Dumb encoding*\n",
    "    - *Effect encoding*\n",
    "- Para números relativamente altos de categorías podemos usar:\n",
    "    - *Hashing functions*\n",
    "    - Conteos de bin\n",
    "    \n",
    "<img src='http://www.tsc.uc3m.es/~emipar/BBVA/INTRO/img/logo_uc3m_foot.jpg' width=400 />"
   ]
  },
  {
   "cell_type": "markdown",
   "metadata": {
    "slideshow": {
     "slide_type": "slide"
    }
   },
   "source": [
    "## Simplificación del problema YELP a ciudades con varios restaurantes\n",
    "\n",
    "Para emplear variables categóricas vamos a descartar de la base de datos los negocios que estén en ciudades que no tengan muchas entradas en la base de datos"
   ]
  },
  {
   "cell_type": "code",
   "execution_count": 102,
   "metadata": {},
   "outputs": [],
   "source": [
    "restaurantes_por_ciudad = restaurantes_train['city'].value_counts()"
   ]
  },
  {
   "cell_type": "code",
   "execution_count": 103,
   "metadata": {},
   "outputs": [
    {
     "name": "stdout",
     "output_type": "stream",
     "text": [
      "Index(['Toronto', 'Las Vegas', 'Montréal', 'Phoenix'], dtype='object')\n"
     ]
    }
   ],
   "source": [
    "ciudades_con_mas_de_2000 = restaurantes_por_ciudad.loc[restaurantes_por_ciudad>=2000].index\n",
    "print(ciudades_con_mas_de_2000)"
   ]
  },
  {
   "cell_type": "code",
   "execution_count": 104,
   "metadata": {},
   "outputs": [],
   "source": [
    "restaurantes_2000_train = restaurantes_train.loc[restaurantes_train['city'].isin(ciudades_con_mas_de_2000)]\n",
    "restaurantes_2000_test = restaurantes_test.loc[restaurantes_test['city'].isin(ciudades_con_mas_de_2000)]"
   ]
  },
  {
   "cell_type": "markdown",
   "metadata": {
    "id": "Tg0QcwYCMW3_",
    "slideshow": {
     "slide_type": "slide"
    }
   },
   "source": [
    "## 4.1 Transformación One-Hot Encoding\n",
    "\n",
    "\n",
    "Consideremos una variable categórica con $M$ posibles valores, por ejemplo la variable `grupo` que pueda tomar 3 valores `A`, `B` o `C`. [**One-Hot encoding**](https://scikit-learn.org/stable/modules/generated/sklearn.preprocessing.OneHotEncoder.html#sklearn.preprocessing.OneHotEncoder) transforma cada variable categórica en $M$ variables binarias (solo toman el valor 1 o 0) que se organizan así:\n",
    "Si una observación tiene el valor $m$ en la variable categórica, todas las variables binarias toman el valor 0, excepto la $m$-ésima, que toma el valor 1.\n",
    "\n",
    "En el ejemplo, la variable `grupo` se transformaría en 3 variables, [`grupo_A`, `grupo_B` y `grupo_C`] que codificarían las observaciones del siguiente modo:\n",
    "- `grupo`=`A` $\\rightarrow$ [`grupo_A`=`1`, `grupo_B`=`0`, `grupo_C`=`0`]\n",
    "- `grupo`=`B` $\\rightarrow$ [`grupo_A`=`0`, `grupo_B`=`1`, `grupo_C`=`0`]\n",
    "- `grupo`=`C` $\\rightarrow$ [`grupo_A`=`0`, `grupo_B`=`0`, `grupo_C`=`1`]\n",
    "\n",
    "<img src='http://www.tsc.uc3m.es/~emipar/BBVA/INTRO/img/logo_uc3m_foot.jpg' width=400 />"
   ]
  },
  {
   "cell_type": "code",
   "execution_count": 105,
   "metadata": {},
   "outputs": [],
   "source": [
    "from sklearn.preprocessing import OneHotEncoder"
   ]
  },
  {
   "cell_type": "code",
   "execution_count": 106,
   "metadata": {},
   "outputs": [],
   "source": [
    "columns = ['city','stars']\n",
    "X_train_city = restaurantes_2000_train.loc[:,columns].dropna().values[:,:-1].reshape(-1,1)\n",
    "Y_train = restaurantes_2000_train.loc[:,columns].dropna().values[:,-1]\n",
    "X_test_city = restaurantes_2000_test.loc[:,columns].dropna().values[:,:-1].reshape(-1,1)\n",
    "Y_test = restaurantes_2000_test.loc[:,columns].dropna().values[:,-1]"
   ]
  },
  {
   "cell_type": "code",
   "execution_count": 107,
   "metadata": {},
   "outputs": [],
   "source": [
    "ohe = OneHotEncoder(sparse = False)"
   ]
  },
  {
   "cell_type": "code",
   "execution_count": 108,
   "metadata": {},
   "outputs": [
    {
     "name": "stdout",
     "output_type": "stream",
     "text": [
      "[array(['Las Vegas', 'Montréal', 'Phoenix', 'Toronto'], dtype=object)]\n"
     ]
    }
   ],
   "source": [
    "X_train_city_ohe = ohe.fit_transform(X_train_city)\n",
    "X_test_city_ohe = ohe.transform(X_test_city)\n",
    "print(ohe.categories_)"
   ]
  },
  {
   "cell_type": "code",
   "execution_count": 109,
   "metadata": {},
   "outputs": [
    {
     "name": "stdout",
     "output_type": "stream",
     "text": [
      "       Las Vegas  Montréal  Phoenix  Toronto\n",
      "0            0.0       0.0      0.0      1.0\n",
      "1            1.0       0.0      0.0      0.0\n",
      "2            1.0       0.0      0.0      0.0\n",
      "3            0.0       0.0      0.0      1.0\n",
      "4            1.0       0.0      0.0      0.0\n",
      "...          ...       ...      ...      ...\n",
      "12030        0.0       0.0      1.0      0.0\n",
      "12031        0.0       1.0      0.0      0.0\n",
      "12032        0.0       0.0      0.0      1.0\n",
      "12033        0.0       0.0      0.0      1.0\n",
      "12034        0.0       0.0      0.0      1.0\n",
      "\n",
      "[12035 rows x 4 columns]\n"
     ]
    }
   ],
   "source": [
    "print(pd.DataFrame(X_train_city_ohe, columns=ohe.categories_[0]))"
   ]
  },
  {
   "cell_type": "markdown",
   "metadata": {
    "slideshow": {
     "slide_type": "subslide"
    }
   },
   "source": [
    "*One hot encoding* es bastante intuitivo pero tiene **problemas de colinealidades** si usamos métodos lineales porque las columnas que genera no son linealmente independientes, ya que la suma de todos los elementos de cada fila da 1. Para aprender un modelo lineal le podemos sumar ruido a las observaciones para eliminar la colinealidad\n",
    "\n",
    "<img src='http://www.tsc.uc3m.es/~emipar/BBVA/INTRO/img/logo_uc3m_foot.jpg' width=400 />"
   ]
  },
  {
   "cell_type": "code",
   "execution_count": 110,
   "metadata": {},
   "outputs": [
    {
     "name": "stdout",
     "output_type": "stream",
     "text": [
      "pesos\n",
      "[-0.07555783  0.10002199 -0.10045445 -0.11688904]\n"
     ]
    }
   ],
   "source": [
    "lin_ohe = LinearRegression().fit(X_train_city_ohe + 1e-1*np.random.randn(X_train_city_ohe.shape[0],4), Y_train)\n",
    "print(\"pesos\")\n",
    "print(lin_ohe.coef_)"
   ]
  },
  {
   "cell_type": "code",
   "execution_count": 111,
   "metadata": {},
   "outputs": [
    {
     "name": "stdout",
     "output_type": "stream",
     "text": [
      "w_0\n",
      "3.572790141861653\n"
     ]
    }
   ],
   "source": [
    "print(\"w_0\")\n",
    "print(lin_ohe.intercept_)"
   ]
  },
  {
   "cell_type": "code",
   "execution_count": 112,
   "metadata": {},
   "outputs": [
    {
     "name": "stdout",
     "output_type": "stream",
     "text": [
      "rating promedio\n",
      "3.5086414624013296\n"
     ]
    }
   ],
   "source": [
    "print(\"rating promedio\")\n",
    "print(Y_train.mean())"
   ]
  },
  {
   "cell_type": "markdown",
   "metadata": {},
   "source": [
    "Salvo temas de precisión, el valor del término constante del modelo debería más o menos apuntar al valor medio del número de *ratings*, y cada peso captura la diferencia entre la ciudad en cuestión y el valor medio para todas las ciudades."
   ]
  },
  {
   "cell_type": "code",
   "execution_count": 113,
   "metadata": {},
   "outputs": [
    {
     "name": "stdout",
     "output_type": "stream",
     "text": [
      "rating promedio de cada categoría\n"
     ]
    },
    {
     "data": {
      "text/plain": [
       "array([3.496166950596252, 3.6829675572519083, 3.4689334637964775,\n",
       "       3.453693116853419], dtype=object)"
      ]
     },
     "execution_count": 113,
     "metadata": {},
     "output_type": "execute_result"
    }
   ],
   "source": [
    "print(\"rating promedio de cada categoría\")\n",
    "X_train_city_ohe.T.dot(Y_train)/sum(X_train_city_ohe,0)"
   ]
  },
  {
   "cell_type": "code",
   "execution_count": 114,
   "metadata": {},
   "outputs": [
    {
     "name": "stdout",
     "output_type": "stream",
     "text": [
      "w0 + w_i para cada categoria x_i\n",
      "[3.49723231 3.67281213 3.47233569 3.4559011 ]\n"
     ]
    }
   ],
   "source": [
    "print(\"w0 + w_i para cada categoria x_i\")\n",
    "print(lin_ohe.intercept_ + lin_ohe.coef_ )"
   ]
  },
  {
   "cell_type": "markdown",
   "metadata": {},
   "source": [
    "## 4.2. *Dummy coding*\n",
    "\n",
    "Corrige el defecto de colinealidad de *one-hot encoding* eliminando una de las características. Esta característica se corresponde con una categoría que se denomina **categoría de referencia** y que se representa con ceros en todas las características correspondientes a las demás categorías.\n",
    "\n",
    "En *scikit learn* se emplea la misma clase que para *one-hot encoding* pero con el parámetro `drop` elegimos la categoría de referencia.\n",
    "\n",
    "<img src='http://www.tsc.uc3m.es/~emipar/BBVA/INTRO/img/logo_uc3m_foot.jpg' width=400 />"
   ]
  },
  {
   "cell_type": "code",
   "execution_count": 115,
   "metadata": {},
   "outputs": [
    {
     "name": "stdout",
     "output_type": "stream",
     "text": [
      "[array(['Las Vegas', 'Montréal', 'Phoenix', 'Toronto'], dtype=object)]\n",
      "[0]\n"
     ]
    }
   ],
   "source": [
    "dummy = OneHotEncoder(sparse = False,\n",
    "                     drop='first')\n",
    "X_train_city_dummy = dummy.fit_transform(X_train_city)\n",
    "X_test_city_dummy = dummy.transform(X_test_city)\n",
    "print(dummy.categories_)\n",
    "print(dummy.drop_idx_)"
   ]
  },
  {
   "cell_type": "code",
   "execution_count": 116,
   "metadata": {},
   "outputs": [
    {
     "name": "stdout",
     "output_type": "stream",
     "text": [
      "       Montréal  Phoenix  Toronto\n",
      "0           0.0      0.0      1.0\n",
      "1           0.0      0.0      0.0\n",
      "2           0.0      0.0      0.0\n",
      "3           0.0      0.0      1.0\n",
      "4           0.0      0.0      0.0\n",
      "...         ...      ...      ...\n",
      "12030       0.0      1.0      0.0\n",
      "12031       1.0      0.0      0.0\n",
      "12032       0.0      0.0      1.0\n",
      "12033       0.0      0.0      1.0\n",
      "12034       0.0      0.0      1.0\n",
      "\n",
      "[12035 rows x 3 columns]\n"
     ]
    }
   ],
   "source": [
    "print(pd.DataFrame(X_train_city_dummy, columns=dummy.categories_[0][1:]))"
   ]
  },
  {
   "cell_type": "markdown",
   "metadata": {
    "slideshow": {
     "slide_type": "subslide"
    }
   },
   "source": [
    "Podemos comprobar cómo las entradas de \"Las Vegas\" se corresponden con 3 ceros en la codificación."
   ]
  },
  {
   "cell_type": "markdown",
   "metadata": {
    "slideshow": {
     "slide_type": "subslide"
    }
   },
   "source": [
    "El modelo lineal se puede construir sin problemas numéricos, pero la interpretación es un poco distinta a la vista para el caso *one-hot encoding*"
   ]
  },
  {
   "cell_type": "code",
   "execution_count": 117,
   "metadata": {},
   "outputs": [
    {
     "name": "stdout",
     "output_type": "stream",
     "text": [
      "[ 0.18680061 -0.02723349 -0.04247383]\n",
      "3.4961669505962525\n"
     ]
    }
   ],
   "source": [
    "lin_dummy = LinearRegression().fit(X_train_city_dummy, Y_train)\n",
    "print(lin_dummy.coef_)\n",
    "print(lin_dummy.intercept_)"
   ]
  },
  {
   "cell_type": "markdown",
   "metadata": {
    "slideshow": {
     "slide_type": "subslide"
    }
   },
   "source": [
    "Ahora el término constante del modelo tiene el *rating* medio para la **categoría de referencia**, en este caso *Las Vegas* y el peso captura la diferencia entre cada categoría y la categoría de referencia."
   ]
  },
  {
   "cell_type": "code",
   "execution_count": 118,
   "metadata": {},
   "outputs": [
    {
     "name": "stdout",
     "output_type": "stream",
     "text": [
      "rating promedio de cada categoría no-referencia\n"
     ]
    },
    {
     "data": {
      "text/plain": [
       "array([3.6829675572519083, 3.4689334637964775, 3.453693116853419],\n",
       "      dtype=object)"
      ]
     },
     "execution_count": 118,
     "metadata": {},
     "output_type": "execute_result"
    }
   ],
   "source": [
    "print(\"rating promedio de cada categoría no-referencia\")\n",
    "X_train_city_dummy.T.dot(Y_train)/sum(X_train_city_dummy,0)"
   ]
  },
  {
   "cell_type": "code",
   "execution_count": 119,
   "metadata": {},
   "outputs": [
    {
     "name": "stdout",
     "output_type": "stream",
     "text": [
      "w0 + w_i para cada categoria x_i, no de referencia\n",
      "[3.68296756 3.46893346 3.45369312]\n"
     ]
    }
   ],
   "source": [
    "print(\"w0 + w_i para cada categoria x_i, no de referencia\")\n",
    "print(lin_dummy.intercept_ + lin_dummy.coef_ )"
   ]
  },
  {
   "cell_type": "markdown",
   "metadata": {},
   "source": [
    "## 4.3 *Effect coding*\n",
    "\n",
    "Es muy similar al *dummy coding* pero en este caso la **categoría de referencia** se representa con un $-1$ en todas las características de la codificación.\n",
    "\n",
    "En *scikit learn* hace falta programar un poco para transformar el *dummy encoding*."
   ]
  },
  {
   "cell_type": "code",
   "execution_count": 120,
   "metadata": {},
   "outputs": [],
   "source": [
    "X_train_city_effect = X_train_city_dummy.copy()\n",
    "positions = np.where(X_train_city_effect.sum(1)==0)[0]\n",
    "X_train_city_effect[positions,:] = -1\n",
    "\n",
    "X_test_city_effect = X_test_city_dummy.copy()\n",
    "positions = np.where(X_test_city_effect.sum(1)==0)[0]\n",
    "X_test_city_effect[positions,:] = -1\n",
    "\n"
   ]
  },
  {
   "cell_type": "code",
   "execution_count": 121,
   "metadata": {},
   "outputs": [
    {
     "name": "stdout",
     "output_type": "stream",
     "text": [
      "       Montréal  Phoenix  Toronto\n",
      "0           0.0      0.0      1.0\n",
      "1          -1.0     -1.0     -1.0\n",
      "2          -1.0     -1.0     -1.0\n",
      "3           0.0      0.0      1.0\n",
      "4          -1.0     -1.0     -1.0\n",
      "...         ...      ...      ...\n",
      "12030       0.0      1.0      0.0\n",
      "12031       1.0      0.0      0.0\n",
      "12032       0.0      0.0      1.0\n",
      "12033       0.0      0.0      1.0\n",
      "12034       0.0      0.0      1.0\n",
      "\n",
      "[12035 rows x 3 columns]\n"
     ]
    }
   ],
   "source": [
    "print(pd.DataFrame(X_train_city_effect, columns=dummy.categories_[0][1:]))"
   ]
  },
  {
   "cell_type": "code",
   "execution_count": 122,
   "metadata": {},
   "outputs": [
    {
     "name": "stdout",
     "output_type": "stream",
     "text": [
      "[ 0.15752729 -0.05650681 -0.07174716]\n",
      "3.525440272124514\n"
     ]
    }
   ],
   "source": [
    "lin_effect = LinearRegression().fit(X_train_city_effect, Y_train)\n",
    "print(lin_effect.coef_)\n",
    "print(lin_effect.intercept_)"
   ]
  },
  {
   "cell_type": "code",
   "execution_count": 123,
   "metadata": {},
   "outputs": [
    {
     "name": "stdout",
     "output_type": "stream",
     "text": [
      "El término w_0 compensa la diferencia de las medias de los targets con las medias del modelo\n"
     ]
    },
    {
     "data": {
      "text/plain": [
       "3.525440272124514"
      ]
     },
     "execution_count": 123,
     "metadata": {},
     "output_type": "execute_result"
    }
   ],
   "source": [
    "print(\"El término w_0 compensa la diferencia de las medias de los targets con las medias del modelo\")\n",
    "np.mean(Y_train) - np.mean(X_train_city_effect,0).dot(lin_effect.coef_) "
   ]
  },
  {
   "cell_type": "markdown",
   "metadata": {},
   "source": [
    "En un modelo lineal entrenado con *effect coding* el término constante se encarga de **compensar las medias de las observaciones** con la media de los *ratings*, y cada peso captura la diferencia entre cada ciudad (distinta de la categoría de referencia) con la media de todas las categorías.\n",
    "\n",
    "El efecto de la **categoría de referencia** hay que verlo como la suma de los negativos de los efectos de las demás categorías."
   ]
  },
  {
   "cell_type": "code",
   "execution_count": 124,
   "metadata": {},
   "outputs": [
    {
     "name": "stdout",
     "output_type": "stream",
     "text": [
      "3.496166950596252\n",
      "3.4961669505962516\n"
     ]
    }
   ],
   "source": [
    "print(X_train_city_ohe[:,0].dot(Y_train)/np.sum(X_train_city_ohe[:,0])) \n",
    "print(-np.sum(lin_effect.coef_)+lin_effect.intercept_)"
   ]
  },
  {
   "cell_type": "markdown",
   "metadata": {
    "slideshow": {
     "slide_type": "slide"
    }
   },
   "source": [
    "## 4.4 Recap\n",
    "- *One-hot encoding*, *Dummy encoding* y *Effect encoding* son muy parecidos, aplican a casos donde el número de categorías no es muy elevado.\n",
    "\n",
    "- *One-hot encoding* es redundante, lo que puede dar problemas con modelos lineales, pero por contra facilita la interpretabilidad de otros tipos de modelos porque cada categoría tiene una característica propia.\n",
    "\n",
    "- *Dummy coding* no es redundante pero dificulta el trabajo cuando hay que gestionar valores perdidos en los datos, ya que el vector con todo ceros (que puede ser habitual cuando hay *missing values*) está codificando la categoría de referencia\n",
    "\n",
    "- *Dummy coding* codifica el efecto de cada categoría en el modelo referenciado a la categoría de referencia, lo que a veces puede ser complicado de interpretar\n",
    "\n",
    "- *Effect coding* tampoco es redundante y el efecto de cada categoría (excepto de la de referencia) se codifica con respecto del promedio de todas las categorías. El problema es que la categoría de referencia se codifica con un vector denso, lo que implica mayor necesidad de almacenamiento.\n",
    "\n",
    "- cuando el número de categorías de la característica es muy grande estas tres técnicas producen resultados difíciles de manejar. Alternativas:\n",
    "    - *Hashing* de características\n",
    "    - Conteo de *bins*\n",
    "    \n",
    "<img src='http://www.tsc.uc3m.es/~emipar/BBVA/INTRO/img/logo_uc3m_foot.jpg' width=400 />"
   ]
  },
  {
   "cell_type": "markdown",
   "metadata": {
    "slideshow": {
     "slide_type": "slide"
    }
   },
   "source": [
    "## 4.5 *Hashing de características*\n",
    "\n",
    "Una función de *hashing* es una función determinista que mapea un entero sin cota (tan grande como queramos) dentro de un rango de enteros finito $[1,m]$. Dado que el rango de valores de la entrada es potencialmente mucho mayor que el rango de valores de la salida, puede darse el caso de que varias entradas coincidan en la misma salida, lo que se conoce como **colisión**. Un *hashing* uniforme asegura más o menos que cada salida reciba la misma proporción de la entrada.\n",
    "\n",
    "En nuestro caso vamos a emplear una función *hashing* para codificar una variable categórica con un número grande de categorías. El proceso sigue dos etapas:\n",
    "1. Codificar cada una de las categorías con un número entero. Tendremos tantos números enteros como categorías\n",
    "2. Aplicar una función de *hashing* que transforma los enteros que codifican las categorías en un código de $m$ columnas.\n",
    "\n",
    "\n",
    "<img src='http://www.tsc.uc3m.es/~emipar/BBVA/INTRO/img/logo_uc3m_foot.jpg' width=400 />"
   ]
  },
  {
   "cell_type": "markdown",
   "metadata": {
    "slideshow": {
     "slide_type": "subslide"
    }
   },
   "source": [
    "Como resultado, cada categoría se transforma en un código de $m$ componentes, que en principio pueden ser densas. En las variantes de *one-hot encoding* el código tiene una longitud igual al número de categorías (menos uno) y con la función de *hashing* reducimos esta longitud de código a un valor de  $m$.\n",
    "\n",
    "Las funciones de *hashing* se diseñan para preservar estadísticos de los productos escalares originales, de modo que las variables *hasheadas* puedan usarse dentro de modelos lineales.\n",
    "\n",
    "El precio que se paga por esta reducción de la dimensión es que las $m$ categorías que resultan del *hashing* **no son interpretables** dentro del conocimiento a priori definido por las variables del problema.\n",
    "\n",
    "Vamos a emplear la funcionalidad de *hashing* de *scikit learn* para codificar los códigos postales de los negocios de la base de YELP.\n",
    "\n",
    "<img src='http://www.tsc.uc3m.es/~emipar/BBVA/INTRO/img/logo_uc3m_foot.jpg' width=400 />"
   ]
  },
  {
   "cell_type": "code",
   "execution_count": 125,
   "metadata": {},
   "outputs": [
    {
     "data": {
      "text/plain": [
       "38253     M4Y 2C6\n",
       "91752       89102\n",
       "117007      89135\n",
       "166325    M1V 1V2\n",
       "203149      89146\n",
       "89028       85040\n",
       "147566      89128\n",
       "188171      89146\n",
       "13278       89139\n",
       "27483     M5B 1R8\n",
       "200162      85004\n",
       "134852      89103\n",
       "159575      89148\n",
       "52208       89102\n",
       "166623    H2S 1R1\n",
       "98821     H4N 3M5\n",
       "189766    M5S 1X7\n",
       "6694        89108\n",
       "43092     H2Y 1Z9\n",
       "106687    M1S 1V1\n",
       "Name: postal_code, dtype: object"
      ]
     },
     "execution_count": 125,
     "metadata": {},
     "output_type": "execute_result"
    }
   ],
   "source": [
    "restaurantes_2000_train['postal_code'].head(20)"
   ]
  },
  {
   "cell_type": "code",
   "execution_count": 126,
   "metadata": {},
   "outputs": [
    {
     "data": {
      "text/plain": [
       "89109      521\n",
       "89119      240\n",
       "89102      231\n",
       "89103      200\n",
       "89146      182\n",
       "          ... \n",
       "M4W 2L9      1\n",
       "M4S 2N2      1\n",
       "M5B 1C9      1\n",
       "H3L 2T6      1\n",
       "H3G 1P6      1\n",
       "Name: postal_code, Length: 3585, dtype: int64"
      ]
     },
     "execution_count": 126,
     "metadata": {},
     "output_type": "execute_result"
    }
   ],
   "source": [
    "restaurantes_2000_train['postal_code'].value_counts()"
   ]
  },
  {
   "cell_type": "code",
   "execution_count": 127,
   "metadata": {},
   "outputs": [],
   "source": [
    "from sklearn.feature_extraction import FeatureHasher "
   ]
  },
  {
   "cell_type": "code",
   "execution_count": 130,
   "metadata": {},
   "outputs": [],
   "source": [
    "\n",
    "h =FeatureHasher(n_features=8, # number of columns of the outut\n",
    "                input_type='string')\n",
    "f = h.transform(restaurantes_2000_train['postal_code']) # notice you don't need fit\n"
   ]
  },
  {
   "cell_type": "code",
   "execution_count": 131,
   "metadata": {},
   "outputs": [
    {
     "name": "stdout",
     "output_type": "stream",
     "text": [
      "Detalle de la salida del hash\n"
     ]
    },
    {
     "data": {
      "text/plain": [
       "array([[ 1.,  0.,  1.,  0.,  0., -1.,  0.,  0.],\n",
       "       [ 0., -1.,  0.,  0.,  0., -1.,  0.,  1.],\n",
       "       [ 0.,  0.,  0.,  0.,  2., -1.,  0.,  0.],\n",
       "       [ 1.,  0.,  1.,  0.,  0., -2.,  0.,  3.],\n",
       "       [ 0.,  0.,  0.,  0.,  0., -1.,  0.,  0.],\n",
       "       [-1., -3.,  0.,  0.,  1.,  0.,  0.,  0.],\n",
       "       [ 0., -1.,  0.,  0.,  0., -1.,  0.,  1.],\n",
       "       [ 0.,  0.,  0.,  0.,  0., -1.,  0.,  0.],\n",
       "       [ 0.,  1.,  0.,  0.,  1., -1.,  0.,  0.],\n",
       "       [ 1.,  0.,  1.,  0.,  1., -1., -1.,  0.],\n",
       "       [-1., -3.,  0.,  0.,  1.,  0.,  0.,  0.],\n",
       "       [ 0., -1.,  0.,  0.,  1., -1.,  0.,  0.],\n",
       "       [-1., -1.,  0.,  0.,  0., -1.,  0.,  0.],\n",
       "       [ 0., -1.,  0.,  0.,  0., -1.,  0.,  1.],\n",
       "       [ 1.,  2.,  0.,  0., -1., -2.,  0.,  1.],\n",
       "       [ 0.,  1.,  1.,  0.,  2.,  0.,  0., -1.],\n",
       "       [ 2.,  0.,  1.,  0.,  1., -1.,  0.,  0.],\n",
       "       [ 0., -2.,  0.,  0.,  0., -1.,  0.,  0.],\n",
       "       [ 1.,  2.,  0.,  0.,  0.,  0.,  0.,  0.],\n",
       "       [ 1.,  0.,  1.,  0., -1., -3.,  0.,  1.]])"
      ]
     },
     "execution_count": 131,
     "metadata": {},
     "output_type": "execute_result"
    }
   ],
   "source": [
    "print(\"Detalle de la salida del hash\")\n",
    "f.toarray()[:20,:]"
   ]
  },
  {
   "cell_type": "code",
   "execution_count": 132,
   "metadata": {},
   "outputs": [
    {
     "data": {
      "text/plain": [
       "array([ 8481., 11741.,  4919.,     0.,  8705., 10818.,  1972.,  6832.])"
      ]
     },
     "execution_count": 132,
     "metadata": {},
     "output_type": "execute_result"
    }
   ],
   "source": [
    "np.absolute(f.toarray()).sum(0)"
   ]
  },
  {
   "cell_type": "code",
   "execution_count": 133,
   "metadata": {},
   "outputs": [
    {
     "name": "stdout",
     "output_type": "stream",
     "text": [
      "Pandas size: 854203 bytes\n",
      "Hashed version size: 56 bytes\n"
     ]
    }
   ],
   "source": [
    "from sys import getsizeof\n",
    "print('Pandas size: {0:d} bytes'.format(getsizeof(restaurantes_2000_train['postal_code'])))\n",
    "print('Hashed version size: {0:d} bytes'.format( getsizeof(f)))"
   ]
  },
  {
   "cell_type": "markdown",
   "metadata": {
    "slideshow": {
     "slide_type": "subslide"
    }
   },
   "source": [
    "El *hashing* es muy interesante para el diseño de *pipelines* de automatización procesamiento de datos dentro de aplicaciones *Big Data* por la **significativa compresión del almacenamiento**. Resaltamos la parte de automatización de procesos en el sentido de poca intervención humana  por la pérdida de interpretabilidad."
   ]
  },
  {
   "cell_type": "markdown",
   "metadata": {
    "slideshow": {
     "slide_type": "slide"
    }
   },
   "source": [
    "## 4.6 Conteos de *bins*\n",
    "\n",
    "En lugar de emplear el valor de la categoría como característica, empleamos **la probabilidad condicional del target bajo ese valor de la característica**. De un modo más general, codificamos en esa característica estadísticos que relacionan el valor del target y el valor (categoría) que toma esa característica.\n",
    "\n",
    "En el caso de la base de datos de YELP vamos a emplear conteos de bin para codificar las ciudades. Primero lo aplicamos en el subconjunto de negocios de las ciudades con más de 2000 negocios.\n",
    "\n",
    "Como tenemos una variable target discreta en 10 valores, vamos a codificar cada ciudad con un vector de 9 componentes, cada una de estas componentes la probabilidad de que un establecimiento de esa ciudad obtenga el *rating* correspondiente:\n",
    "\n",
    "<img src='http://www.tsc.uc3m.es/~emipar/BBVA/INTRO/img/logo_uc3m_foot.jpg' width=400 />"
   ]
  },
  {
   "cell_type": "markdown",
   "metadata": {
    "slideshow": {
     "slide_type": "subslide"
    }
   },
   "source": [
    "$$\n",
    "\\mbox{Las Vegas } \\rightarrow \\left [ \\begin{array}{c} \\mbox{Prob}(\\mbox{stars}=1|\\mbox{city = Las Vegas})\\\\\n",
    "\\mbox{Prob}(\\mbox{stars}=1.5|\\mbox{city = Las Vegas}) \\\\\n",
    "\\mbox{Prob}(\\mbox{stars}=2|\\mbox{city = Las Vegas}) \\\\\n",
    "\\mbox{Prob}(\\mbox{stars}=2.5|\\mbox{city = Las Vegas}) \\\\\n",
    "\\mbox{Prob}(\\mbox{stars}=3|\\mbox{city = Las Vegas}) \\\\\n",
    "\\mbox{Prob}(\\mbox{stars}=3.5|\\mbox{city = Las Vegas}) \\\\\n",
    "\\mbox{Prob}(\\mbox{stars}=4|\\mbox{city = Las Vegas}) \\\\\n",
    "\\mbox{Prob}(\\mbox{stars}=4.5|\\mbox{city = Las Vegas}) \\\\\n",
    "\\mbox{Prob}(\\mbox{stars}=5|\\mbox{city = Las Vegas}) \\\\\n",
    "\\end{array}\\right ]\n",
    "$$\n",
    "\n",
    "Esto generará 9 columnas. Si vamos a emplear un modelo lineal podemos sufrir el mismo problema que con *one-hot encoding* porque las 9 probabilidades condicionales van a sumar 1, es decir, que cualquier columna puede escribirse como una combinación lineal de las otras 8.\n",
    "\n",
    "<img src='http://www.tsc.uc3m.es/~emipar/BBVA/INTRO/img/logo_uc3m_foot.jpg' width=400 />"
   ]
  },
  {
   "cell_type": "markdown",
   "metadata": {
    "slideshow": {
     "slide_type": "subslide"
    }
   },
   "source": [
    "La siguiente clase python implementa el conteo de *bins*"
   ]
  },
  {
   "cell_type": "code",
   "execution_count": 134,
   "metadata": {
    "slideshow": {
     "slide_type": "slide"
    }
   },
   "outputs": [],
   "source": [
    "class bin_counter(object):\n",
    "    def __init__(self):\n",
    "        pass\n",
    "    def fit_transform(self, x, y):\n",
    "        self.code_book = {}\n",
    "        N = len(x)\n",
    "        y_categories = np.unique(y)\n",
    "        self.d = len(y_categories)\n",
    "        output = np.empty((N, self.d))\n",
    "        x_categories = np.unique(x)\n",
    "        num_x_categories = len(x_categories)\n",
    "        y_ohe = OneHotEncoder(sparse=False).fit_transform(y.reshape(-1,1))\n",
    "        for cat in x_categories:\n",
    "            posi = np.where(x==cat)[0]\n",
    "            code = np.mean(y_ohe[posi,:],0)\n",
    "            self.code_book[cat] = code\n",
    "            output[posi,:] = code\n",
    "        return output\n",
    "    def transform(self, x):\n",
    "        N = len(x)\n",
    "        output = np.empty((N, self.d))\n",
    "        x_categories = np.unique(x)\n",
    "        for cat in x_categories:\n",
    "            if cat not in self.code_book:\n",
    "                code = np.array([np.nan]*d)\n",
    "            else:\n",
    "                code = self.code_book[cat]\n",
    "            posi = np.where(x==cat)[0]\n",
    "            output[posi,:] = code\n",
    "        return output\n",
    "    def fit(self, x, y):\n",
    "        self.code_book = {}\n",
    "        N = len(x)\n",
    "        y_categories = np.unique(y)\n",
    "        self.d = len(y_categories)\n",
    "        x_categories = np.unique(x)\n",
    "        num_x_categories = len(x_categories)\n",
    "        y_ohe = OneHotEncoder(sparse=False).fit_transform(y.reshape(-1,1))\n",
    "        for cat in x_categories:\n",
    "            posi = np.where(x==cat)[0]\n",
    "            code = np.mean(y_ohe[posi,:],0)\n",
    "            self.code_book[cat] = code\n",
    "          "
   ]
  },
  {
   "cell_type": "code",
   "execution_count": 135,
   "metadata": {},
   "outputs": [],
   "source": [
    "x = restaurantes_2000_train['city'].values\n",
    "y = restaurantes_2000_train['stars'].values\n"
   ]
  },
  {
   "cell_type": "code",
   "execution_count": 136,
   "metadata": {},
   "outputs": [],
   "source": [
    "bc = bin_counter()\n"
   ]
  },
  {
   "cell_type": "code",
   "execution_count": 137,
   "metadata": {},
   "outputs": [],
   "source": [
    "city_bin_counted_train = bc.fit_transform(restaurantes_2000_train['city'].values,\n",
    "       restaurantes_2000_train['stars'].values)\n",
    "city_bin_counted_test = bc.transform(restaurantes_2000_test['city'].values)"
   ]
  },
  {
   "cell_type": "code",
   "execution_count": 138,
   "metadata": {},
   "outputs": [
    {
     "data": {
      "text/plain": [
       "{'Las Vegas': array([0.00425894, 0.01987507, 0.06871096, 0.1036343 , 0.14963089,\n",
       "        0.21663827, 0.25269733, 0.15019875, 0.03435548]),\n",
       " 'Montréal': array([0.00333969, 0.01431298, 0.02576336, 0.06870229, 0.14217557,\n",
       "        0.22041985, 0.29723282, 0.1846374 , 0.04341603]),\n",
       " 'Phoenix': array([0.0053816 , 0.02690802, 0.0665362 , 0.09540117, 0.16878669,\n",
       "        0.2167319 , 0.24266145, 0.14383562, 0.03375734]),\n",
       " 'Toronto': array([0.00388749, 0.0180654 , 0.05373885, 0.09444317, 0.17951063,\n",
       "        0.27075234, 0.25040018, 0.10930711, 0.01989481])}"
      ]
     },
     "execution_count": 138,
     "metadata": {},
     "output_type": "execute_result"
    }
   ],
   "source": [
    "bc.code_book"
   ]
  },
  {
   "cell_type": "markdown",
   "metadata": {
    "slideshow": {
     "slide_type": "subslide"
    }
   },
   "source": [
    "Una ventaja del conteo de *bins* es que el tamaño de la codificación no aumenta si aumentamos el número de etiquetas o categorías de la variable categórica en cuestión. Por ejemplo, vamos a codificar el campo `city` de la base de restaurantes de YELP ubicados en ciudades con más de 100 negocios registrados."
   ]
  },
  {
   "cell_type": "code",
   "execution_count": 139,
   "metadata": {},
   "outputs": [
    {
     "name": "stdout",
     "output_type": "stream",
     "text": [
      "Index(['Toronto', 'Las Vegas', 'Montréal', 'Phoenix', 'Calgary', 'Charlotte',\n",
      "       'Pittsburgh', 'Scottsdale', 'Mississauga', 'Cleveland', 'Mesa',\n",
      "       'Madison', 'Tempe', 'Henderson', 'Chandler', 'Markham', 'Glendale',\n",
      "       'Brampton', 'Gilbert', 'Richmond Hill', 'Scarborough', 'Vaughan',\n",
      "       'North York', 'Champaign', 'Peoria', 'Etobicoke', 'Concord',\n",
      "       'North Las Vegas', 'Laval', 'Surprise', 'Matthews', 'Akron',\n",
      "       'Newmarket'],\n",
      "      dtype='object')\n"
     ]
    }
   ],
   "source": [
    "ciudades_con_mas_de_100 = restaurantes_por_ciudad.loc[restaurantes_por_ciudad>=100].index\n",
    "print(ciudades_con_mas_de_100)\n",
    "\n",
    "restaurantes_100_train = restaurantes_train.loc[restaurantes_train['city'].isin(ciudades_con_mas_de_100)]\n",
    "restaurantes_100_test = restaurantes_test.loc[restaurantes_test['city'].isin(ciudades_con_mas_de_100)]"
   ]
  },
  {
   "cell_type": "code",
   "execution_count": 140,
   "metadata": {},
   "outputs": [],
   "source": [
    "bc_100 = bin_counter()\n",
    "city_100_bin_counted_train = bc_100.fit_transform(restaurantes_100_train['city'].values,\n",
    "       restaurantes_100_train['stars'].values)\n",
    "city_100_bin_counted_test = bc_100.transform(restaurantes_100_test['city'].values)"
   ]
  },
  {
   "cell_type": "code",
   "execution_count": 141,
   "metadata": {},
   "outputs": [
    {
     "data": {
      "text/plain": [
       "{'Akron': array([0.00877193, 0.04385965, 0.04385965, 0.1754386 , 0.14912281,\n",
       "        0.19298246, 0.23684211, 0.12280702, 0.02631579]),\n",
       " 'Brampton': array([0.01612903, 0.02903226, 0.08064516, 0.1       , 0.2       ,\n",
       "        0.20967742, 0.26774194, 0.07741935, 0.01935484]),\n",
       " 'Calgary': array([0.00680272, 0.02102659, 0.05071119, 0.09585652, 0.19604205,\n",
       "        0.25293754, 0.23500309, 0.11255411, 0.02906617]),\n",
       " 'Champaign': array([0.00456621, 0.03652968, 0.0913242 , 0.09589041, 0.23744292,\n",
       "        0.28767123, 0.16438356, 0.06392694, 0.01826484]),\n",
       " 'Chandler': array([0.00653595, 0.01742919, 0.06753813, 0.07843137, 0.18518519,\n",
       "        0.24618736, 0.25272331, 0.12418301, 0.02178649]),\n",
       " 'Charlotte': array([0.01350439, 0.03916273, 0.06414585, 0.08642809, 0.17420662,\n",
       "        0.2255233 , 0.25523295, 0.12018906, 0.02160702]),\n",
       " 'Cleveland': array([0.02133333, 0.028     , 0.04933333, 0.108     , 0.12666667,\n",
       "        0.19466667, 0.27866667, 0.15066667, 0.04266667]),\n",
       " 'Concord': array([0.02272727, 0.04545455, 0.07386364, 0.14204545, 0.19318182,\n",
       "        0.26136364, 0.15909091, 0.07386364, 0.02840909]),\n",
       " 'Etobicoke': array([0.00549451, 0.03846154, 0.08241758, 0.13736264, 0.17582418,\n",
       "        0.3021978 , 0.15384615, 0.08791209, 0.01648352]),\n",
       " 'Gilbert': array([0.00332226, 0.01328904, 0.04651163, 0.10963455, 0.19601329,\n",
       "        0.21594684, 0.26910299, 0.12624585, 0.01993355]),\n",
       " 'Glendale': array([0.00257069, 0.03856041, 0.07969152, 0.14652956, 0.1748072 ,\n",
       "        0.20051414, 0.23136247, 0.11568123, 0.01028278]),\n",
       " 'Henderson': array([0.        , 0.02754237, 0.06355932, 0.08898305, 0.18855932,\n",
       "        0.23305085, 0.25635593, 0.125     , 0.01694915]),\n",
       " 'Las Vegas': array([0.00425894, 0.01987507, 0.06871096, 0.1036343 , 0.14963089,\n",
       "        0.21663827, 0.25269733, 0.15019875, 0.03435548]),\n",
       " 'Laval': array([0.01744186, 0.01162791, 0.0872093 , 0.09302326, 0.18023256,\n",
       "        0.22674419, 0.20348837, 0.15116279, 0.02906977]),\n",
       " 'Madison': array([0.0034188 , 0.01709402, 0.03418803, 0.09401709, 0.16239316,\n",
       "        0.24615385, 0.2974359 , 0.11452991, 0.03076923]),\n",
       " 'Markham': array([0.01089325, 0.01089325, 0.05664488, 0.12200436, 0.30501089,\n",
       "        0.28540305, 0.14814815, 0.05010893, 0.01089325]),\n",
       " 'Matthews': array([0.        , 0.00854701, 0.1025641 , 0.05982906, 0.17094017,\n",
       "        0.29059829, 0.21367521, 0.1025641 , 0.05128205]),\n",
       " 'Mesa': array([0.00628931, 0.02987421, 0.08333333, 0.12735849, 0.20125786,\n",
       "        0.1918239 , 0.22012579, 0.11006289, 0.02987421]),\n",
       " 'Mississauga': array([0.00125471, 0.01882058, 0.06273526, 0.14429109, 0.18695107,\n",
       "        0.25094103, 0.23964868, 0.07779172, 0.01756587]),\n",
       " 'Montréal': array([0.00333969, 0.01431298, 0.02576336, 0.06870229, 0.14217557,\n",
       "        0.22041985, 0.29723282, 0.1846374 , 0.04341603]),\n",
       " 'Newmarket': array([0.01785714, 0.03571429, 0.03571429, 0.03571429, 0.16964286,\n",
       "        0.24107143, 0.26785714, 0.16964286, 0.02678571]),\n",
       " 'North Las Vegas': array([0.01142857, 0.05714286, 0.08      , 0.09142857, 0.27428571,\n",
       "        0.20571429, 0.21714286, 0.04      , 0.02285714]),\n",
       " 'North York': array([0.00803213, 0.02008032, 0.08032129, 0.17670683, 0.26104418,\n",
       "        0.22891566, 0.18875502, 0.03212851, 0.00401606]),\n",
       " 'Peoria': array([0.01052632, 0.04736842, 0.15263158, 0.09473684, 0.12631579,\n",
       "        0.25263158, 0.2       , 0.08947368, 0.02631579]),\n",
       " 'Phoenix': array([0.0053816 , 0.02690802, 0.0665362 , 0.09540117, 0.16878669,\n",
       "        0.2167319 , 0.24266145, 0.14383562, 0.03375734]),\n",
       " 'Pittsburgh': array([0.00510949, 0.02335766, 0.0459854 , 0.08321168, 0.17518248,\n",
       "        0.25109489, 0.24160584, 0.14452555, 0.02992701]),\n",
       " 'Richmond Hill': array([0.00680272, 0.02040816, 0.07142857, 0.08843537, 0.27891156,\n",
       "        0.31632653, 0.15646259, 0.05782313, 0.00340136]),\n",
       " 'Scarborough': array([0.01060071, 0.01413428, 0.08127208, 0.18021201, 0.20141343,\n",
       "        0.24734982, 0.16961131, 0.08480565, 0.01060071]),\n",
       " 'Scottsdale': array([0.00235849, 0.00589623, 0.03066038, 0.06721698, 0.14740566,\n",
       "        0.25117925, 0.32193396, 0.14268868, 0.03066038]),\n",
       " 'Surprise': array([0.        , 0.05785124, 0.08264463, 0.18181818, 0.25619835,\n",
       "        0.19834711, 0.15702479, 0.0661157 , 0.        ]),\n",
       " 'Tempe': array([0.00567108, 0.02835539, 0.04347826, 0.10396975, 0.17958412,\n",
       "        0.24763705, 0.24385633, 0.13232514, 0.01512287]),\n",
       " 'Toronto': array([0.00388749, 0.0180654 , 0.05373885, 0.09444317, 0.17951063,\n",
       "        0.27075234, 0.25040018, 0.10930711, 0.01989481]),\n",
       " 'Vaughan': array([0.00389105, 0.0155642 , 0.06225681, 0.12062257, 0.17509728,\n",
       "        0.28793774, 0.21789883, 0.09727626, 0.01945525])}"
      ]
     },
     "execution_count": 141,
     "metadata": {},
     "output_type": "execute_result"
    }
   ],
   "source": [
    "bc_100.code_book"
   ]
  },
  {
   "cell_type": "code",
   "execution_count": 142,
   "metadata": {},
   "outputs": [
    {
     "name": "stdout",
     "output_type": "stream",
     "text": [
      "Tamaño del array codificado para ciudades con más de 2000 restaurantes 12035, 9\n",
      "Tamaño del array codificado para ciudades con más de 100 restaurantes 25699, 9\n"
     ]
    }
   ],
   "source": [
    "print(\"Tamaño del array codificado para ciudades con más de 2000 restaurantes {0:d}, {1:d}\".format(city_bin_counted_train.shape[0],\n",
    "                                                                                                  city_bin_counted_train.shape[1]))\n",
    "\n",
    "print(\"Tamaño del array codificado para ciudades con más de 100 restaurantes {0:d}, {1:d}\".format(city_100_bin_counted_train.shape[0],\n",
    "                                                                                                  city_100_bin_counted_train.shape[1]))"
   ]
  },
  {
   "cell_type": "markdown",
   "metadata": {
    "slideshow": {
     "slide_type": "subslide"
    }
   },
   "source": [
    "### Tratamiento de categorías con muy pocas ocurrencias\n",
    "\n",
    "Estos estadísticos pueden dejar de tener sentido cuando hay categorías con muy pocas ocurrencias. En el caso que estamos revisando ocurre cuando aparecen ciudades que tienen muy pocos restaurantes evaluados, lo que causa que los estadísticos estimados con conteos de bin no sean fiables.\n",
    "\n",
    "En este caso lo habitual es construir un código *back-off* que agrupe los conteos de las categorías minoritarias. Para implementarlo primero debemos fijar un umbral en el número de apariciones para determinar si una categoría es *poco frecuente*. \n",
    "\n",
    "Por ejemplo fijemos el umbral de mínimo número de restaurantes en 25\n",
    "\n",
    "<img src='http://www.tsc.uc3m.es/~emipar/BBVA/INTRO/img/logo_uc3m_foot.jpg' width=400 />\n"
   ]
  },
  {
   "cell_type": "code",
   "execution_count": 143,
   "metadata": {},
   "outputs": [
    {
     "data": {
      "text/plain": [
       "<matplotlib.legend.Legend at 0x140a606f160>"
      ]
     },
     "execution_count": 143,
     "metadata": {},
     "output_type": "execute_result"
    },
    {
     "data": {
      "image/png": "[encoded data removed]",
      "text/plain": [
       "<Figure size 1152x288 with 1 Axes>"
      ]
     },
     "metadata": {
      "needs_background": "light"
     },
     "output_type": "display_data"
    }
   ],
   "source": [
    "threshold = 25 # umbral\n",
    "plt.figure(figsize=(16,4))\n",
    "plt.plot(restaurantes_por_ciudad.values)\n",
    "plt.plot([0,len(restaurantes_por_ciudad)],[threshold,threshold],linestyle=\"--\",linewidth=2,label='threshold for minimum counts')\n",
    "plt.xlabel('Categories')\n",
    "plt.ylabel('num. of restaurants')\n",
    "plt.yscale('log')\n",
    "corte = np.where(restaurantes_por_ciudad.values<threshold)[0][0]\n",
    "plt.fill_between(range(corte, len(restaurantes_por_ciudad)), \n",
    "                restaurantes_por_ciudad.values[corte:],\n",
    "                color='orange',\n",
    "                alpha=0.3)\n",
    "suma_corte = restaurantes_por_ciudad.iloc[corte:].sum()\n",
    "posicion_barra = np.where(restaurantes_por_ciudad.values<suma_corte)[0][0]\n",
    "plt.plot([posicion_barra,posicion_barra, posicion_barra+1,posicion_barra+1],[0,suma_corte, suma_corte,0], color='green', label='back-off')\n",
    "plt.legend()\n"
   ]
  },
  {
   "cell_type": "markdown",
   "metadata": {},
   "source": [
    "El código *back-off* recogería los conteos de las ciudades que se encuentran en el área sombreada de la figura. \n",
    "\n",
    "Una manera de implementarlo en python puede ser"
   ]
  },
  {
   "cell_type": "code",
   "execution_count": 144,
   "metadata": {},
   "outputs": [],
   "source": [
    "class bin_counter(object):\n",
    "    def __init__(self, back_off_threshold = 0):\n",
    "        self.back_off_threshold = back_off_threshold\n",
    "        self.backed_off_categories = []\n",
    "        pass\n",
    "    def fit_transform(self, x, y):\n",
    "        self.fit(x,y)\n",
    "        return self.transform(x)\n",
    "    def transform(self, x):\n",
    "        N = len(x)\n",
    "        output = np.empty((N, self.d))\n",
    "        x_categories = np.unique(x)\n",
    "        for cat in x_categories:\n",
    "            if cat not in self.code_book:\n",
    "                code = self.code_book['average']\n",
    "            elif cat in self.backed_off_categories:\n",
    "                code = self.code_book['back-off']\n",
    "            else:\n",
    "                code = self.code_book[cat]\n",
    "            posi = np.where(x==cat)[0]\n",
    "            output[posi,:] = code\n",
    "        return output\n",
    "    def fit(self, x, y):\n",
    "        self.code_book = {}\n",
    "        N = len(x)\n",
    "        y_categories = np.unique(y)\n",
    "        self.d = len(y_categories)\n",
    "        x_categories = np.unique(x)\n",
    "        num_x_categories = len(x_categories)\n",
    "        y_ohe = OneHotEncoder(sparse=False).fit_transform(y.reshape(-1,1))\n",
    "        back_off_counts = np.zeros(self.d)\n",
    "        num_back_off = 0\n",
    "        for cat in x_categories:\n",
    "            posi = np.where(x==cat)[0]\n",
    "            if len(posi) >= self.back_off_threshold:\n",
    "                code = np.mean(y_ohe[posi,:],0)\n",
    "                self.code_book[cat] = code\n",
    "            else:\n",
    "                self.backed_off_categories.append(cat)\n",
    "                back_off_counts += np.sum(y_ohe[posi,:],0)\n",
    "                num_back_off += len(posi)\n",
    "        if num_back_off > 0:\n",
    "            self.code_book['back-off']  = back_off_counts / num_back_off\n",
    "        self.code_book['average'] =  np.mean(y_ohe,0)"
   ]
  },
  {
   "cell_type": "code",
   "execution_count": 145,
   "metadata": {},
   "outputs": [],
   "source": [
    "bc_100 = bin_counter(back_off_threshold=200)\n",
    "city_100_bin_counted_train = bc_100.fit_transform(restaurantes_100_train['city'].values,\n",
    "       restaurantes_100_train['stars'].values)\n",
    "city_100_bin_counted_test = bc_100.transform(restaurantes_100_test['city'].values)"
   ]
  },
  {
   "cell_type": "code",
   "execution_count": 146,
   "metadata": {},
   "outputs": [
    {
     "data": {
      "text/plain": [
       "['Akron',\n",
       " 'Concord',\n",
       " 'Etobicoke',\n",
       " 'Laval',\n",
       " 'Matthews',\n",
       " 'Newmarket',\n",
       " 'North Las Vegas',\n",
       " 'Peoria',\n",
       " 'Surprise']"
      ]
     },
     "execution_count": 146,
     "metadata": {},
     "output_type": "execute_result"
    }
   ],
   "source": [
    "bc_100.backed_off_categories"
   ]
  },
  {
   "cell_type": "code",
   "execution_count": 147,
   "metadata": {},
   "outputs": [
    {
     "data": {
      "text/plain": [
       "{'Brampton': array([0.01612903, 0.02903226, 0.08064516, 0.1       , 0.2       ,\n",
       "        0.20967742, 0.26774194, 0.07741935, 0.01935484]),\n",
       " 'Calgary': array([0.00680272, 0.02102659, 0.05071119, 0.09585652, 0.19604205,\n",
       "        0.25293754, 0.23500309, 0.11255411, 0.02906617]),\n",
       " 'Champaign': array([0.00456621, 0.03652968, 0.0913242 , 0.09589041, 0.23744292,\n",
       "        0.28767123, 0.16438356, 0.06392694, 0.01826484]),\n",
       " 'Chandler': array([0.00653595, 0.01742919, 0.06753813, 0.07843137, 0.18518519,\n",
       "        0.24618736, 0.25272331, 0.12418301, 0.02178649]),\n",
       " 'Charlotte': array([0.01350439, 0.03916273, 0.06414585, 0.08642809, 0.17420662,\n",
       "        0.2255233 , 0.25523295, 0.12018906, 0.02160702]),\n",
       " 'Cleveland': array([0.02133333, 0.028     , 0.04933333, 0.108     , 0.12666667,\n",
       "        0.19466667, 0.27866667, 0.15066667, 0.04266667]),\n",
       " 'Gilbert': array([0.00332226, 0.01328904, 0.04651163, 0.10963455, 0.19601329,\n",
       "        0.21594684, 0.26910299, 0.12624585, 0.01993355]),\n",
       " 'Glendale': array([0.00257069, 0.03856041, 0.07969152, 0.14652956, 0.1748072 ,\n",
       "        0.20051414, 0.23136247, 0.11568123, 0.01028278]),\n",
       " 'Henderson': array([0.        , 0.02754237, 0.06355932, 0.08898305, 0.18855932,\n",
       "        0.23305085, 0.25635593, 0.125     , 0.01694915]),\n",
       " 'Las Vegas': array([0.00425894, 0.01987507, 0.06871096, 0.1036343 , 0.14963089,\n",
       "        0.21663827, 0.25269733, 0.15019875, 0.03435548]),\n",
       " 'Madison': array([0.0034188 , 0.01709402, 0.03418803, 0.09401709, 0.16239316,\n",
       "        0.24615385, 0.2974359 , 0.11452991, 0.03076923]),\n",
       " 'Markham': array([0.01089325, 0.01089325, 0.05664488, 0.12200436, 0.30501089,\n",
       "        0.28540305, 0.14814815, 0.05010893, 0.01089325]),\n",
       " 'Mesa': array([0.00628931, 0.02987421, 0.08333333, 0.12735849, 0.20125786,\n",
       "        0.1918239 , 0.22012579, 0.11006289, 0.02987421]),\n",
       " 'Mississauga': array([0.00125471, 0.01882058, 0.06273526, 0.14429109, 0.18695107,\n",
       "        0.25094103, 0.23964868, 0.07779172, 0.01756587]),\n",
       " 'Montréal': array([0.00333969, 0.01431298, 0.02576336, 0.06870229, 0.14217557,\n",
       "        0.22041985, 0.29723282, 0.1846374 , 0.04341603]),\n",
       " 'North York': array([0.00803213, 0.02008032, 0.08032129, 0.17670683, 0.26104418,\n",
       "        0.22891566, 0.18875502, 0.03212851, 0.00401606]),\n",
       " 'Phoenix': array([0.0053816 , 0.02690802, 0.0665362 , 0.09540117, 0.16878669,\n",
       "        0.2167319 , 0.24266145, 0.14383562, 0.03375734]),\n",
       " 'Pittsburgh': array([0.00510949, 0.02335766, 0.0459854 , 0.08321168, 0.17518248,\n",
       "        0.25109489, 0.24160584, 0.14452555, 0.02992701]),\n",
       " 'Richmond Hill': array([0.00680272, 0.02040816, 0.07142857, 0.08843537, 0.27891156,\n",
       "        0.31632653, 0.15646259, 0.05782313, 0.00340136]),\n",
       " 'Scarborough': array([0.01060071, 0.01413428, 0.08127208, 0.18021201, 0.20141343,\n",
       "        0.24734982, 0.16961131, 0.08480565, 0.01060071]),\n",
       " 'Scottsdale': array([0.00235849, 0.00589623, 0.03066038, 0.06721698, 0.14740566,\n",
       "        0.25117925, 0.32193396, 0.14268868, 0.03066038]),\n",
       " 'Tempe': array([0.00567108, 0.02835539, 0.04347826, 0.10396975, 0.17958412,\n",
       "        0.24763705, 0.24385633, 0.13232514, 0.01512287]),\n",
       " 'Toronto': array([0.00388749, 0.0180654 , 0.05373885, 0.09444317, 0.17951063,\n",
       "        0.27075234, 0.25040018, 0.10930711, 0.01989481]),\n",
       " 'Vaughan': array([0.00389105, 0.0155642 , 0.06225681, 0.12062257, 0.17509728,\n",
       "        0.28793774, 0.21789883, 0.09727626, 0.01945525]),\n",
       " 'back-off': array([0.01103753, 0.03899926, 0.08609272, 0.11258278, 0.1883738 ,\n",
       "        0.24356144, 0.19720383, 0.09713024, 0.0250184 ]),\n",
       " 'average': array([0.00603136, 0.02245224, 0.05797891, 0.09879762, 0.17576559,\n",
       "        0.23911436, 0.24783065, 0.12510214, 0.02692712])}"
      ]
     },
     "execution_count": 147,
     "metadata": {},
     "output_type": "execute_result"
    }
   ],
   "source": [
    "bc_100.code_book"
   ]
  },
  {
   "cell_type": "markdown",
   "metadata": {
    "slideshow": {
     "slide_type": "slide"
    }
   },
   "source": [
    "### Gestión del conteo de *bins* y problemas de *leakage*\n",
    "\n",
    "En aplicaciones donde se reciban nuevos datos periódicamente los conteos de *bin* necesitan de **mantenimiento**, porque si las estadística del problema cambia, los conteos van a cambiar. En estos casos debemos ser cuidadosos para evitar un problema de *leakage* o **fuga de información de la salida a la entrada** que pueda desembocar en un grave problema de **sobreajuste** u *overfitting*.\n",
    "\n",
    "El *leakage* sucede cuando inconscientemente usamos información de la variable *target* para construir las características, a través de un determinado conjunto de entrenamiento, y luego empleamos ese mismo conjunto, con las variables categóricas transformadas mediante conteos de *bin*, para entrenar el modelo. El problema que existe es que en los conteos de *bin* estamos usando los valores de la variable *target* para calcular las probabilidades, por lo que puede los valores de estas probabilidades dependen directamente de los ejemplos de observaciones y *targets* que hayamos empleado para calcularlas, es decir, **estamos introduciendo explícitamnte información del target en las características**. \n",
    "\n",
    "\n",
    "\n",
    "<img src='http://www.tsc.uc3m.es/~emipar/BBVA/INTRO/img/logo_uc3m_foot.jpg' width=400 />\n"
   ]
  },
  {
   "cell_type": "markdown",
   "metadata": {
    "slideshow": {
     "slide_type": "subslide"
    }
   },
   "source": [
    "Está claro que en aprendizaje automático se **asume** que hay una relación entre las observaciones, representadas mediante las características, y la variable *target* que queremos capturar con el modelo. Pero si utilizamos como conjunto de entrenamiento para aprender el modelo el mismo conjunto que hemos usado para aprender las características *conteo de bin*, se da la circunstancia de que en este conjunto los valores particulares de las características están especialmente ajustados a los valores particulares de la variable *target*, y el modelo puede capturar esta relación en lugar de la relación que nos interesa, lo cuál resulta en un alto riesgo de sobreajuste. \n",
    "\n",
    "Para evitar este riesgo lo más fácil es **dividir el conjunto de entrenamiento en dos partes** y usar una para aprender los conteos de bin y la otra para aprender el modelo.\n",
    "\n",
    "<img src='http://www.tsc.uc3m.es/~emipar/BBVA/INTRO/img/logo_uc3m_foot.jpg' width=400 />\n"
   ]
  },
  {
   "cell_type": "code",
   "execution_count": null,
   "metadata": {},
   "outputs": [],
   "source": []
  }
 ],
 "metadata": {
  "celltoolbar": "Slideshow",
  "colab": {
   "collapsed_sections": [],
   "name": "Intro_intermedio.ipynb",
   "provenance": []
  },
  "kernelspec": {
   "display_name": "Python 3",
   "language": "python",
   "name": "python3"
  },
  "language_info": {
   "codemirror_mode": {
    "name": "ipython",
    "version": 3
   },
   "file_extension": ".py",
   "mimetype": "text/x-python",
   "name": "python",
   "nbconvert_exporter": "python",
   "pygments_lexer": "ipython3",
   "version": "3.7.1"
  }
 },
 "nbformat": 4,
 "nbformat_minor": 2
}
