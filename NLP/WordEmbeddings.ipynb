{
 "cells": [
  {
   "cell_type": "markdown",
   "id": "sharp-preliminary",
   "metadata": {},
   "source": [
    "# Word Embeddings in Python with Gensim"
   ]
  },
  {
   "cell_type": "markdown",
   "id": "adjacent-retail",
   "metadata": {},
   "source": [
    "## 1. Desarrollo de un Word2Vec Embedding\n",
    "- Word2Vec es un algoritmo que usa un modelo de red neuronal para aprender asociaciones de palabras desde un Corpus de Texto.\n",
    "- Una vez entrenado, el modelo puede detectar sinónimos o sugerir palabras.\n",
    "- Word2Vec representa cada palabra con un vector"
   ]
  },
  {
   "cell_type": "markdown",
   "id": "developing-shoot",
   "metadata": {},
   "source": [
    "### Ejemplo con un pequeño corpus"
   ]
  },
  {
   "cell_type": "code",
   "execution_count": 24,
   "id": "earned-probability",
   "metadata": {},
   "outputs": [
    {
     "name": "stdout",
     "output_type": "stream",
     "text": [
      "Word2Vec(vocab=17, size=100, alpha=0.025)\n",
      "['the', 'football', 'player', 'scored', 'a', 'goal', 'match', 'was', 'amazing', 'one', 'in', 'more', 'soccer', 'and', 'final', 'of', 'great']\n",
      "Vector for the word sentence:\n",
      "[ 1.9243447e-03 -3.7913953e-03  4.9311086e-03  4.6017594e-03\n",
      "  4.0592998e-03 -2.1583703e-03  3.1225998e-03 -4.9824906e-03\n",
      "  4.8879897e-03 -1.3633338e-03  2.8271237e-04  7.5601286e-04\n",
      "  2.1116512e-03  4.7717160e-03  1.8656250e-03 -2.8284653e-03\n",
      "  3.3472637e-03 -2.3262384e-03 -4.5936634e-03 -3.3394150e-03\n",
      "  3.4295358e-03 -1.4922947e-03  3.9128242e-03  4.3572136e-03\n",
      " -1.8241834e-03 -7.0066622e-04 -4.3484112e-03  2.7028457e-03\n",
      " -1.1150263e-03  4.0903948e-03  2.3460337e-03 -2.0857898e-03\n",
      "  5.6310074e-04  1.0748495e-03 -2.6524654e-03 -9.2243368e-04\n",
      " -4.6838522e-03  4.0064189e-03 -2.9443266e-04 -3.3962887e-03\n",
      "  3.4953924e-03  3.8825024e-03  3.7540507e-03  1.8662625e-03\n",
      "  1.2924740e-03 -2.6549802e-03  2.5753553e-03 -2.2166255e-03\n",
      "  3.7955327e-03  4.8326640e-03  3.2043091e-03  1.4328177e-03\n",
      "  2.8780545e-03  3.2071269e-03  5.6729128e-04 -3.2610497e-03\n",
      "  1.2501584e-05  1.9928567e-04  4.3774503e-03 -2.9911783e-03\n",
      " -4.5344378e-03  3.3977320e-03  4.0948680e-03  3.4709396e-03\n",
      "  7.6845050e-04 -4.4522686e-03 -4.0150452e-03  1.7800203e-03\n",
      " -4.4063320e-03  4.3341629e-03 -2.4116025e-05 -4.9882648e-03\n",
      "  1.3301673e-03 -2.5515091e-03  1.1351436e-03  3.0140479e-03\n",
      "  4.2400518e-03 -5.3052511e-04  4.9754283e-03  2.0079478e-03\n",
      " -1.9831220e-03  2.3778004e-03  1.5528388e-03 -7.2512520e-04\n",
      " -2.6284864e-03  2.4522385e-03  3.3860700e-03 -2.6124937e-03\n",
      " -3.6286968e-03 -7.0859987e-04 -1.4418000e-04  9.5911254e-04\n",
      " -2.4697222e-03 -4.2962111e-03 -3.9673820e-03 -3.9999150e-03\n",
      " -3.6736927e-04  2.8096931e-03  8.1535208e-04 -4.8725554e-03]\n",
      "Word2Vec(vocab=17, size=100, alpha=0.025)\n"
     ]
    },
    {
     "name": "stderr",
     "output_type": "stream",
     "text": [
      "<ipython-input-24-0873cf08207d>:19: DeprecationWarning: Call to deprecated `__getitem__` (Method will be removed in 4.0.0, use self.wv.__getitem__() instead).\n",
      "  print(model['goal'])\n"
     ]
    }
   ],
   "source": [
    "from gensim.models import Word2Vec\n",
    "# define training data\n",
    "sentences = [['the', 'football', 'player', 'scored', 'a', 'goal'],\n",
    "            ['the', 'football', 'match', 'was', 'amazing'],\n",
    "            ['the', 'player', 'scored','one','goal','in','the','match'],\n",
    "            ['one', 'more', 'goal','in','the','soccer','match'],\n",
    "            ['the','soccer','player','scored','a','goal'],\n",
    "            ['and', 'the', 'final', 'of','match'],\n",
    "            ['the','soccer','match','was','great']]\n",
    "# train model: The model is trained and the minimum count for words is set to 1 so that no words are ignored. \n",
    "model = Word2Vec(sentences, min_count=1) # vector size = 100 (Default)\n",
    "# summarize the loaded model\n",
    "print(model)\n",
    "# summarize vocabulary\n",
    "words = list(model.wv.vocab)\n",
    "print(words)\n",
    "# access vector for one word\n",
    "print('Vector for the word sentence:')\n",
    "print(model['goal'])\n",
    "# save model\n",
    "model.save('model.bin')\n",
    "# load model\n",
    "new_model = Word2Vec.load('model.bin')\n",
    "print(new_model)"
   ]
  },
  {
   "cell_type": "markdown",
   "id": "excellent-labor",
   "metadata": {},
   "source": [
    "## 2. Visualiza tu Word Embedding\n",
    "- Para representar nuestro word embedding vamos a reducir la dimensionalidad de los vectores de palabras\n",
    "- Podemos usar PCA para esto"
   ]
  },
  {
   "cell_type": "code",
   "execution_count": 25,
   "id": "assisted-chapel",
   "metadata": {},
   "outputs": [
    {
     "name": "stderr",
     "output_type": "stream",
     "text": [
      "<ipython-input-25-c97541bfd7ed>:5: DeprecationWarning: Call to deprecated `__getitem__` (Method will be removed in 4.0.0, use self.wv.__getitem__() instead).\n",
      "  X = model[model.wv.vocab]\n"
     ]
    },
    {
     "data": {
      "image/png": "[encoded data removed]",
      "text/plain": [
       "<Figure size 432x288 with 1 Axes>"
      ]
     },
     "metadata": {
      "needs_background": "light"
     },
     "output_type": "display_data"
    }
   ],
   "source": [
    "from sklearn.decomposition import PCA\n",
    "import matplotlib.pyplot as plt\n",
    "\n",
    "# PCA\n",
    "X = model[model.wv.vocab]\n",
    "pca = PCA(n_components=2)\n",
    "result = pca.fit_transform(X)\n",
    "\n",
    "# Plot\n",
    "plt.scatter(result[:, 0], result[:, 1])\n",
    "words = list(model.wv.vocab)\n",
    "for i, word in enumerate(words):\n",
    "\tplt.annotate(word, xy=(result[i, 0], result[i, 1]))"
   ]
  },
  {
   "cell_type": "markdown",
   "id": "freelance-harvest",
   "metadata": {},
   "source": [
    "## 3. Google Word2Vec Embedding\n",
    "- [Documentation](https://code.google.com/archive/p/word2vec/)\n",
    "- Entrenar tu modelo con tu propio corpus puede ser la mejor aproximación a un problema de NLP. Pero requiere mucho tiempo y ordenadores potentes\n",
    "- Una alternativa es usar modelos pre-entrenados de word embedding\n",
    "- Un modelo pre-entrenado es un archivo que contiene tokens asociados con vectores de palabras\n",
    "- Google Word2Vec News Data Model contiene 3 millones de palabras y usa 300 size vectors (1,5GB!)"
   ]
  },
  {
   "cell_type": "code",
   "execution_count": 27,
   "id": "aging-undergraduate",
   "metadata": {},
   "outputs": [],
   "source": [
    "from gensim.models import KeyedVectors\n",
    "filename = '../../word-embeddings/GoogleNews-vectors-negative300.bin.gz'\n",
    "model = KeyedVectors.load_word2vec_format(filename, binary=True)"
   ]
  },
  {
   "cell_type": "markdown",
   "id": "asian-nashville",
   "metadata": {},
   "source": [
    "Queen = (King - Man) + Woman"
   ]
  },
  {
   "cell_type": "code",
   "execution_count": 28,
   "id": "proof-attempt",
   "metadata": {},
   "outputs": [
    {
     "name": "stdout",
     "output_type": "stream",
     "text": [
      "[('queen', 0.7118192911148071)]\n"
     ]
    }
   ],
   "source": [
    "result = model.most_similar(positive=['woman', 'king'], negative=['man'], topn=1)\n",
    "print(result)"
   ]
  },
  {
   "cell_type": "markdown",
   "id": "liquid-shepherd",
   "metadata": {},
   "source": [
    "Actress = (Actor - Man) + Woman"
   ]
  },
  {
   "cell_type": "code",
   "execution_count": 37,
   "id": "dirty-retro",
   "metadata": {},
   "outputs": [
    {
     "name": "stdout",
     "output_type": "stream",
     "text": [
      "[('actress', 0.860262393951416)]\n"
     ]
    }
   ],
   "source": [
    "result = model.most_similar(positive=['woman', 'actor'], negative=['man'], topn=1)\n",
    "print(result)"
   ]
  },
  {
   "cell_type": "markdown",
   "id": "polyphonic-weekly",
   "metadata": {},
   "source": [
    "___Cosine Similarity: word vs word___\n",
    "\n",
    "Compute cosine similarity between two words."
   ]
  },
  {
   "cell_type": "code",
   "execution_count": 48,
   "id": "preceding-physics",
   "metadata": {},
   "outputs": [
    {
     "data": {
      "text/plain": [
       "0.73135483"
      ]
     },
     "execution_count": 48,
     "metadata": {},
     "output_type": "execute_result"
    }
   ],
   "source": [
    "model.similarity('soccer','football')"
   ]
  },
  {
   "cell_type": "code",
   "execution_count": 49,
   "id": "received-mounting",
   "metadata": {},
   "outputs": [
    {
     "data": {
      "text/plain": [
       "0.035605885"
      ]
     },
     "execution_count": 49,
     "metadata": {},
     "output_type": "execute_result"
    }
   ],
   "source": [
    "model.similarity('king','water')"
   ]
  },
  {
   "cell_type": "markdown",
   "id": "korean-cruise",
   "metadata": {},
   "source": [
    "___Cosine Similarity: list of words vs list of words___\n",
    "\n",
    "Compute cosine similarity between two sets of words."
   ]
  },
  {
   "cell_type": "code",
   "execution_count": 51,
   "id": "sharp-valley",
   "metadata": {},
   "outputs": [
    {
     "data": {
      "text/plain": [
       "0.70668525"
      ]
     },
     "execution_count": 51,
     "metadata": {},
     "output_type": "execute_result"
    }
   ],
   "source": [
    "model.n_similarity(['soccer','team'],['football','match'])"
   ]
  },
  {
   "cell_type": "markdown",
   "id": "essential-chamber",
   "metadata": {},
   "source": [
    "___Word Mover's Distance between two documents___"
   ]
  },
  {
   "cell_type": "code",
   "execution_count": 56,
   "id": "perfect-apparatus",
   "metadata": {},
   "outputs": [
    {
     "name": "stdout",
     "output_type": "stream",
     "text": [
      "3.3741233214730024\n"
     ]
    }
   ],
   "source": [
    "# Some sentences to test.\n",
    "sentence_obama = 'Obama speaks to the media in Illinois'.lower().split()\n",
    "sentence_president = 'The president greets the press in Chicago'.lower().split()\n",
    "# Remove their stopwords.\n",
    "from nltk.corpus import stopwords\n",
    "stopwords = stopwords.words('english')\n",
    "sentence_obama = [w for w in sentence_obama if w not in stopwords]\n",
    "sentence_president = [w for w in sentence_president if w not in stopwords]\n",
    "# Compute WMD.\n",
    "distance = model.wmdistance(sentence_obama, sentence_president)\n",
    "print(distance)"
   ]
  },
  {
   "cell_type": "markdown",
   "id": "based-cassette",
   "metadata": {},
   "source": [
    "## 4. Standford's GloVe Embedding\n",
    "- [Documentation](https://nlp.stanford.edu/projects/glove/)\n",
    "- Es el algoritmo de word embedding desarrollado por la universidad de Stanford\n",
    "- Puedes descargar el algoritmo pre-entrenado y cargarlo en gensim\n",
    "- El primer paso es convertir el fichero GloVe al formato Word2Vec"
   ]
  },
  {
   "cell_type": "code",
   "execution_count": 61,
   "id": "split-spokesman",
   "metadata": {},
   "outputs": [
    {
     "data": {
      "text/plain": [
       "(400000, 100)"
      ]
     },
     "execution_count": 61,
     "metadata": {},
     "output_type": "execute_result"
    }
   ],
   "source": [
    "from gensim.scripts.glove2word2vec import glove2word2vec\n",
    "glove_input_file = '../../word-embeddings/glove.6B.100d.txt'\n",
    "word2vec_output_file = 'glove.6B.100d.txt.word2vec'\n",
    "glove2word2vec(glove_input_file, word2vec_output_file)"
   ]
  },
  {
   "cell_type": "code",
   "execution_count": 63,
   "id": "cutting-consumer",
   "metadata": {},
   "outputs": [],
   "source": [
    "from gensim.models import KeyedVectors\n",
    "# load the Stanford GloVe model\n",
    "filename = 'glove.6B.100d.txt.word2vec'\n",
    "model_gl = KeyedVectors.load_word2vec_format(filename, binary=False)"
   ]
  },
  {
   "cell_type": "markdown",
   "id": "revised-commissioner",
   "metadata": {},
   "source": [
    "Calculate: (king - man) + woman = ?"
   ]
  },
  {
   "cell_type": "code",
   "execution_count": 64,
   "id": "ordinary-directory",
   "metadata": {},
   "outputs": [
    {
     "name": "stdout",
     "output_type": "stream",
     "text": [
      "[('queen', 0.7698541283607483)]\n"
     ]
    }
   ],
   "source": [
    "result = model_gl.most_similar(positive=['woman', 'king'], negative=['man'], topn=1)\n",
    "print(result)"
   ]
  },
  {
   "cell_type": "markdown",
   "id": "binary-tactics",
   "metadata": {},
   "source": [
    "___Cosine Similarity: word vs word___\n",
    "\n",
    "Compute cosine similarity between two words."
   ]
  },
  {
   "cell_type": "code",
   "execution_count": 65,
   "id": "presidential-adjustment",
   "metadata": {},
   "outputs": [
    {
     "data": {
      "text/plain": [
       "0.8732221"
      ]
     },
     "execution_count": 65,
     "metadata": {},
     "output_type": "execute_result"
    }
   ],
   "source": [
    "model_gl.similarity('soccer','football')"
   ]
  },
  {
   "cell_type": "code",
   "execution_count": 66,
   "id": "developing-hours",
   "metadata": {},
   "outputs": [
    {
     "data": {
      "text/plain": [
       "0.25714418"
      ]
     },
     "execution_count": 66,
     "metadata": {},
     "output_type": "execute_result"
    }
   ],
   "source": [
    "model_gl.similarity('king','water')"
   ]
  },
  {
   "cell_type": "markdown",
   "id": "infrared-chorus",
   "metadata": {},
   "source": [
    "___Cosine Similarity: list of words vs list of words___\n",
    "\n",
    "Compute cosine similarity between two sets of words."
   ]
  },
  {
   "cell_type": "code",
   "execution_count": 67,
   "id": "reserved-statement",
   "metadata": {},
   "outputs": [
    {
     "data": {
      "text/plain": [
       "0.8874296"
      ]
     },
     "execution_count": 67,
     "metadata": {},
     "output_type": "execute_result"
    }
   ],
   "source": [
    "model_gl.n_similarity(['soccer','team'],['football','match'])"
   ]
  },
  {
   "cell_type": "markdown",
   "id": "through-trail",
   "metadata": {},
   "source": [
    "___Word Mover's Distance between two documents___"
   ]
  },
  {
   "cell_type": "code",
   "execution_count": 68,
   "id": "acute-contrast",
   "metadata": {},
   "outputs": [
    {
     "name": "stdout",
     "output_type": "stream",
     "text": [
      "5.004111539999365\n"
     ]
    }
   ],
   "source": [
    "# Some sentences to test.\n",
    "sentence_obama = 'Obama speaks to the media in Illinois'.lower().split()\n",
    "sentence_president = 'The president greets the press in Chicago'.lower().split()\n",
    "# Remove their stopwords.\n",
    "from nltk.corpus import stopwords\n",
    "stopwords = stopwords.words('english')\n",
    "sentence_obama = [w for w in sentence_obama if w not in stopwords]\n",
    "sentence_president = [w for w in sentence_president if w not in stopwords]\n",
    "# Compute WMD.\n",
    "distance = model_gl.wmdistance(sentence_obama, sentence_president)\n",
    "print(distance)"
   ]
  },
  {
   "cell_type": "markdown",
   "id": "polar-series",
   "metadata": {},
   "source": [
    "## 5. Plot a list of words from Google Pretrained model"
   ]
  },
  {
   "cell_type": "code",
   "execution_count": 91,
   "id": "centered-catalyst",
   "metadata": {},
   "outputs": [
    {
     "data": {
      "image/png": "[encoded data removed]",
      "text/plain": [
       "<Figure size 432x288 with 1 Axes>"
      ]
     },
     "metadata": {
      "needs_background": "light"
     },
     "output_type": "display_data"
    }
   ],
   "source": [
    "from sklearn.decomposition import PCA\n",
    "import matplotlib.pyplot as plt\n",
    "\n",
    "# PCA\n",
    "lista = ['king','queen','knight','castle','president','horse','crown','football','goal','politician','battles','princess','prince','match','palace','warrior','duke','kingdom']\n",
    "X = model[lista]\n",
    "pca = PCA(n_components=2)\n",
    "result = pca.fit_transform(X)\n",
    "\n",
    "# Plot\n",
    "plt.scatter(result[:, 0], result[:, 1])\n",
    "words = lista\n",
    "for i, word in enumerate(words):\n",
    "\tplt.annotate(word, xy=(result[i, 0], result[i, 1]))"
   ]
  },
  {
   "cell_type": "code",
   "execution_count": null,
   "id": "higher-windows",
   "metadata": {},
   "outputs": [],
   "source": []
  }
 ],
 "metadata": {
  "kernelspec": {
   "display_name": "Python 3",
   "language": "python",
   "name": "python3"
  },
  "language_info": {
   "codemirror_mode": {
    "name": "ipython",
    "version": 3
   },
   "file_extension": ".py",
   "mimetype": "text/x-python",
   "name": "python",
   "nbconvert_exporter": "python",
   "pygments_lexer": "ipython3",
   "version": "3.8.5"
  }
 },
 "nbformat": 4,
 "nbformat_minor": 5
}
