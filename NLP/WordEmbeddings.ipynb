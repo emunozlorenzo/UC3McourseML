{
 "cells": [
  {
   "cell_type": "markdown",
   "id": "sustained-cassette",
   "metadata": {},
   "source": [
    "# Word Embeddings in Python with Gensim"
   ]
  },
  {
   "cell_type": "markdown",
   "id": "close-watts",
   "metadata": {},
   "source": [
    "## 1. Desarrollo de un Word2Vec Embedding\n",
    "- Word2Vec es un algoritmo que usa un modelo de red neuronal para aprender asociaciones de palabras desde un Corpus de Texto.\n",
    "- Una vez entrenado, el modelo puede detectar sinónimos o sugerir palabras.\n",
    "- Word2Vec representa cada palabra con un vector"
   ]
  },
  {
   "cell_type": "markdown",
   "id": "charitable-arabic",
   "metadata": {},
   "source": [
    "### Ejemplo con un pequeño corpus"
   ]
  },
  {
   "cell_type": "code",
   "execution_count": 5,
   "id": "partial-layout",
   "metadata": {},
   "outputs": [
    {
     "name": "stdout",
     "output_type": "stream",
     "text": [
      "Word2Vec(vocab=21, size=100, alpha=0.025)\n",
      "['the', 'football', 'player', 'scored', 'a', 'goal', 'match', 'was', 'amazing', 'one', 'in', 'more', 'soccer', 'and', 'final', 'of', 'great', 'this', 'two', 'goals', 'yesterday']\n",
      "Vector for the word sentence:\n",
      "[-4.4290051e-03  2.2959362e-03 -2.2272498e-03  1.7364552e-03\n",
      "  2.6734751e-03  2.0236806e-03  4.7945627e-03  1.9240542e-03\n",
      "  3.1961200e-03  3.9337897e-03  4.6177336e-04  2.6410953e-03\n",
      "  1.0091049e-03 -2.4152431e-03 -4.4985660e-03  1.2949981e-03\n",
      "  1.3202067e-03  1.9090215e-04 -4.7653550e-03  1.1049830e-04\n",
      "  1.2755815e-03  3.6595529e-03 -1.8608420e-03 -2.8943605e-05\n",
      " -4.1538216e-03  2.9944826e-03  2.1820446e-03 -2.5187817e-03\n",
      " -2.1155700e-03  2.7887984e-03 -4.7031310e-03  3.3410040e-03\n",
      "  4.2098612e-03 -1.6579275e-03 -4.8997102e-04  7.3885015e-04\n",
      "  1.7437880e-03 -1.8380319e-03 -2.5389951e-03 -9.6084172e-05\n",
      "  2.5308323e-03  9.4806615e-05 -2.4284411e-03 -1.4037705e-05\n",
      "  2.8775835e-03  4.4035241e-03  5.0516694e-04  3.3205133e-03\n",
      "  2.2423898e-03 -1.5235019e-03  2.9833363e-03  4.1402327e-03\n",
      " -2.5897913e-03  5.1742618e-04  1.4500768e-03 -3.3137889e-03\n",
      "  3.0464302e-03  1.4864495e-03 -7.1864063e-04 -3.5363639e-04\n",
      " -8.2491699e-04 -5.2535482e-04 -1.1062954e-03 -1.7498145e-03\n",
      "  4.2719953e-03 -1.8834799e-03  1.1113081e-03  4.0002917e-03\n",
      "  3.6726377e-03  2.4855414e-03 -1.7933443e-03 -4.6588606e-03\n",
      " -4.5791049e-03  4.3859784e-04  7.4798142e-04  4.1168675e-04\n",
      " -2.4710046e-03 -1.6303441e-03 -3.8321777e-03 -3.5677922e-03\n",
      " -4.3282309e-03 -3.2842269e-03  3.0392336e-03 -3.0865897e-03\n",
      " -2.6216463e-03  1.6578954e-03 -3.9036011e-03 -3.7057924e-03\n",
      " -1.1720697e-03  1.4329389e-03 -3.4171743e-03 -3.9818762e-03\n",
      " -1.9454443e-03  1.9036165e-03 -1.2757013e-03 -3.2755963e-03\n",
      "  1.0839169e-03  1.5417604e-04  1.4280365e-03 -1.0040069e-03]\n",
      "Word2Vec(vocab=21, size=100, alpha=0.025)\n"
     ]
    },
    {
     "name": "stderr",
     "output_type": "stream",
     "text": [
      "c:\\program files\\anaconda3\\envs\\news\\lib\\site-packages\\ipykernel_launcher.py:20: DeprecationWarning: Call to deprecated `__getitem__` (Method will be removed in 4.0.0, use self.wv.__getitem__() instead).\n"
     ]
    }
   ],
   "source": [
    "from gensim.models import Word2Vec\n",
    "# define training data\n",
    "sentences = [['the', 'football', 'player', 'scored', 'a', 'goal'],\n",
    "            ['the', 'football', 'match', 'was', 'amazing'],\n",
    "            ['the', 'player', 'scored','one','goal','in','the','match'],\n",
    "            ['one', 'more', 'goal','in','the','soccer','match'],\n",
    "            ['the','soccer','player','scored','a','goal'],\n",
    "            ['and', 'the', 'final', 'of','match'],\n",
    "            ['the','soccer','match','was','great'],\n",
    "            ['this','player','scored','two','goals','yesterday']]\n",
    "# train model: The model is trained and the minimum count for words is set to 1 so that no words are ignored. \n",
    "model = Word2Vec(sentences, min_count=1) # vector size = 100 (Default)\n",
    "# summarize the loaded model\n",
    "print(model)\n",
    "# summarize vocabulary\n",
    "words = list(model.wv.vocab)\n",
    "print(words)\n",
    "# access vector for one word\n",
    "print('Vector for the word sentence:')\n",
    "print(model['goal'])\n",
    "# save model\n",
    "model.save('model.bin')\n",
    "# load model\n",
    "new_model = Word2Vec.load('model.bin')\n",
    "print(new_model)"
   ]
  },
  {
   "cell_type": "markdown",
   "id": "northern-incident",
   "metadata": {},
   "source": [
    "## 2. Visualiza tu Word Embedding\n",
    "\n",
    "### 2.1 PCA\n",
    "- Para representar nuestro word embedding vamos a reducir la dimensionalidad de los vectores de palabras\n",
    "- Podemos usar PCA para esto"
   ]
  },
  {
   "cell_type": "code",
   "execution_count": 6,
   "id": "convenient-watch",
   "metadata": {},
   "outputs": [
    {
     "name": "stderr",
     "output_type": "stream",
     "text": [
      "c:\\program files\\anaconda3\\envs\\news\\lib\\site-packages\\ipykernel_launcher.py:5: DeprecationWarning: Call to deprecated `__getitem__` (Method will be removed in 4.0.0, use self.wv.__getitem__() instead).\n",
      "  \"\"\"\n"
     ]
    },
    {
     "data": {
      "image/png": "[encoded data removed]",
      "text/plain": [
       "<Figure size 432x288 with 1 Axes>"
      ]
     },
     "metadata": {
      "needs_background": "light"
     },
     "output_type": "display_data"
    }
   ],
   "source": [
    "from sklearn.decomposition import PCA\n",
    "import matplotlib.pyplot as plt\n",
    "\n",
    "# PCA\n",
    "X = model[model.wv.vocab]\n",
    "pca = PCA(n_components=2)\n",
    "result = pca.fit_transform(X)\n",
    "\n",
    "# Plot\n",
    "plt.scatter(result[:, 0], result[:, 1])\n",
    "words = list(model.wv.vocab)\n",
    "for i, word in enumerate(words):\n",
    "\tplt.annotate(word, xy=(result[i, 0], result[i, 1]))"
   ]
  },
  {
   "cell_type": "markdown",
   "id": "changing-candy",
   "metadata": {},
   "source": [
    "### 2.2 T-SNE\n",
    "\n",
    "Para visualizar el word2vec anterior necesitamos convertir cada embedding (tiene dimensión 50) a un espacio bidimensional. Un opción para reducir su dimensión es aplicar un PCA. Sin embargo, para la representación de los word2vec suele usarse el algoritmo t-SNE (t-distributed Stochastic Neighbor Embedding) ya que es capaz de mantener la estructura semántica o local de los datos.\n",
    "\n",
    "Para ello, el t-SNE aplica una reducción de dimensionalidad no lineal para modelar cada embedding de alta dimensión mediante un punto bidimensional o tridimensional, de manera que los objetos similares se modelen mediante puntos cercanos y los objetos disímiles se modelen mediante puntos distantes.\n",
    "\n",
    "Sklearn incluye una implementación del t-SNE que podemos usar fácilmente."
   ]
  },
  {
   "cell_type": "code",
   "execution_count": 7,
   "id": "computational-utility",
   "metadata": {},
   "outputs": [],
   "source": [
    "# Create numpy array with all word2vec\n",
    "embeddings = model.wv.vectors \n",
    "#embeddings = np.array([model.wv[w] for w in list(model.wv.vocab)])\n",
    "embeddings[0,:]\n",
    "\n",
    "from sklearn.manifold import TSNE\n",
    "\n",
    "tsne = TSNE()\n",
    "embed_tsne = tsne.fit_transform(embeddings)"
   ]
  },
  {
   "cell_type": "code",
   "execution_count": 8,
   "id": "narrow-complex",
   "metadata": {},
   "outputs": [
    {
     "data": {
      "image/png": "[encoded data removed]",
      "text/plain": [
       "<Figure size 1152x1152 with 1 Axes>"
      ]
     },
     "metadata": {
      "needs_background": "light"
     },
     "output_type": "display_data"
    }
   ],
   "source": [
    "fig, ax = plt.subplots(figsize=(16, 16))\n",
    "for idx, word in enumerate((model.wv.vocab)):\n",
    "    plt.scatter(*embed_tsne[idx, :], color='steelblue')\n",
    "    plt.annotate(word, (embed_tsne[idx, 0], embed_tsne[idx, 1]), alpha=0.7)"
   ]
  },
  {
   "cell_type": "markdown",
   "id": "extensive-trinidad",
   "metadata": {},
   "source": [
    "## 3. Google Word2Vec Embedding\n",
    "- [Documentation](https://code.google.com/archive/p/word2vec/)\n",
    "- Entrenar tu modelo con tu propio corpus puede ser la mejor aproximación a un problema de NLP. Pero requiere mucho tiempo y ordenadores potentes\n",
    "- Una alternativa es usar modelos pre-entrenados de word embedding\n",
    "- Un modelo pre-entrenado es un archivo que contiene tokens asociados con vectores de palabras\n",
    "- Google Word2Vec News Data Model contiene 3 millones de palabras y usa 300 size vectors (1,5GB!)"
   ]
  },
  {
   "cell_type": "code",
   "execution_count": 9,
   "id": "sustainable-breakdown",
   "metadata": {},
   "outputs": [],
   "source": [
    "from gensim.models import KeyedVectors\n",
    "filename = '../../word-embeddings/GoogleNews-vectors-negative300.bin.gz'\n",
    "model = KeyedVectors.load_word2vec_format(filename, binary=True)"
   ]
  },
  {
   "cell_type": "markdown",
   "id": "forbidden-sugar",
   "metadata": {},
   "source": [
    "Queen = (King - Man) + Woman"
   ]
  },
  {
   "cell_type": "code",
   "execution_count": 10,
   "id": "hundred-chambers",
   "metadata": {},
   "outputs": [
    {
     "name": "stdout",
     "output_type": "stream",
     "text": [
      "[('queen', 0.7118192911148071)]\n"
     ]
    }
   ],
   "source": [
    "result = model.most_similar(positive=['woman', 'king'], negative=['man'], topn=1)\n",
    "print(result)"
   ]
  },
  {
   "cell_type": "markdown",
   "id": "three-duncan",
   "metadata": {},
   "source": [
    "Actress = (Actor - Man) + Woman"
   ]
  },
  {
   "cell_type": "code",
   "execution_count": 11,
   "id": "opposite-minister",
   "metadata": {},
   "outputs": [
    {
     "name": "stdout",
     "output_type": "stream",
     "text": [
      "[('actress', 0.860262393951416)]\n"
     ]
    }
   ],
   "source": [
    "result = model.most_similar(positive=['woman', 'actor'], negative=['man'], topn=1)\n",
    "print(result)"
   ]
  },
  {
   "cell_type": "markdown",
   "id": "aboriginal-hormone",
   "metadata": {},
   "source": [
    "___Cosine Similarity: word vs word___\n",
    "\n",
    "Compute cosine similarity between two words."
   ]
  },
  {
   "cell_type": "code",
   "execution_count": 12,
   "id": "informative-giving",
   "metadata": {},
   "outputs": [
    {
     "data": {
      "text/plain": [
       "0.73135483"
      ]
     },
     "execution_count": 12,
     "metadata": {},
     "output_type": "execute_result"
    }
   ],
   "source": [
    "model.similarity('soccer','football')"
   ]
  },
  {
   "cell_type": "code",
   "execution_count": 13,
   "id": "restricted-linux",
   "metadata": {},
   "outputs": [
    {
     "data": {
      "text/plain": [
       "0.035605885"
      ]
     },
     "execution_count": 13,
     "metadata": {},
     "output_type": "execute_result"
    }
   ],
   "source": [
    "model.similarity('king','water')"
   ]
  },
  {
   "cell_type": "markdown",
   "id": "dressed-constraint",
   "metadata": {},
   "source": [
    "___Cosine Similarity: list of words vs list of words___\n",
    "\n",
    "Compute cosine similarity between two sets of words."
   ]
  },
  {
   "cell_type": "code",
   "execution_count": 14,
   "id": "final-scientist",
   "metadata": {},
   "outputs": [
    {
     "data": {
      "text/plain": [
       "0.70668525"
      ]
     },
     "execution_count": 14,
     "metadata": {},
     "output_type": "execute_result"
    }
   ],
   "source": [
    "model.n_similarity(['soccer','team'],['football','match'])"
   ]
  },
  {
   "cell_type": "markdown",
   "id": "relevant-valuable",
   "metadata": {},
   "source": [
    "___Word Mover's Distance between two documents___"
   ]
  },
  {
   "cell_type": "code",
   "execution_count": null,
   "id": "naval-grain",
   "metadata": {},
   "outputs": [],
   "source": [
    "# Some sentences to test.\n",
    "sentence_obama = 'Obama speaks to the media in Illinois'.lower().split()\n",
    "sentence_president = 'The president greets the press in Chicago'.lower().split()\n",
    "# Remove their stopwords.\n",
    "from nltk.corpus import stopwords\n",
    "stopwords = stopwords.words('english')\n",
    "sentence_obama = [w for w in sentence_obama if w not in stopwords]\n",
    "sentence_president = [w for w in sentence_president if w not in stopwords]\n",
    "# Compute WMD.\n",
    "distance = model.wmdistance(sentence_obama, sentence_president)\n",
    "print(distance)"
   ]
  },
  {
   "cell_type": "markdown",
   "id": "confident-cliff",
   "metadata": {},
   "source": [
    "## 4. Standford's GloVe Embedding\n",
    "- [Documentation](https://nlp.stanford.edu/projects/glove/)\n",
    "- Es el algoritmo de word embedding desarrollado por la universidad de Stanford\n",
    "- Puedes descargar el algoritmo pre-entrenado y cargarlo en gensim\n",
    "- El primer paso es convertir el fichero GloVe al formato Word2Vec"
   ]
  },
  {
   "cell_type": "code",
   "execution_count": 61,
   "id": "tamil-university",
   "metadata": {},
   "outputs": [
    {
     "data": {
      "text/plain": [
       "(400000, 100)"
      ]
     },
     "execution_count": 61,
     "metadata": {},
     "output_type": "execute_result"
    }
   ],
   "source": [
    "from gensim.scripts.glove2word2vec import glove2word2vec\n",
    "glove_input_file = '../../word-embeddings/glove.6B.100d.txt'\n",
    "word2vec_output_file = 'glove.6B.100d.txt.word2vec'\n",
    "glove2word2vec(glove_input_file, word2vec_output_file)"
   ]
  },
  {
   "cell_type": "code",
   "execution_count": 63,
   "id": "electrical-admission",
   "metadata": {},
   "outputs": [],
   "source": [
    "from gensim.models import KeyedVectors\n",
    "# load the Stanford GloVe model\n",
    "filename = 'glove.6B.100d.txt.word2vec'\n",
    "model_gl = KeyedVectors.load_word2vec_format(filename, binary=False)"
   ]
  },
  {
   "cell_type": "markdown",
   "id": "detailed-objective",
   "metadata": {},
   "source": [
    "Calculate: (king - man) + woman = ?"
   ]
  },
  {
   "cell_type": "code",
   "execution_count": 64,
   "id": "patient-summer",
   "metadata": {},
   "outputs": [
    {
     "name": "stdout",
     "output_type": "stream",
     "text": [
      "[('queen', 0.7698541283607483)]\n"
     ]
    }
   ],
   "source": [
    "result = model_gl.most_similar(positive=['woman', 'king'], negative=['man'], topn=1)\n",
    "print(result)"
   ]
  },
  {
   "cell_type": "markdown",
   "id": "opposite-harris",
   "metadata": {},
   "source": [
    "___Cosine Similarity: word vs word___\n",
    "\n",
    "Compute cosine similarity between two words."
   ]
  },
  {
   "cell_type": "code",
   "execution_count": 65,
   "id": "assured-funeral",
   "metadata": {},
   "outputs": [
    {
     "data": {
      "text/plain": [
       "0.8732221"
      ]
     },
     "execution_count": 65,
     "metadata": {},
     "output_type": "execute_result"
    }
   ],
   "source": [
    "model_gl.similarity('soccer','football')"
   ]
  },
  {
   "cell_type": "code",
   "execution_count": 66,
   "id": "going-explanation",
   "metadata": {},
   "outputs": [
    {
     "data": {
      "text/plain": [
       "0.25714418"
      ]
     },
     "execution_count": 66,
     "metadata": {},
     "output_type": "execute_result"
    }
   ],
   "source": [
    "model_gl.similarity('king','water')"
   ]
  },
  {
   "cell_type": "markdown",
   "id": "affiliated-lewis",
   "metadata": {},
   "source": [
    "___Cosine Similarity: list of words vs list of words___\n",
    "\n",
    "Compute cosine similarity between two sets of words."
   ]
  },
  {
   "cell_type": "code",
   "execution_count": 67,
   "id": "informative-korean",
   "metadata": {},
   "outputs": [
    {
     "data": {
      "text/plain": [
       "0.8874296"
      ]
     },
     "execution_count": 67,
     "metadata": {},
     "output_type": "execute_result"
    }
   ],
   "source": [
    "model_gl.n_similarity(['soccer','team'],['football','match'])"
   ]
  },
  {
   "cell_type": "markdown",
   "id": "skilled-poultry",
   "metadata": {},
   "source": [
    "___Word Mover's Distance between two documents___"
   ]
  },
  {
   "cell_type": "code",
   "execution_count": 68,
   "id": "gothic-halloween",
   "metadata": {},
   "outputs": [
    {
     "name": "stdout",
     "output_type": "stream",
     "text": [
      "5.004111539999365\n"
     ]
    }
   ],
   "source": [
    "# Some sentences to test.\n",
    "sentence_obama = 'Obama speaks to the media in Illinois'.lower().split()\n",
    "sentence_president = 'The president greets the press in Chicago'.lower().split()\n",
    "# Remove their stopwords.\n",
    "from nltk.corpus import stopwords\n",
    "stopwords = stopwords.words('english')\n",
    "sentence_obama = [w for w in sentence_obama if w not in stopwords]\n",
    "sentence_president = [w for w in sentence_president if w not in stopwords]\n",
    "# Compute WMD.\n",
    "distance = model_gl.wmdistance(sentence_obama, sentence_president)\n",
    "print(distance)"
   ]
  },
  {
   "cell_type": "markdown",
   "id": "upper-jersey",
   "metadata": {},
   "source": [
    "## 5. Plot a list of words from Google Pretrained model"
   ]
  },
  {
   "cell_type": "code",
   "execution_count": 17,
   "id": "palestinian-breathing",
   "metadata": {},
   "outputs": [
    {
     "data": {
      "image/png": "[encoded data removed]",
      "text/plain": [
       "<Figure size 432x288 with 1 Axes>"
      ]
     },
     "metadata": {
      "needs_background": "light"
     },
     "output_type": "display_data"
    }
   ],
   "source": [
    "from sklearn.decomposition import PCA\n",
    "import matplotlib.pyplot as plt\n",
    "\n",
    "# PCA\n",
    "lista = ['king','queen','prince','princess','president','senator','bmw','mercedes','ferrari','obama']\n",
    "X = model[lista]\n",
    "pca = PCA(n_components=2)\n",
    "result = pca.fit_transform(X)\n",
    "\n",
    "# Plot\n",
    "plt.scatter(result[:, 0], result[:, 1])\n",
    "words = lista\n",
    "for i, word in enumerate(words):\n",
    "\tplt.annotate(word, xy=(result[i, 0], result[i, 1]))"
   ]
  }
 ],
 "metadata": {
  "kernelspec": {
   "display_name": "Python 3",
   "language": "python",
   "name": "python3"
  },
  "language_info": {
   "codemirror_mode": {
    "name": "ipython",
    "version": 3
   },
   "file_extension": ".py",
   "mimetype": "text/x-python",
   "name": "python",
   "nbconvert_exporter": "python",
   "pygments_lexer": "ipython3",
   "version": "3.6.12"
  }
 },
 "nbformat": 4,
 "nbformat_minor": 5
}
